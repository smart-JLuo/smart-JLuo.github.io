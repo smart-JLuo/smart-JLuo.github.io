{
  "nbformat": 4,
  "nbformat_minor": 0,
  "metadata": {
    "colab": {
      "provenance": [],
      "gpuType": "T4",
      "collapsed_sections": [
        "DcJb_l8fjEC4",
        "oqBmNVzclmpa",
        "ran8ZjTcNz7E",
        "aH_N9h87N2i-",
        "V-DpLvxywaEQ",
        "0ln2xw_fhxOS",
        "6rvYJdtPkI-i",
        "oExGPlYOlwcD",
        "hbCHy23Jnv6c",
        "S1mYFX_coTQ3",
        "v2qlW7VCoXjk",
        "4wHCG18Bo0ZO",
        "xVyTOkm5pysO",
        "E_AiAowYrngg",
        "KLPVrsNytKYm",
        "etLH5PmLuxoK",
        "GxuEP-7SxCdb",
        "CVa86Ory85Dq",
        "BFQxTfcQAuVM",
        "z1QZfO0gCb_g",
        "8RwWtasIGBFG",
        "5uVLZd0cC66o",
        "PHhmYdK1InVO",
        "H3QTvvUdDjSA",
        "2h9CAv9qtgDC"
      ]
    },
    "kernelspec": {
      "name": "python3",
      "display_name": "Python 3"
    },
    "language_info": {
      "name": "python"
    }
  },
  "cells": [
    {
      "cell_type": "code",
      "source": [
        "%cd -"
      ],
      "metadata": {
        "colab": {
          "base_uri": "https://localhost:8080/"
        },
        "id": "v3RVpjv3rekB",
        "outputId": "477bdac7-f2d1-431a-efb1-b663b7af1e59"
      },
      "execution_count": null,
      "outputs": [
        {
          "output_type": "stream",
          "name": "stdout",
          "text": [
            "/content\n"
          ]
        }
      ]
    },
    {
      "cell_type": "code",
      "source": [
        "!pwd"
      ],
      "metadata": {
        "colab": {
          "base_uri": "https://localhost:8080/"
        },
        "id": "V2fBHdThrsSa",
        "outputId": "661699a1-fd53-48f3-c779-080efd19b715"
      },
      "execution_count": null,
      "outputs": [
        {
          "output_type": "stream",
          "name": "stdout",
          "text": [
            "/content\n"
          ]
        }
      ]
    },
    {
      "cell_type": "code",
      "source": [
        "%cd drive/MyDrive/ams_595_python_teaching"
      ],
      "metadata": {
        "colab": {
          "base_uri": "https://localhost:8080/"
        },
        "id": "gGKmId6xWUrX",
        "outputId": "a9f3f3f6-245b-421d-ad55-2c3a42a7da71"
      },
      "execution_count": null,
      "outputs": [
        {
          "output_type": "stream",
          "name": "stdout",
          "text": [
            "/content/drive/MyDrive/ams_595_python_teaching\n"
          ]
        }
      ]
    },
    {
      "cell_type": "markdown",
      "source": [
        "# **Lecture 8 Introduction to Sympy**"
      ],
      "metadata": {
        "id": "Wol2mq6nMxo1"
      }
    },
    {
      "cell_type": "markdown",
      "source": [
        "##Introduction"
      ],
      "metadata": {
        "id": "ran8ZjTcNz7E"
      }
    },
    {
      "cell_type": "markdown",
      "source": [
        "There are two notable Python-based Computer Algebra Systems (CAS):\n",
        "\n",
        "- SymPy: A Python module applicable in any Python program or IPython session, providing robust CAS capabilities.\n",
        "- Sage: A comprehensive and robust CAS environment striving to establish an open-source system rivaling Mathematica and Maple. Notably, Sage operates not merely as a standard Python module but as a CAS environment utilizing Python as its programming language.\n",
        "- Sage, surpassing SymPy in certain aspects, and both offering extensive CAS functionality. SymPy holds the advantage of being a regular Python module, seamlessly integrating with notebooks.\n",
        "\n",
        "Consequently, in this lecture, we will explore the usage of SymPy. If you are keen on an open-source CAS environment, I suggest delving deeper into Sage.\n"
      ],
      "metadata": {
        "id": "nLDjRXa-M7Hm"
      }
    },
    {
      "cell_type": "code",
      "source": [
        "from sympy import *"
      ],
      "metadata": {
        "id": "hIqx04dxNMU6"
      },
      "execution_count": null,
      "outputs": []
    },
    {
      "cell_type": "markdown",
      "source": [
        "To get nice-looking  LATEX  formatted output run:"
      ],
      "metadata": {
        "id": "vyfUU3rVNl_V"
      }
    },
    {
      "cell_type": "code",
      "source": [
        "init_printing()"
      ],
      "metadata": {
        "id": "jFdEg2EQNuoR"
      },
      "execution_count": null,
      "outputs": []
    },
    {
      "cell_type": "code",
      "source": [
        "print(pi)"
      ],
      "metadata": {
        "colab": {
          "base_uri": "https://localhost:8080/"
        },
        "id": "nJFE7qnLgw0n",
        "outputId": "cc67dbb3-e8ee-4be1-dde2-91ce1e783db7"
      },
      "execution_count": null,
      "outputs": [
        {
          "output_type": "stream",
          "name": "stdout",
          "text": [
            "pi\n"
          ]
        }
      ]
    },
    {
      "cell_type": "code",
      "source": [
        "pi"
      ],
      "metadata": {
        "colab": {
          "base_uri": "https://localhost:8080/",
          "height": 39
        },
        "id": "AcytL7QKgzkQ",
        "outputId": "d6a35167-439a-4b9b-f67d-533f68a4533f"
      },
      "execution_count": null,
      "outputs": [
        {
          "output_type": "execute_result",
          "data": {
            "text/plain": [
              "π"
            ],
            "text/latex": "$\\displaystyle \\pi$"
          },
          "metadata": {},
          "execution_count": 7
        }
      ]
    },
    {
      "cell_type": "markdown",
      "source": [
        "## Symbolic variables"
      ],
      "metadata": {
        "id": "aH_N9h87N2i-"
      }
    },
    {
      "cell_type": "markdown",
      "source": [
        "In SymPy we need to create symbols for the variables we want to work with. We can create a new symbol using the `Symbol` class:"
      ],
      "metadata": {
        "id": "JmtJAKRwN78T"
      }
    },
    {
      "cell_type": "code",
      "source": [
        "x = Symbol('x')"
      ],
      "metadata": {
        "id": "UWIp6lA8fjqH"
      },
      "execution_count": null,
      "outputs": []
    },
    {
      "cell_type": "code",
      "source": [
        "type(x)"
      ],
      "metadata": {
        "colab": {
          "base_uri": "https://localhost:8080/"
        },
        "id": "sZxZYtkkfz2_",
        "outputId": "6d91c325-c1a1-4718-bee0-fe115925c0c8"
      },
      "execution_count": null,
      "outputs": [
        {
          "output_type": "execute_result",
          "data": {
            "text/plain": [
              "sympy.core.symbol.Symbol"
            ]
          },
          "metadata": {},
          "execution_count": 10
        }
      ]
    },
    {
      "cell_type": "code",
      "source": [
        "(pi + x)**2"
      ],
      "metadata": {
        "colab": {
          "base_uri": "https://localhost:8080/",
          "height": 39
        },
        "id": "TqvPGtAOfm2u",
        "outputId": "7bd46082-2f5d-499d-d12e-d0e680c3b37e"
      },
      "execution_count": null,
      "outputs": [
        {
          "output_type": "execute_result",
          "data": {
            "text/plain": [
              "       2\n",
              "(x + π) "
            ],
            "text/latex": "$\\displaystyle \\left(x + \\pi\\right)^{2}$"
          },
          "metadata": {},
          "execution_count": 12
        }
      ]
    },
    {
      "cell_type": "code",
      "source": [
        "# we can define more than one variable at once\n",
        "a, b, c = symbols(\"a, b, c\")"
      ],
      "metadata": {
        "id": "vXdhA1krfqoP"
      },
      "execution_count": null,
      "outputs": []
    },
    {
      "cell_type": "markdown",
      "source": [
        "We can add assumptions to symbols when we create them:"
      ],
      "metadata": {
        "id": "O4roA9dAf7zv"
      }
    },
    {
      "cell_type": "code",
      "source": [
        "x = Symbol('x', real=True)\n",
        "print(x.is_imaginary)  # what the output will be for print(x.is_complex)\n",
        "x = Symbol('x', positive=True)\n",
        "print(x < 0)\n",
        "print(x == 0)\n",
        "print(x > 0)"
      ],
      "metadata": {
        "colab": {
          "base_uri": "https://localhost:8080/"
        },
        "id": "C3uOlMzqf9Ww",
        "outputId": "655229b6-6e7c-42da-87b0-eaefe1bd82ba"
      },
      "execution_count": null,
      "outputs": [
        {
          "output_type": "stream",
          "name": "stdout",
          "text": [
            "False\n",
            "False\n",
            "False\n",
            "True\n"
          ]
        }
      ]
    },
    {
      "cell_type": "markdown",
      "source": [
        "The imaginary units are denoted by I in SymPy."
      ],
      "metadata": {
        "id": "2B9fBn-RgXAp"
      }
    },
    {
      "cell_type": "code",
      "source": [
        "1+1*I"
      ],
      "metadata": {
        "colab": {
          "base_uri": "https://localhost:8080/",
          "height": 39
        },
        "id": "454CSJh5gYDx",
        "outputId": "8fe34f9e-91c5-48c8-a646-a8c1df833a57"
      },
      "execution_count": null,
      "outputs": [
        {
          "output_type": "execute_result",
          "data": {
            "text/plain": [
              "1 + ⅈ"
            ],
            "text/latex": "$\\displaystyle 1 + i$"
          },
          "metadata": {},
          "execution_count": 15
        }
      ]
    },
    {
      "cell_type": "code",
      "source": [
        "I**2"
      ],
      "metadata": {
        "colab": {
          "base_uri": "https://localhost:8080/",
          "height": 37
        },
        "id": "X48vUg6ygb94",
        "outputId": "340f7442-db93-4f36-d1af-ea3a137d9337"
      },
      "execution_count": null,
      "outputs": [
        {
          "output_type": "execute_result",
          "data": {
            "text/plain": [
              "-1"
            ],
            "text/latex": "$\\displaystyle -1$"
          },
          "metadata": {},
          "execution_count": 16
        }
      ]
    },
    {
      "cell_type": "code",
      "source": [
        "I**3 + x"
      ],
      "metadata": {
        "colab": {
          "base_uri": "https://localhost:8080/",
          "height": 39
        },
        "id": "wujKK7aQgr-Y",
        "outputId": "7e2789bc-185d-4579-92c3-c04fb92cebed"
      },
      "execution_count": null,
      "outputs": [
        {
          "output_type": "execute_result",
          "data": {
            "text/plain": [
              "x - ⅈ"
            ],
            "text/latex": "$\\displaystyle x - i$"
          },
          "metadata": {},
          "execution_count": 17
        }
      ]
    },
    {
      "cell_type": "markdown",
      "source": [
        "There are three different numerical types in SymPy: `Real`, `Rational`, `Integer`:"
      ],
      "metadata": {
        "id": "osy61F2XhgOA"
      }
    },
    {
      "cell_type": "code",
      "source": [
        "f1 = Rational(4,5)\n",
        "f2 = Rational(4,7)"
      ],
      "metadata": {
        "id": "hfBSxbIVhibR"
      },
      "execution_count": null,
      "outputs": []
    },
    {
      "cell_type": "code",
      "source": [
        "f1"
      ],
      "metadata": {
        "colab": {
          "base_uri": "https://localhost:8080/",
          "height": 51
        },
        "id": "FVL4Q2cqhi0g",
        "outputId": "bd877e78-1a40-4d44-a287-7e6a4e98c69c"
      },
      "execution_count": null,
      "outputs": [
        {
          "output_type": "execute_result",
          "data": {
            "text/plain": [
              "4/5"
            ],
            "text/latex": "$\\displaystyle \\frac{4}{5}$"
          },
          "metadata": {},
          "execution_count": 19
        }
      ]
    },
    {
      "cell_type": "code",
      "source": [
        "f1 + f2"
      ],
      "metadata": {
        "colab": {
          "base_uri": "https://localhost:8080/",
          "height": 51
        },
        "id": "IH3ksHHohnQY",
        "outputId": "fce3745b-5c47-4e0b-934d-24e684b95cd9"
      },
      "execution_count": null,
      "outputs": [
        {
          "output_type": "execute_result",
          "data": {
            "text/plain": [
              "48\n",
              "──\n",
              "35"
            ],
            "text/latex": "$\\displaystyle \\frac{48}{35}$"
          },
          "metadata": {},
          "execution_count": 20
        }
      ]
    },
    {
      "cell_type": "code",
      "source": [
        "f1 *f2"
      ],
      "metadata": {
        "colab": {
          "base_uri": "https://localhost:8080/",
          "height": 51
        },
        "id": "qa8eKBFUhqCx",
        "outputId": "cf1fe6c4-8c3a-4d9b-8152-d510b0ffa4da"
      },
      "execution_count": null,
      "outputs": [
        {
          "output_type": "execute_result",
          "data": {
            "text/plain": [
              "16\n",
              "──\n",
              "35"
            ],
            "text/latex": "$\\displaystyle \\frac{16}{35}$"
          },
          "metadata": {},
          "execution_count": 21
        }
      ]
    },
    {
      "cell_type": "markdown",
      "source": [
        "## Solving Equations"
      ],
      "metadata": {
        "id": "V-DpLvxywaEQ"
      }
    },
    {
      "cell_type": "code",
      "source": [
        "x = Symbol('x')\n",
        "solve(x**2 - 1, x)"
      ],
      "metadata": {
        "colab": {
          "base_uri": "https://localhost:8080/",
          "height": 37
        },
        "id": "1l74CVCMwoC0",
        "outputId": "6ba17a79-79a3-4bd7-c515-75fc3e228244"
      },
      "execution_count": null,
      "outputs": [
        {
          "output_type": "execute_result",
          "data": {
            "text/plain": [
              "[-1, 1]"
            ],
            "text/latex": "$\\displaystyle \\left[ -1, \\  1\\right]$"
          },
          "metadata": {},
          "execution_count": 24
        }
      ]
    },
    {
      "cell_type": "code",
      "source": [
        "solve(x**3 - x**2 - 1, x)"
      ],
      "metadata": {
        "colab": {
          "base_uri": "https://localhost:8080/",
          "height": 109
        },
        "id": "S66kgQypwn98",
        "outputId": "becceb55-d42f-41ec-8075-c18c1c2c50f6"
      },
      "execution_count": null,
      "outputs": [
        {
          "output_type": "execute_result",
          "data": {
            "text/plain": [
              "⎡                     __________                                              \n",
              "⎢1   ⎛  1   √3⋅ⅈ⎞    ╱ √93   29                  1                1           \n",
              "⎢─ + ⎜- ─ - ────⎟⋅3 ╱  ─── + ──  + ─────────────────────────────, ─ + ────────\n",
              "⎢3   ⎝  2    2  ⎠ ╲╱    18   54                       __________  3           \n",
              "⎢                                    ⎛  1   √3⋅ⅈ⎞    ╱ √93   29         ⎛  1  \n",
              "⎢                                  9⋅⎜- ─ - ────⎟⋅3 ╱  ─── + ──       9⋅⎜- ─ +\n",
              "⎣                                    ⎝  2    2  ⎠ ╲╱    18   54         ⎝  2  \n",
              "\n",
              "                                         __________                           \n",
              "      1                 ⎛  1   √3⋅ⅈ⎞    ╱ √93   29          1           1     \n",
              "───────────────────── + ⎜- ─ + ────⎟⋅3 ╱  ─── + ── , ──────────────── + ─ + 3 \n",
              "           __________   ⎝  2    2  ⎠ ╲╱    18   54         __________   3   ╲╱\n",
              " √3⋅ⅈ⎞    ╱ √93   29                                      ╱ √93   29          \n",
              " ────⎟⋅3 ╱  ─── + ──                                 9⋅3 ╱  ─── + ──          \n",
              "  2  ⎠ ╲╱    18   54                                   ╲╱    18   54          \n",
              "\n",
              "  __________⎤\n",
              " ╱ √93   29 ⎥\n",
              "╱  ─── + ── ⎥\n",
              "    18   54 ⎥\n",
              "            ⎥\n",
              "            ⎥\n",
              "            ⎦"
            ],
            "text/latex": "$\\displaystyle \\left[ \\frac{1}{3} + \\left(- \\frac{1}{2} - \\frac{\\sqrt{3} i}{2}\\right) \\sqrt[3]{\\frac{\\sqrt{93}}{18} + \\frac{29}{54}} + \\frac{1}{9 \\left(- \\frac{1}{2} - \\frac{\\sqrt{3} i}{2}\\right) \\sqrt[3]{\\frac{\\sqrt{93}}{18} + \\frac{29}{54}}}, \\  \\frac{1}{3} + \\frac{1}{9 \\left(- \\frac{1}{2} + \\frac{\\sqrt{3} i}{2}\\right) \\sqrt[3]{\\frac{\\sqrt{93}}{18} + \\frac{29}{54}}} + \\left(- \\frac{1}{2} + \\frac{\\sqrt{3} i}{2}\\right) \\sqrt[3]{\\frac{\\sqrt{93}}{18} + \\frac{29}{54}}, \\  \\frac{1}{9 \\sqrt[3]{\\frac{\\sqrt{93}}{18} + \\frac{29}{54}}} + \\frac{1}{3} + \\sqrt[3]{\\frac{\\sqrt{93}}{18} + \\frac{29}{54}}\\right]$"
          },
          "metadata": {},
          "execution_count": 25
        }
      ]
    },
    {
      "cell_type": "code",
      "source": [
        "y = Symbol('y')\n",
        "solve([x + y - 1, x - y - 1], [x,y]) # solve system of equations"
      ],
      "metadata": {
        "colab": {
          "base_uri": "https://localhost:8080/",
          "height": 39
        },
        "id": "oXS8woUqw2Mm",
        "outputId": "4a1d4308-138b-4af1-d5ae-1097231f45fd"
      },
      "execution_count": null,
      "outputs": [
        {
          "output_type": "execute_result",
          "data": {
            "text/plain": [
              "{x: 1, y: 0}"
            ],
            "text/latex": "$\\displaystyle \\left\\{ x : 1, \\  y : 0\\right\\}$"
          },
          "metadata": {},
          "execution_count": 28
        }
      ]
    },
    {
      "cell_type": "markdown",
      "source": [
        "## Evaluate Expressions"
      ],
      "metadata": {
        "id": "0ln2xw_fhxOS"
      }
    },
    {
      "cell_type": "markdown",
      "source": [
        "SymPy uses a library for arbitrary precision as numerical backend, and has predefined SymPy expressions for a number of mathematical constants, such as: `pi`, `e`, `oo` for infinity.\n",
        "\n",
        "To evaluate an expression numerically we can use the `evalf` function (or `N`). It takes an argument `n` which specifies the number of significant digits. By default, numerical evaluation is performed to an accuracy of 15 decimal digits."
      ],
      "metadata": {
        "id": "C7X3TFv8h48p"
      }
    },
    {
      "cell_type": "code",
      "source": [
        "N(pi, n=20)"
      ],
      "metadata": {
        "colab": {
          "base_uri": "https://localhost:8080/",
          "height": 37
        },
        "id": "FHTyFEH9h0Mh",
        "outputId": "9c1cfe67-c280-4b9a-b27d-0f475f6cfbb5"
      },
      "execution_count": null,
      "outputs": [
        {
          "output_type": "execute_result",
          "data": {
            "text/plain": [
              "3.1415926535897932385"
            ],
            "text/latex": "$\\displaystyle 3.1415926535897932385$"
          },
          "metadata": {},
          "execution_count": 29
        }
      ]
    },
    {
      "cell_type": "code",
      "source": [
        "pi.evalf(n=20)"
      ],
      "metadata": {
        "colab": {
          "base_uri": "https://localhost:8080/",
          "height": 37
        },
        "id": "7EQo0tamiLig",
        "outputId": "6df00a56-68bd-4f0b-e4a0-75592edfe7ee"
      },
      "execution_count": null,
      "outputs": [
        {
          "output_type": "execute_result",
          "data": {
            "text/plain": [
              "3.1415926535897932385"
            ],
            "text/latex": "$\\displaystyle 3.1415926535897932385$"
          },
          "metadata": {},
          "execution_count": 30
        }
      ]
    },
    {
      "cell_type": "code",
      "source": [
        "y = (x + pi)**3\n",
        "N(y, 5) # same as evalf"
      ],
      "metadata": {
        "colab": {
          "base_uri": "https://localhost:8080/",
          "height": 39
        },
        "id": "4h_21DNFiOpR",
        "outputId": "19badd6f-5e6d-4e1c-d2e7-82b7f8ef0d56"
      },
      "execution_count": null,
      "outputs": [
        {
          "output_type": "execute_result",
          "data": {
            "text/plain": [
              "                      3\n",
              "31.006⋅(0.31831⋅x + 1) "
            ],
            "text/latex": "$\\displaystyle 31.006 \\left(0.31831 x + 1\\right)^{3}$"
          },
          "metadata": {},
          "execution_count": 33
        }
      ]
    },
    {
      "cell_type": "markdown",
      "source": [
        "We can substitute a symbol with a numerical value using the `subs` function:"
      ],
      "metadata": {
        "id": "H-ERFh8Risp7"
      }
    },
    {
      "cell_type": "code",
      "source": [
        "N(y.subs(x, 1.5))"
      ],
      "metadata": {
        "colab": {
          "base_uri": "https://localhost:8080/",
          "height": 37
        },
        "id": "cP6r0Bjviv17",
        "outputId": "88bd281b-60ed-403c-b9e3-1016a19c6b68"
      },
      "execution_count": null,
      "outputs": [
        {
          "output_type": "execute_result",
          "data": {
            "text/plain": [
              "100.000246896933"
            ],
            "text/latex": "$\\displaystyle 100.000246896933$"
          },
          "metadata": {},
          "execution_count": 34
        }
      ]
    },
    {
      "cell_type": "markdown",
      "source": [
        "Or subsitute a symbol with a new expression:"
      ],
      "metadata": {
        "id": "IebOgVOBjEj7"
      }
    },
    {
      "cell_type": "code",
      "source": [
        "y.subs(x, b+0.2)"
      ],
      "metadata": {
        "colab": {
          "base_uri": "https://localhost:8080/",
          "height": 39
        },
        "id": "bkCnK3tgjEIK",
        "outputId": "2779d6f4-3153-41a9-c8b1-90726527f278"
      },
      "execution_count": null,
      "outputs": [
        {
          "output_type": "execute_result",
          "data": {
            "text/plain": [
              "             3\n",
              "(b + 0.2 + π) "
            ],
            "text/latex": "$\\displaystyle \\left(b + 0.2 + \\pi\\right)^{3}$"
          },
          "metadata": {},
          "execution_count": 35
        }
      ]
    },
    {
      "cell_type": "code",
      "source": [
        "z = y.subs(x, b+0.2)\n",
        "N(z.subs(b, 1.3))"
      ],
      "metadata": {
        "colab": {
          "base_uri": "https://localhost:8080/",
          "height": 37
        },
        "id": "adzMXFahjSXT",
        "outputId": "25ba38ba-62d7-4cd1-e677-bbc65cb485d8"
      },
      "execution_count": null,
      "outputs": [
        {
          "output_type": "execute_result",
          "data": {
            "text/plain": [
              "100.000246896933"
            ],
            "text/latex": "$\\displaystyle 100.000246896933$"
          },
          "metadata": {},
          "execution_count": 37
        }
      ]
    },
    {
      "cell_type": "markdown",
      "source": [
        "## Combining Numpy and Matplotlib with Sympy"
      ],
      "metadata": {
        "id": "6rvYJdtPkI-i"
      }
    },
    {
      "cell_type": "code",
      "source": [
        "import numpy as np\n",
        "import matplotlib.pyplot as plt"
      ],
      "metadata": {
        "id": "VDIWtV3FkSgT"
      },
      "execution_count": null,
      "outputs": []
    },
    {
      "cell_type": "code",
      "source": [
        "x_array = np.linspace(-20, 10, 100)\n",
        "y_array = np.array([N(((x + pi +E)**2).subs(x, grid_points)) for grid_points in x_array])"
      ],
      "metadata": {
        "id": "scvlWhpvkYT7"
      },
      "execution_count": null,
      "outputs": []
    },
    {
      "cell_type": "code",
      "source": [
        "fig, ax = plt.subplots()\n",
        "ax.plot(x_array, y_array);"
      ],
      "metadata": {
        "colab": {
          "base_uri": "https://localhost:8080/",
          "height": 430
        },
        "id": "SxY1kNz0kvXs",
        "outputId": "1075800d-b002-45e8-8ae9-36175d443d5a"
      },
      "execution_count": null,
      "outputs": [
        {
          "output_type": "display_data",
          "data": {
            "text/plain": [
              "<Figure size 640x480 with 1 Axes>"
            ],
            "image/png": "[encoded data removed]"
          },
          "metadata": {}
        }
      ]
    },
    {
      "cell_type": "markdown",
      "source": [
        "## lambdify"
      ],
      "metadata": {
        "id": "oExGPlYOlwcD"
      }
    },
    {
      "cell_type": "markdown",
      "source": [
        "The lambdify function translates SymPy expressions into Python functions. If an expression is to be evaluated over a large range of values, the evalf() function is not efficient. lambdify acts like a lambda function, except it converts the SymPy names to the names of the given numerical library, usually NumPy. By default, lambdify on implementations in the math standard library."
      ],
      "metadata": {
        "id": "xB4gCFE_lvzc"
      }
    },
    {
      "cell_type": "code",
      "source": [
        "i, j = symbols(\"i,j\")\n",
        "# the first argument is a list of variables; the second argument is the expression; the third specifies the numerical library\n",
        "f = lambdify([i,j], sin(i)+ j*pi**2, 'numpy')  # f will be a function of: in this case only i, j -> f(i,j)\n",
        "l1=np.arange(1,5)\n",
        "l2=np.arange(6,10)\n",
        "f(l1,l2)"
      ],
      "metadata": {
        "colab": {
          "base_uri": "https://localhost:8080/"
        },
        "id": "vFZrZ3yAl2f8",
        "outputId": "5b321f99-f3fb-475a-b6f6-08e32a1deb1d"
      },
      "execution_count": null,
      "outputs": [
        {
          "output_type": "execute_result",
          "data": {
            "text/plain": [
              "array([60.05909739, 69.99652823, 79.09795522, 88.06963711])"
            ]
          },
          "metadata": {},
          "execution_count": 41
        }
      ]
    },
    {
      "cell_type": "code",
      "source": [
        "def my_f(i,j):\n",
        "  return np.sin(i)+ j*np.pi**2\n",
        "print(my_f(l1,l2))"
      ],
      "metadata": {
        "colab": {
          "base_uri": "https://localhost:8080/"
        },
        "id": "Lk6tdmkxnNir",
        "outputId": "45391c1f-ee6d-48fe-cb9e-4a4768d4b863"
      },
      "execution_count": null,
      "outputs": [
        {
          "output_type": "stream",
          "name": "stdout",
          "text": [
            "[60.05909739 69.99652823 79.09795522 88.06963711]\n"
          ]
        }
      ]
    },
    {
      "cell_type": "markdown",
      "source": [
        "## Algebraic Manipulation"
      ],
      "metadata": {
        "id": "hbCHy23Jnv6c"
      }
    },
    {
      "cell_type": "markdown",
      "source": [
        "### Expansion and Factorization"
      ],
      "metadata": {
        "id": "S1mYFX_coTQ3"
      }
    },
    {
      "cell_type": "code",
      "source": [
        "(x+2)*(x+4)*(x+6)"
      ],
      "metadata": {
        "colab": {
          "base_uri": "https://localhost:8080/",
          "height": 39
        },
        "id": "hsofJ2Xdn1Cm",
        "outputId": "7dd7b5a1-447f-4e2f-e96f-09dfd781294f"
      },
      "execution_count": null,
      "outputs": [
        {
          "output_type": "execute_result",
          "data": {
            "text/plain": [
              "(x + 2)⋅(x + 4)⋅(x + 6)"
            ],
            "text/latex": "$\\displaystyle \\left(x + 2\\right) \\left(x + 4\\right) \\left(x + 6\\right)$"
          },
          "metadata": {},
          "execution_count": 44
        }
      ]
    },
    {
      "cell_type": "code",
      "source": [
        "expand((x+2)*(x+4)*(x+6))"
      ],
      "metadata": {
        "colab": {
          "base_uri": "https://localhost:8080/",
          "height": 39
        },
        "id": "U8FS2Ifgn1u9",
        "outputId": "61e70d62-cfb0-4885-9018-6179218dd755"
      },
      "execution_count": null,
      "outputs": [
        {
          "output_type": "execute_result",
          "data": {
            "text/plain": [
              " 3       2            \n",
              "x  + 12⋅x  + 44⋅x + 48"
            ],
            "text/latex": "$\\displaystyle x^{3} + 12 x^{2} + 44 x + 48$"
          },
          "metadata": {},
          "execution_count": 45
        }
      ]
    },
    {
      "cell_type": "code",
      "source": [
        "sin(a+b+c)"
      ],
      "metadata": {
        "colab": {
          "base_uri": "https://localhost:8080/",
          "height": 39
        },
        "id": "aYqUNUEon5Sd",
        "outputId": "8eb16257-e4c0-4bbc-f3b2-3cdbf8b9c05d"
      },
      "execution_count": null,
      "outputs": [
        {
          "output_type": "execute_result",
          "data": {
            "text/plain": [
              "sin(a + b + c)"
            ],
            "text/latex": "$\\displaystyle \\sin{\\left(a + b + c \\right)}$"
          },
          "metadata": {},
          "execution_count": 47
        }
      ]
    },
    {
      "cell_type": "markdown",
      "source": [
        "The `expand` function takes a number of keywords arguments which we can tell the functions what kind of expansions we want to have performed. For example, to expand trigonometric expressions, use the `trig=True` keyword argument:"
      ],
      "metadata": {
        "id": "YjR-lpEJn_4G"
      }
    },
    {
      "cell_type": "code",
      "source": [
        "expand(sin(a+b+c))"
      ],
      "metadata": {
        "colab": {
          "base_uri": "https://localhost:8080/",
          "height": 39
        },
        "id": "hOS7EJopoG9N",
        "outputId": "96396631-331e-4161-d4ac-e6610f8c1158"
      },
      "execution_count": null,
      "outputs": [
        {
          "output_type": "execute_result",
          "data": {
            "text/plain": [
              "sin(a + b + c)"
            ],
            "text/latex": "$\\displaystyle \\sin{\\left(a + b + c \\right)}$"
          },
          "metadata": {},
          "execution_count": 48
        }
      ]
    },
    {
      "cell_type": "code",
      "source": [
        "expand(sin(a+b), trig=True)"
      ],
      "metadata": {
        "colab": {
          "base_uri": "https://localhost:8080/",
          "height": 39
        },
        "id": "_HrNOWpBoFAV",
        "outputId": "78978833-3ca3-48e7-8a55-5fbc65079f5f"
      },
      "execution_count": null,
      "outputs": [
        {
          "output_type": "execute_result",
          "data": {
            "text/plain": [
              "sin(a)⋅cos(b) + sin(b)⋅cos(a)"
            ],
            "text/latex": "$\\displaystyle \\sin{\\left(a \\right)} \\cos{\\left(b \\right)} + \\sin{\\left(b \\right)} \\cos{\\left(a \\right)}$"
          },
          "metadata": {},
          "execution_count": 50
        }
      ]
    },
    {
      "cell_type": "code",
      "source": [
        "expand(sin(a+b+c), trig=True)"
      ],
      "metadata": {
        "colab": {
          "base_uri": "https://localhost:8080/",
          "height": 39
        },
        "id": "jGi8Rwzjn6p1",
        "outputId": "4f88d0c1-1832-4017-c38e-86160adbaf9e"
      },
      "execution_count": null,
      "outputs": [
        {
          "output_type": "execute_result",
          "data": {
            "text/plain": [
              "-sin(a)⋅sin(b)⋅sin(c) + sin(a)⋅cos(b)⋅cos(c) + sin(b)⋅cos(a)⋅cos(c) + sin(c)⋅c\n",
              "os(a)⋅cos(b)"
            ],
            "text/latex": "$\\displaystyle - \\sin{\\left(a \\right)} \\sin{\\left(b \\right)} \\sin{\\left(c \\right)} + \\sin{\\left(a \\right)} \\cos{\\left(b \\right)} \\cos{\\left(c \\right)} + \\sin{\\left(b \\right)} \\cos{\\left(a \\right)} \\cos{\\left(c \\right)} + \\sin{\\left(c \\right)} \\cos{\\left(a \\right)} \\cos{\\left(b \\right)}$"
          },
          "metadata": {},
          "execution_count": 51
        }
      ]
    },
    {
      "cell_type": "code",
      "source": [
        "factor(x**3 + 12 * x**2 + 44*x + 48)"
      ],
      "metadata": {
        "colab": {
          "base_uri": "https://localhost:8080/",
          "height": 39
        },
        "id": "DrBRSHFuoKh2",
        "outputId": "662782d5-987a-4193-f73c-72f0c5ef34f6"
      },
      "execution_count": null,
      "outputs": [
        {
          "output_type": "execute_result",
          "data": {
            "text/plain": [
              "(x + 2)⋅(x + 4)⋅(x + 6)"
            ],
            "text/latex": "$\\displaystyle \\left(x + 2\\right) \\left(x + 4\\right) \\left(x + 6\\right)$"
          },
          "metadata": {},
          "execution_count": 52
        }
      ]
    },
    {
      "cell_type": "markdown",
      "source": [
        "### Simplification"
      ],
      "metadata": {
        "id": "v2qlW7VCoXjk"
      }
    },
    {
      "cell_type": "code",
      "source": [
        "simplify(x**2 +2*x -x +4 +6 -3*x)"
      ],
      "metadata": {
        "colab": {
          "base_uri": "https://localhost:8080/",
          "height": 39
        },
        "id": "eSc7I5jhobfN",
        "outputId": "ce4dc5ba-a1ca-42cd-a4fd-839624f8985c"
      },
      "execution_count": null,
      "outputs": [
        {
          "output_type": "execute_result",
          "data": {
            "text/plain": [
              " 2           \n",
              "x  - 2⋅x + 10"
            ],
            "text/latex": "$\\displaystyle x^{2} - 2 x + 10$"
          },
          "metadata": {},
          "execution_count": 54
        }
      ]
    },
    {
      "cell_type": "code",
      "source": [
        "simplify(sin(a)**2 + cos(a)**2)"
      ],
      "metadata": {
        "colab": {
          "base_uri": "https://localhost:8080/",
          "height": 37
        },
        "id": "d8DPffBMooY4",
        "outputId": "5b136ca4-97b4-425d-d845-29efaebeeba6"
      },
      "execution_count": null,
      "outputs": [
        {
          "output_type": "execute_result",
          "data": {
            "text/plain": [
              "1"
            ],
            "text/latex": "$\\displaystyle 1$"
          },
          "metadata": {},
          "execution_count": 55
        }
      ]
    },
    {
      "cell_type": "code",
      "source": [
        "simplify(sin(x)/cos(x))  # what will simplify(cos(x)/sin(x)) print?"
      ],
      "metadata": {
        "colab": {
          "base_uri": "https://localhost:8080/",
          "height": 39
        },
        "id": "4oBIl8OIoqtY",
        "outputId": "17734a85-1e75-484b-e826-37d2dfed73e7"
      },
      "execution_count": null,
      "outputs": [
        {
          "output_type": "execute_result",
          "data": {
            "text/plain": [
              "tan(x)"
            ],
            "text/latex": "$\\displaystyle \\tan{\\left(x \\right)}$"
          },
          "metadata": {},
          "execution_count": 57
        }
      ]
    },
    {
      "cell_type": "code",
      "source": [
        "simplify(cos(x)/sin(x))\n"
      ],
      "metadata": {
        "colab": {
          "base_uri": "https://localhost:8080/",
          "height": 55
        },
        "id": "rXHeg2Dh9M7K",
        "outputId": "ede261b2-09e0-4762-cd70-f913d9f2e6a4"
      },
      "execution_count": null,
      "outputs": [
        {
          "output_type": "execute_result",
          "data": {
            "text/plain": [
              "  1   \n",
              "──────\n",
              "tan(x)"
            ],
            "text/latex": "$\\displaystyle \\frac{1}{\\tan{\\left(x \\right)}}$"
          },
          "metadata": {},
          "execution_count": 58
        }
      ]
    },
    {
      "cell_type": "markdown",
      "source": [
        "### Fraction Manipulation"
      ],
      "metadata": {
        "id": "4wHCG18Bo0ZO"
      }
    },
    {
      "cell_type": "markdown",
      "source": [
        "To manipulate symbolic expressions of fractions, we can use the `apart` and `together` functions:"
      ],
      "metadata": {
        "id": "j_ewdsUro3D0"
      }
    },
    {
      "cell_type": "code",
      "source": [
        "expr = 1/((x+1)*(x+2))"
      ],
      "metadata": {
        "id": "QGcNBdsPo4p1"
      },
      "execution_count": null,
      "outputs": []
    },
    {
      "cell_type": "code",
      "source": [
        "expr"
      ],
      "metadata": {
        "colab": {
          "base_uri": "https://localhost:8080/",
          "height": 55
        },
        "id": "k7pSdkMEo8Bu",
        "outputId": "f3eba5b8-f816-49d6-a825-647d6ec6a7a9"
      },
      "execution_count": null,
      "outputs": [
        {
          "output_type": "execute_result",
          "data": {
            "text/plain": [
              "       1       \n",
              "───────────────\n",
              "(x + 1)⋅(x + 2)"
            ],
            "text/latex": "$\\displaystyle \\frac{1}{\\left(x + 1\\right) \\left(x + 2\\right)}$"
          },
          "metadata": {},
          "execution_count": 68
        }
      ]
    },
    {
      "cell_type": "code",
      "source": [
        "apart(expr)"
      ],
      "metadata": {
        "colab": {
          "base_uri": "https://localhost:8080/",
          "height": 52
        },
        "id": "nIgT-NXao9km",
        "outputId": "3c7f3e5b-33d3-47c8-ee1c-d80bf308dcb2"
      },
      "execution_count": null,
      "outputs": [
        {
          "output_type": "execute_result",
          "data": {
            "text/plain": [
              "    1       1  \n",
              "- ───── + ─────\n",
              "  x + 2   x + 1"
            ],
            "text/latex": "$\\displaystyle - \\frac{1}{x + 2} + \\frac{1}{x + 1}$"
          },
          "metadata": {},
          "execution_count": 69
        }
      ]
    },
    {
      "cell_type": "code",
      "source": [
        "expr2 = -1/(x+2) + 1/(x+1)"
      ],
      "metadata": {
        "id": "cM_1gs4EpBhG"
      },
      "execution_count": null,
      "outputs": []
    },
    {
      "cell_type": "code",
      "source": [
        "expr2"
      ],
      "metadata": {
        "colab": {
          "base_uri": "https://localhost:8080/",
          "height": 52
        },
        "id": "XOihALy5pGXU",
        "outputId": "a909dd48-6490-4f79-c4a2-70bc56e24d1b"
      },
      "execution_count": null,
      "outputs": [
        {
          "output_type": "execute_result",
          "data": {
            "text/plain": [
              "    1       1  \n",
              "- ───── + ─────\n",
              "  x + 2   x + 1"
            ],
            "text/latex": "$\\displaystyle - \\frac{1}{x + 2} + \\frac{1}{x + 1}$"
          },
          "metadata": {},
          "execution_count": 71
        }
      ]
    },
    {
      "cell_type": "code",
      "source": [
        "together(expr2)"
      ],
      "metadata": {
        "colab": {
          "base_uri": "https://localhost:8080/",
          "height": 55
        },
        "id": "MmqyjnQipHT0",
        "outputId": "bb7f78c4-68e3-47f7-bbb1-2a1e7ac384f3"
      },
      "execution_count": null,
      "outputs": [
        {
          "output_type": "execute_result",
          "data": {
            "text/plain": [
              "       1       \n",
              "───────────────\n",
              "(x + 1)⋅(x + 2)"
            ],
            "text/latex": "$\\displaystyle \\frac{1}{\\left(x + 1\\right) \\left(x + 2\\right)}$"
          },
          "metadata": {},
          "execution_count": 75
        }
      ]
    },
    {
      "cell_type": "code",
      "source": [
        "simplify(expr2)  # Simplify usually combines fractions but does not factor, but not gurantee to combine"
      ],
      "metadata": {
        "colab": {
          "base_uri": "https://localhost:8080/",
          "height": 55
        },
        "id": "x0uBw-S-pLGV",
        "outputId": "db8088fd-5da1-41a6-be89-00684bb2df70"
      },
      "execution_count": null,
      "outputs": [
        {
          "output_type": "execute_result",
          "data": {
            "text/plain": [
              "       1       \n",
              "───────────────\n",
              "(x + 1)⋅(x + 2)"
            ],
            "text/latex": "$\\displaystyle \\frac{1}{\\left(x + 1\\right) \\left(x + 2\\right)}$"
          },
          "metadata": {},
          "execution_count": 73
        }
      ]
    },
    {
      "cell_type": "markdown",
      "source": [
        "## Calculus"
      ],
      "metadata": {
        "id": "xVyTOkm5pysO"
      }
    },
    {
      "cell_type": "code",
      "source": [
        "y"
      ],
      "metadata": {
        "colab": {
          "base_uri": "https://localhost:8080/",
          "height": 39
        },
        "id": "1Abk0JM6p31Q",
        "outputId": "f81de5c4-55c2-4201-ff51-6fd20790a2ab"
      },
      "execution_count": null,
      "outputs": [
        {
          "output_type": "execute_result",
          "data": {
            "text/plain": [
              "       3\n",
              "(x + π) "
            ],
            "text/latex": "$\\displaystyle \\left(x + \\pi\\right)^{3}$"
          },
          "metadata": {},
          "execution_count": 76
        }
      ]
    },
    {
      "cell_type": "code",
      "source": [
        "diff(y, x) # differentiate y with respect to x"
      ],
      "metadata": {
        "colab": {
          "base_uri": "https://localhost:8080/",
          "height": 39
        },
        "id": "5S9jFU3bqH5-",
        "outputId": "05725c78-9794-4b58-d1ba-a19402cf7bb9"
      },
      "execution_count": null,
      "outputs": [
        {
          "output_type": "execute_result",
          "data": {
            "text/plain": [
              "         2\n",
              "3⋅(x + π) "
            ],
            "text/latex": "$\\displaystyle 3 \\left(x + \\pi\\right)^{2}$"
          },
          "metadata": {},
          "execution_count": 77
        }
      ]
    },
    {
      "cell_type": "code",
      "source": [
        "diff(y, x, x) # second derivative, differentiate with respect to x twice"
      ],
      "metadata": {
        "colab": {
          "base_uri": "https://localhost:8080/",
          "height": 39
        },
        "id": "m1ngrnBEqLev",
        "outputId": "8d761d32-12df-4218-a3d2-c579e93e5ae8"
      },
      "execution_count": null,
      "outputs": [
        {
          "output_type": "execute_result",
          "data": {
            "text/plain": [
              "6⋅(x + π)"
            ],
            "text/latex": "$\\displaystyle 6 \\left(x + \\pi\\right)$"
          },
          "metadata": {},
          "execution_count": 80
        }
      ]
    },
    {
      "cell_type": "code",
      "source": [
        "# multivariate calculus\n",
        "x, y, z = symbols(\"x,y,z\")\n",
        "f = E**(x*y) + cos(y*z)"
      ],
      "metadata": {
        "id": "J6uNY79rqVzA"
      },
      "execution_count": null,
      "outputs": []
    },
    {
      "cell_type": "code",
      "source": [
        "f"
      ],
      "metadata": {
        "colab": {
          "base_uri": "https://localhost:8080/",
          "height": 39
        },
        "id": "zcBgoXldqb0H",
        "outputId": "0388da6c-a4ce-4767-967e-310ccbe1c2e6"
      },
      "execution_count": null,
      "outputs": [
        {
          "output_type": "execute_result",
          "data": {
            "text/plain": [
              " x⋅y           \n",
              "ℯ    + cos(y⋅z)"
            ],
            "text/latex": "$\\displaystyle e^{x y} + \\cos{\\left(y z \\right)}$"
          },
          "metadata": {},
          "execution_count": 82
        }
      ]
    },
    {
      "cell_type": "markdown",
      "source": [
        "$\\frac{d^4}{dx^2dy^2}f$"
      ],
      "metadata": {
        "id": "DiLjk5HPq-Zw"
      }
    },
    {
      "cell_type": "code",
      "source": [
        "diff(f, x,2, y, 2)"
      ],
      "metadata": {
        "colab": {
          "base_uri": "https://localhost:8080/",
          "height": 39
        },
        "id": "qI2bYcRRqdal",
        "outputId": "3fdf6e89-2ca0-4c77-d668-448e826a9441"
      },
      "execution_count": null,
      "outputs": [
        {
          "output_type": "execute_result",
          "data": {
            "text/plain": [
              "⎛ 2  2            ⎞  x⋅y\n",
              "⎝x ⋅y  + 4⋅x⋅y + 2⎠⋅ℯ   "
            ],
            "text/latex": "$\\displaystyle \\left(x^{2} y^{2} + 4 x y + 2\\right) e^{x y}$"
          },
          "metadata": {},
          "execution_count": 83
        }
      ]
    },
    {
      "cell_type": "code",
      "source": [
        "f = 2*x"
      ],
      "metadata": {
        "id": "XHbZ1kMUrE0G"
      },
      "execution_count": null,
      "outputs": []
    },
    {
      "cell_type": "code",
      "source": [
        "f"
      ],
      "metadata": {
        "colab": {
          "base_uri": "https://localhost:8080/",
          "height": 39
        },
        "id": "uTWqxkb-r7-X",
        "outputId": "d7abf514-510f-4c98-c731-0bd9db50d779"
      },
      "execution_count": null,
      "outputs": [
        {
          "output_type": "execute_result",
          "data": {
            "text/plain": [
              "2⋅x"
            ],
            "text/latex": "$\\displaystyle 2 x$"
          },
          "metadata": {},
          "execution_count": 85
        }
      ]
    },
    {
      "cell_type": "code",
      "source": [
        "integrate(f, x) # indefinite integration"
      ],
      "metadata": {
        "colab": {
          "base_uri": "https://localhost:8080/",
          "height": 39
        },
        "id": "AbTq1uVjr9Cf",
        "outputId": "44f762ac-d038-44ad-cac0-33773e40149f"
      },
      "execution_count": null,
      "outputs": [
        {
          "output_type": "execute_result",
          "data": {
            "text/plain": [
              " 2\n",
              "x "
            ],
            "text/latex": "$\\displaystyle x^{2}$"
          },
          "metadata": {},
          "execution_count": 86
        }
      ]
    },
    {
      "cell_type": "code",
      "source": [
        "integrate(f, (x, -3, -1))"
      ],
      "metadata": {
        "colab": {
          "base_uri": "https://localhost:8080/",
          "height": 37
        },
        "id": "xyRQQm5HrHan",
        "outputId": "3e16666c-2390-4e3a-b609-82bb6664efe2"
      },
      "execution_count": null,
      "outputs": [
        {
          "output_type": "execute_result",
          "data": {
            "text/plain": [
              "-8"
            ],
            "text/latex": "$\\displaystyle -8$"
          },
          "metadata": {},
          "execution_count": 87
        }
      ]
    },
    {
      "cell_type": "code",
      "source": [
        "integrate(exp(-x**2), (x, -oo, oo)) # improper intergrals, oo is double letter o, stands for infty"
      ],
      "metadata": {
        "colab": {
          "base_uri": "https://localhost:8080/",
          "height": 37
        },
        "id": "4FAVA9X1rVCG",
        "outputId": "6611ba6c-c7df-46cc-e87f-9fec1a3c2adf"
      },
      "execution_count": null,
      "outputs": [
        {
          "output_type": "execute_result",
          "data": {
            "text/plain": [
              "√π"
            ],
            "text/latex": "$\\displaystyle \\sqrt{\\pi}$"
          },
          "metadata": {},
          "execution_count": 88
        }
      ]
    },
    {
      "cell_type": "markdown",
      "source": [
        "Similar to differentiation, you can integrate multivariate expressions as well."
      ],
      "metadata": {
        "id": "0opwX19Grqtv"
      }
    },
    {
      "cell_type": "code",
      "source": [
        "f = 2*x*y\n",
        "f"
      ],
      "metadata": {
        "colab": {
          "base_uri": "https://localhost:8080/",
          "height": 39
        },
        "id": "Td-hjxHPr3dI",
        "outputId": "4090a8a5-426e-4f59-aaf4-9e621ea4b3b7"
      },
      "execution_count": null,
      "outputs": [
        {
          "output_type": "execute_result",
          "data": {
            "text/plain": [
              "2⋅x⋅y"
            ],
            "text/latex": "$\\displaystyle 2 x y$"
          },
          "metadata": {},
          "execution_count": 89
        }
      ]
    },
    {
      "cell_type": "code",
      "source": [
        "integrate(f, x) # indefinite integration"
      ],
      "metadata": {
        "colab": {
          "base_uri": "https://localhost:8080/",
          "height": 39
        },
        "id": "XSlRR2AYr-vQ",
        "outputId": "47b4c650-1f08-4a4a-b857-beca035c3d1d"
      },
      "execution_count": null,
      "outputs": [
        {
          "output_type": "execute_result",
          "data": {
            "text/plain": [
              " 2  \n",
              "x ⋅y"
            ],
            "text/latex": "$\\displaystyle x^{2} y$"
          },
          "metadata": {},
          "execution_count": 90
        }
      ]
    },
    {
      "cell_type": "markdown",
      "source": [
        "## Summation and Product"
      ],
      "metadata": {
        "id": "E_AiAowYrngg"
      }
    },
    {
      "cell_type": "code",
      "source": [
        "n = Symbol(\"n\")"
      ],
      "metadata": {
        "id": "TfvoZ5b_sB_H"
      },
      "execution_count": null,
      "outputs": []
    },
    {
      "cell_type": "code",
      "source": [
        "Sum((-1)**n/(2*n+1), (n, 0, 10))  # summation of (expression) from n = 0 to 10"
      ],
      "metadata": {
        "colab": {
          "base_uri": "https://localhost:8080/",
          "height": 69
        },
        "id": "OPprNZ7FsDaw",
        "outputId": "f04fe0b8-be42-4f82-b3a4-6f3689cc9a49"
      },
      "execution_count": null,
      "outputs": [
        {
          "output_type": "execute_result",
          "data": {
            "text/plain": [
              "  10         \n",
              " ____        \n",
              " ╲           \n",
              "  ╲        n \n",
              "   ╲   (-1)  \n",
              "   ╱  ───────\n",
              "  ╱   2⋅n + 1\n",
              " ╱           \n",
              " ‾‾‾‾        \n",
              "n = 0        "
            ],
            "text/latex": "$\\displaystyle \\sum_{n=0}^{10} \\frac{\\left(-1\\right)^{n}}{2 n + 1}$"
          },
          "metadata": {},
          "execution_count": 93
        }
      ]
    },
    {
      "cell_type": "code",
      "source": [
        "4*Sum((-1)**n/(2*n+1), (n, 0, 10)).evalf()"
      ],
      "metadata": {
        "colab": {
          "base_uri": "https://localhost:8080/",
          "height": 37
        },
        "id": "d8MVC42EsIxf",
        "outputId": "26959e9e-5785-423c-c44d-f669bf2dead9"
      },
      "execution_count": null,
      "outputs": [
        {
          "output_type": "execute_result",
          "data": {
            "text/plain": [
              "3.23231580940559"
            ],
            "text/latex": "$\\displaystyle 3.23231580940559$"
          },
          "metadata": {},
          "execution_count": 95
        }
      ]
    },
    {
      "cell_type": "code",
      "source": [
        "4*Sum((-1)**n/(2*n+1), (n, 0, oo)).evalf()"
      ],
      "metadata": {
        "colab": {
          "base_uri": "https://localhost:8080/",
          "height": 37
        },
        "id": "GiJhpoMYsK64",
        "outputId": "54e3221a-319c-4fe5-b848-a6dface4b321"
      },
      "execution_count": null,
      "outputs": [
        {
          "output_type": "execute_result",
          "data": {
            "text/plain": [
              "3.14159265358979"
            ],
            "text/latex": "$\\displaystyle 3.14159265358979$"
          },
          "metadata": {},
          "execution_count": 96
        }
      ]
    },
    {
      "cell_type": "code",
      "source": [
        "Product(n, (n, 1, 10)) # product of (expression) from n = 0 to 10"
      ],
      "metadata": {
        "colab": {
          "base_uri": "https://localhost:8080/",
          "height": 69
        },
        "id": "eiwkIOwBs5mA",
        "outputId": "5d7feeff-8341-4e26-914b-4cd255b26f0e"
      },
      "execution_count": null,
      "outputs": [
        {
          "output_type": "execute_result",
          "data": {
            "text/plain": [
              "  10   \n",
              "─┬─┬─  \n",
              " │ │  n\n",
              " │ │   \n",
              "n = 1  "
            ],
            "text/latex": "$\\displaystyle \\prod_{n=1}^{10} n$"
          },
          "metadata": {},
          "execution_count": 97
        }
      ]
    },
    {
      "cell_type": "markdown",
      "source": [
        "## Limits"
      ],
      "metadata": {
        "id": "KLPVrsNytKYm"
      }
    },
    {
      "cell_type": "code",
      "source": [
        "limit(sin(x)/x, x, 0) # limit of sinx/x when x approaching 0"
      ],
      "metadata": {
        "colab": {
          "base_uri": "https://localhost:8080/",
          "height": 37
        },
        "id": "UXLRGIMytPh2",
        "outputId": "fa56f013-6181-4445-dc73-d44935de4284"
      },
      "execution_count": null,
      "outputs": [
        {
          "output_type": "execute_result",
          "data": {
            "text/plain": [
              "1"
            ],
            "text/latex": "$\\displaystyle 1$"
          },
          "metadata": {},
          "execution_count": 98
        }
      ]
    },
    {
      "cell_type": "code",
      "source": [
        "f = 3*x*y*E**(x*y)"
      ],
      "metadata": {
        "id": "QmgujjQOtepR"
      },
      "execution_count": null,
      "outputs": []
    },
    {
      "cell_type": "code",
      "source": [
        "f"
      ],
      "metadata": {
        "colab": {
          "base_uri": "https://localhost:8080/",
          "height": 39
        },
        "id": "GOx8K7-Utlta",
        "outputId": "4e5f081d-417f-4495-e32c-b7d10a542934"
      },
      "execution_count": null,
      "outputs": [
        {
          "output_type": "execute_result",
          "data": {
            "text/plain": [
              "       x⋅y\n",
              "3⋅x⋅y⋅ℯ   "
            ],
            "text/latex": "$\\displaystyle 3 x y e^{x y}$"
          },
          "metadata": {},
          "execution_count": 100
        }
      ]
    },
    {
      "cell_type": "code",
      "source": [
        "diff(f, x)"
      ],
      "metadata": {
        "colab": {
          "base_uri": "https://localhost:8080/",
          "height": 39
        },
        "id": "CnCCLDSNtmmj",
        "outputId": "ba1ea9c8-7419-4392-ee9d-eed5661097da"
      },
      "execution_count": null,
      "outputs": [
        {
          "output_type": "execute_result",
          "data": {
            "text/plain": [
              "     2  x⋅y        x⋅y\n",
              "3⋅x⋅y ⋅ℯ    + 3⋅y⋅ℯ   "
            ],
            "text/latex": "$\\displaystyle 3 x y^{2} e^{x y} + 3 y e^{x y}$"
          },
          "metadata": {},
          "execution_count": 101
        }
      ]
    },
    {
      "cell_type": "markdown",
      "source": [
        "$$\\frac{\\mathrm{d}f(x,y)}{\\mathrm{d}x} = \\frac{f(x+h,y)-f(x,y)}{h}$$"
      ],
      "metadata": {
        "id": "wXy-9rJatvUM"
      }
    },
    {
      "cell_type": "code",
      "source": [
        "h = Symbol(\"h\")\n",
        "limit((f.subs(x, x+h) - f)/h, h, 0)"
      ],
      "metadata": {
        "colab": {
          "base_uri": "https://localhost:8080/",
          "height": 39
        },
        "id": "WwQqIcMQtn4i",
        "outputId": "a52f65cf-dc20-4d99-b98a-88aa52163c1b"
      },
      "execution_count": null,
      "outputs": [
        {
          "output_type": "execute_result",
          "data": {
            "text/plain": [
              "     2  x⋅y        x⋅y\n",
              "3⋅x⋅y ⋅ℯ    + 3⋅y⋅ℯ   "
            ],
            "text/latex": "$\\displaystyle 3 x y^{2} e^{x y} + 3 y e^{x y}$"
          },
          "metadata": {},
          "execution_count": 102
        }
      ]
    },
    {
      "cell_type": "code",
      "source": [
        "limit(1/x, x, 0, dir=\"+\")"
      ],
      "metadata": {
        "colab": {
          "base_uri": "https://localhost:8080/",
          "height": 37
        },
        "id": "hZe7wa34t5uh",
        "outputId": "3d013aaf-fbd0-48ef-e649-e443c7d0630a"
      },
      "execution_count": null,
      "outputs": [
        {
          "output_type": "execute_result",
          "data": {
            "text/plain": [
              "∞"
            ],
            "text/latex": "$\\displaystyle \\infty$"
          },
          "metadata": {},
          "execution_count": 103
        }
      ]
    },
    {
      "cell_type": "code",
      "source": [
        "limit(1/x, x, 0, dir=\"-\")"
      ],
      "metadata": {
        "colab": {
          "base_uri": "https://localhost:8080/",
          "height": 37
        },
        "id": "EBlrfBnOt7GB",
        "outputId": "7bfad292-1269-4110-e83c-a716ceae6eac"
      },
      "execution_count": null,
      "outputs": [
        {
          "output_type": "execute_result",
          "data": {
            "text/plain": [
              "-∞"
            ],
            "text/latex": "$\\displaystyle -\\infty$"
          },
          "metadata": {},
          "execution_count": 104
        }
      ]
    },
    {
      "cell_type": "markdown",
      "source": [
        "## Series"
      ],
      "metadata": {
        "id": "etLH5PmLuxoK"
      }
    },
    {
      "cell_type": "code",
      "source": [
        "series(exp(x), x) #  expands the expression, around  x=0 by default"
      ],
      "metadata": {
        "colab": {
          "base_uri": "https://localhost:8080/",
          "height": 54
        },
        "id": "PpLItP4euwRq",
        "outputId": "42b57f58-2d9f-417b-de9e-6a81eb9ed44b"
      },
      "execution_count": null,
      "outputs": [
        {
          "output_type": "execute_result",
          "data": {
            "text/plain": [
              "         2    3    4     5        \n",
              "        x    x    x     x     ⎛ 6⎞\n",
              "1 + x + ── + ── + ── + ─── + O⎝x ⎠\n",
              "        2    6    24   120        "
            ],
            "text/latex": "$\\displaystyle 1 + x + \\frac{x^{2}}{2} + \\frac{x^{3}}{6} + \\frac{x^{4}}{24} + \\frac{x^{5}}{120} + O\\left(x^{6}\\right)$"
          },
          "metadata": {},
          "execution_count": 105
        }
      ]
    },
    {
      "cell_type": "code",
      "source": [
        "series(exp(x), x, 2) # we can expand around any point, x=2 is this case"
      ],
      "metadata": {
        "colab": {
          "base_uri": "https://localhost:8080/",
          "height": 56
        },
        "id": "cqw46JUhu2K5",
        "outputId": "414bf934-8695-4688-81b0-4c0d59e5b3f0"
      },
      "execution_count": null,
      "outputs": [
        {
          "output_type": "execute_result",
          "data": {
            "text/plain": [
              "                         2  2          3  2          4  2          5  2       \n",
              " 2            2   (x - 2) ⋅ℯ    (x - 2) ⋅ℯ    (x - 2) ⋅ℯ    (x - 2) ⋅ℯ     ⎛  \n",
              "ℯ  + (x - 2)⋅ℯ  + ─────────── + ─────────── + ─────────── + ─────────── + O⎝(x\n",
              "                       2             6             24           120           \n",
              "\n",
              "              \n",
              "     6       ⎞\n",
              " - 2) ; x → 2⎠\n",
              "              "
            ],
            "text/latex": "$\\displaystyle e^{2} + \\left(x - 2\\right) e^{2} + \\frac{\\left(x - 2\\right)^{2} e^{2}}{2} + \\frac{\\left(x - 2\\right)^{3} e^{2}}{6} + \\frac{\\left(x - 2\\right)^{4} e^{2}}{24} + \\frac{\\left(x - 2\\right)^{5} e^{2}}{120} + O\\left(\\left(x - 2\\right)^{6}; x\\rightarrow 2\\right)$"
          },
          "metadata": {},
          "execution_count": 106
        }
      ]
    },
    {
      "cell_type": "code",
      "source": [
        "series(exp(x), x, 0, 10) # specify the order to which the series expansion should be carried out"
      ],
      "metadata": {
        "colab": {
          "base_uri": "https://localhost:8080/",
          "height": 54
        },
        "id": "l8M8-LoxvC7h",
        "outputId": "ea46d645-be57-4ecf-edb1-3493d29557f9"
      },
      "execution_count": null,
      "outputs": [
        {
          "output_type": "execute_result",
          "data": {
            "text/plain": [
              "         2    3    4     5     6     7       8       9           \n",
              "        x    x    x     x     x     x       x       x       ⎛ 10⎞\n",
              "1 + x + ── + ── + ── + ─── + ─── + ──── + ───── + ────── + O⎝x  ⎠\n",
              "        2    6    24   120   720   5040   40320   362880         "
            ],
            "text/latex": "$\\displaystyle 1 + x + \\frac{x^{2}}{2} + \\frac{x^{3}}{6} + \\frac{x^{4}}{24} + \\frac{x^{5}}{120} + \\frac{x^{6}}{720} + \\frac{x^{7}}{5040} + \\frac{x^{8}}{40320} + \\frac{x^{9}}{362880} + O\\left(x^{10}\\right)$"
          },
          "metadata": {},
          "execution_count": 107
        }
      ]
    },
    {
      "cell_type": "code",
      "source": [
        "expr01 = exp(x).series(x, 0, 5)\n",
        "expr01"
      ],
      "metadata": {
        "colab": {
          "base_uri": "https://localhost:8080/",
          "height": 54
        },
        "id": "drHV-NlzvOfR",
        "outputId": "1c76d67b-63cb-4b12-a9c4-0363d1b83049"
      },
      "execution_count": null,
      "outputs": [
        {
          "output_type": "execute_result",
          "data": {
            "text/plain": [
              "         2    3    4        \n",
              "        x    x    x     ⎛ 5⎞\n",
              "1 + x + ── + ── + ── + O⎝x ⎠\n",
              "        2    6    24        "
            ],
            "text/latex": "$\\displaystyle 1 + x + \\frac{x^{2}}{2} + \\frac{x^{3}}{6} + \\frac{x^{4}}{24} + O\\left(x^{5}\\right)$"
          },
          "metadata": {},
          "execution_count": 108
        }
      ]
    },
    {
      "cell_type": "code",
      "source": [
        "expr02 = sin(x).series(x, 0, 3)\n",
        "expr02"
      ],
      "metadata": {
        "colab": {
          "base_uri": "https://localhost:8080/",
          "height": 39
        },
        "id": "-OgnfI3vvWIh",
        "outputId": "f20b776e-4e70-4b7c-c39b-0bc64a69550c"
      },
      "execution_count": null,
      "outputs": [
        {
          "output_type": "execute_result",
          "data": {
            "text/plain": [
              "     ⎛ 3⎞\n",
              "x + O⎝x ⎠"
            ],
            "text/latex": "$\\displaystyle x + O\\left(x^{3}\\right)$"
          },
          "metadata": {},
          "execution_count": 109
        }
      ]
    },
    {
      "cell_type": "code",
      "source": [
        "expr01 * expr02"
      ],
      "metadata": {
        "colab": {
          "base_uri": "https://localhost:8080/",
          "height": 58
        },
        "id": "Mr5EuwqbveJ9",
        "outputId": "2a376e38-c073-4cf0-af24-ca26037a3f86"
      },
      "execution_count": null,
      "outputs": [
        {
          "output_type": "execute_result",
          "data": {
            "text/plain": [
              "            ⎛         2    3    4        ⎞\n",
              "⎛     ⎛ 3⎞⎞ ⎜        x    x    x     ⎛ 5⎞⎟\n",
              "⎝x + O⎝x ⎠⎠⋅⎜1 + x + ── + ── + ── + O⎝x ⎠⎟\n",
              "            ⎝        2    6    24        ⎠"
            ],
            "text/latex": "$\\displaystyle \\left(x + O\\left(x^{3}\\right)\\right) \\left(1 + x + \\frac{x^{2}}{2} + \\frac{x^{3}}{6} + \\frac{x^{4}}{24} + O\\left(x^{5}\\right)\\right)$"
          },
          "metadata": {},
          "execution_count": 112
        }
      ]
    },
    {
      "cell_type": "code",
      "source": [
        "expand(expr01 * expr02)"
      ],
      "metadata": {
        "colab": {
          "base_uri": "https://localhost:8080/",
          "height": 39
        },
        "id": "pI4knJ7tvaYi",
        "outputId": "9724f834-f309-4617-89bf-42759f56a8d3"
      },
      "execution_count": null,
      "outputs": [
        {
          "output_type": "execute_result",
          "data": {
            "text/plain": [
              "     2    ⎛ 3⎞\n",
              "x + x  + O⎝x ⎠"
            ],
            "text/latex": "$\\displaystyle x + x^{2} + O\\left(x^{3}\\right)$"
          },
          "metadata": {},
          "execution_count": 113
        }
      ]
    },
    {
      "cell_type": "code",
      "source": [
        "expr01.removeO() # remove the order information"
      ],
      "metadata": {
        "colab": {
          "base_uri": "https://localhost:8080/",
          "height": 54
        },
        "id": "6jOQpcOAvhSM",
        "outputId": "17d87384-1afe-41b1-c6bf-6d3d6fe2e951"
      },
      "execution_count": null,
      "outputs": [
        {
          "output_type": "execute_result",
          "data": {
            "text/plain": [
              " 4    3    2        \n",
              "x    x    x         \n",
              "── + ── + ── + x + 1\n",
              "24   6    2         "
            ],
            "text/latex": "$\\displaystyle \\frac{x^{4}}{24} + \\frac{x^{3}}{6} + \\frac{x^{2}}{2} + x + 1$"
          },
          "metadata": {},
          "execution_count": 114
        }
      ]
    },
    {
      "cell_type": "code",
      "source": [
        "(cos(x)*sin(x)).series(x, 0, 6) # but note that this is not the correct expansion of $\\cos(x)\\sin(x)$ to $6$th order:"
      ],
      "metadata": {
        "colab": {
          "base_uri": "https://localhost:8080/",
          "height": 54
        },
        "id": "H4_ckEpYvuWU",
        "outputId": "974aa5ff-e50c-473d-a4d1-bac58c76c3c3"
      },
      "execution_count": null,
      "outputs": [
        {
          "output_type": "execute_result",
          "data": {
            "text/plain": [
              "       3      5        \n",
              "    2⋅x    2⋅x     ⎛ 6⎞\n",
              "x - ──── + ──── + O⎝x ⎠\n",
              "     3      15         "
            ],
            "text/latex": "$\\displaystyle x - \\frac{2 x^{3}}{3} + \\frac{2 x^{5}}{15} + O\\left(x^{6}\\right)$"
          },
          "metadata": {},
          "execution_count": 115
        }
      ]
    },
    {
      "cell_type": "markdown",
      "source": [
        "## Linear Algebra"
      ],
      "metadata": {
        "id": "AwmRC1Xpv3T7"
      }
    },
    {
      "cell_type": "code",
      "source": [
        "m11, m12, m21, m22 = symbols(\"m11, m12, m21, m22\")\n",
        "b1, b2 = symbols(\"b1, b2\")"
      ],
      "metadata": {
        "id": "eRdQELixv6uy"
      },
      "execution_count": null,
      "outputs": []
    },
    {
      "cell_type": "code",
      "source": [
        "A = Matrix([[m11, m12],[m21, m22]])\n",
        "A"
      ],
      "metadata": {
        "colab": {
          "base_uri": "https://localhost:8080/",
          "height": 58
        },
        "id": "TLmO7QLPv9dc",
        "outputId": "745ca842-4d06-4ca8-d2b3-e2598a3df050"
      },
      "execution_count": null,
      "outputs": [
        {
          "output_type": "execute_result",
          "data": {
            "text/plain": [
              "⎡m₁₁  m₁₂⎤\n",
              "⎢        ⎥\n",
              "⎣m₂₁  m₂₂⎦"
            ],
            "text/latex": "$\\displaystyle \\left[\\begin{matrix}m_{11} & m_{12}\\\\m_{21} & m_{22}\\end{matrix}\\right]$"
          },
          "metadata": {},
          "execution_count": 118
        }
      ]
    },
    {
      "cell_type": "code",
      "source": [
        "b = Matrix([[b1], [b2]])\n",
        "b"
      ],
      "metadata": {
        "colab": {
          "base_uri": "https://localhost:8080/",
          "height": 58
        },
        "id": "lcV9RSfHv-xM",
        "outputId": "6e324eb5-97cb-484a-abbd-2cf354e7099c"
      },
      "execution_count": null,
      "outputs": [
        {
          "output_type": "execute_result",
          "data": {
            "text/plain": [
              "⎡b₁⎤\n",
              "⎢  ⎥\n",
              "⎣b₂⎦"
            ],
            "text/latex": "$\\displaystyle \\left[\\begin{matrix}b_{1}\\\\b_{2}\\end{matrix}\\right]$"
          },
          "metadata": {},
          "execution_count": 119
        }
      ]
    },
    {
      "cell_type": "code",
      "source": [
        "det(A)"
      ],
      "metadata": {
        "colab": {
          "base_uri": "https://localhost:8080/",
          "height": 39
        },
        "id": "NnlZiFvSwBRT",
        "outputId": "4397453d-90aa-4ef8-ac81-6e93978a3a2e"
      },
      "execution_count": null,
      "outputs": [
        {
          "output_type": "execute_result",
          "data": {
            "text/plain": [
              "m₁₁⋅m₂₂ - m₁₂⋅m₂₁"
            ],
            "text/latex": "$\\displaystyle m_{11} m_{22} - m_{12} m_{21}$"
          },
          "metadata": {},
          "execution_count": 120
        }
      ]
    },
    {
      "cell_type": "code",
      "source": [
        "A**2 # A matmul A"
      ],
      "metadata": {
        "colab": {
          "base_uri": "https://localhost:8080/",
          "height": 58
        },
        "id": "oi6GR68_wFab",
        "outputId": "6d37c1ad-e127-4c16-a857-fde1e4a9aa23"
      },
      "execution_count": null,
      "outputs": [
        {
          "output_type": "execute_result",
          "data": {
            "text/plain": [
              "⎡    2                               ⎤\n",
              "⎢ m₁₁  + m₁₂⋅m₂₁    m₁₁⋅m₁₂ + m₁₂⋅m₂₂⎥\n",
              "⎢                                    ⎥\n",
              "⎢                                 2  ⎥\n",
              "⎣m₁₁⋅m₂₁ + m₂₁⋅m₂₂   m₁₂⋅m₂₁ + m₂₂   ⎦"
            ],
            "text/latex": "$\\displaystyle \\left[\\begin{matrix}m_{11}^{2} + m_{12} m_{21} & m_{11} m_{12} + m_{12} m_{22}\\\\m_{11} m_{21} + m_{21} m_{22} & m_{12} m_{21} + m_{22}^{2}\\end{matrix}\\right]$"
          },
          "metadata": {},
          "execution_count": 121
        }
      ]
    },
    {
      "cell_type": "code",
      "source": [
        "A * b"
      ],
      "metadata": {
        "colab": {
          "base_uri": "https://localhost:8080/",
          "height": 58
        },
        "id": "AXeV1rdhwGxM",
        "outputId": "2078351d-0e13-48c5-a090-6766fcafd7f0"
      },
      "execution_count": null,
      "outputs": [
        {
          "output_type": "execute_result",
          "data": {
            "text/plain": [
              "⎡b₁⋅m₁₁ + b₂⋅m₁₂⎤\n",
              "⎢               ⎥\n",
              "⎣b₁⋅m₂₁ + b₂⋅m₂₂⎦"
            ],
            "text/latex": "$\\displaystyle \\left[\\begin{matrix}b_{1} m_{11} + b_{2} m_{12}\\\\b_{1} m_{21} + b_{2} m_{22}\\end{matrix}\\right]$"
          },
          "metadata": {},
          "execution_count": 122
        }
      ]
    },
    {
      "cell_type": "code",
      "source": [
        "A.inv()"
      ],
      "metadata": {
        "colab": {
          "base_uri": "https://localhost:8080/",
          "height": 61
        },
        "id": "x7GjbGiVwMUc",
        "outputId": "fbed1636-93f0-4b13-e003-85f1232749c6"
      },
      "execution_count": null,
      "outputs": [
        {
          "output_type": "execute_result",
          "data": {
            "text/plain": [
              "⎡       m₂₂               -m₁₂       ⎤\n",
              "⎢─────────────────  ─────────────────⎥\n",
              "⎢m₁₁⋅m₂₂ - m₁₂⋅m₂₁  m₁₁⋅m₂₂ - m₁₂⋅m₂₁⎥\n",
              "⎢                                    ⎥\n",
              "⎢      -m₂₁                m₁₁       ⎥\n",
              "⎢─────────────────  ─────────────────⎥\n",
              "⎣m₁₁⋅m₂₂ - m₁₂⋅m₂₁  m₁₁⋅m₂₂ - m₁₂⋅m₂₁⎦"
            ],
            "text/latex": "$\\displaystyle \\left[\\begin{matrix}\\frac{m_{22}}{m_{11} m_{22} - m_{12} m_{21}} & - \\frac{m_{12}}{m_{11} m_{22} - m_{12} m_{21}}\\\\- \\frac{m_{21}}{m_{11} m_{22} - m_{12} m_{21}} & \\frac{m_{11}}{m_{11} m_{22} - m_{12} m_{21}}\\end{matrix}\\right]$"
          },
          "metadata": {},
          "execution_count": 123
        }
      ]
    },
    {
      "cell_type": "code",
      "source": [
        "A.columnspace()"
      ],
      "metadata": {
        "colab": {
          "base_uri": "https://localhost:8080/",
          "height": 58
        },
        "id": "bII7orM8wPnc",
        "outputId": "2c13a2ee-c432-4446-96c1-fd61773055ef"
      },
      "execution_count": null,
      "outputs": [
        {
          "output_type": "execute_result",
          "data": {
            "text/plain": [
              "⎡⎡m₁₁⎤  ⎡m₁₂⎤⎤\n",
              "⎢⎢   ⎥, ⎢   ⎥⎥\n",
              "⎣⎣m₂₁⎦  ⎣m₂₂⎦⎦"
            ],
            "text/latex": "$\\displaystyle \\left[ \\left[\\begin{matrix}m_{11}\\\\m_{21}\\end{matrix}\\right], \\  \\left[\\begin{matrix}m_{12}\\\\m_{22}\\end{matrix}\\right]\\right]$"
          },
          "metadata": {},
          "execution_count": 124
        }
      ]
    },
    {
      "cell_type": "markdown",
      "source": [
        "## Resouces"
      ],
      "metadata": {
        "id": "GxuEP-7SxCdb"
      }
    },
    {
      "cell_type": "markdown",
      "source": [
        "* http://sympy.org/en/index.html - The SymPy projects web page.\n",
        "* https://github.com/sympy/sympy - The source code of SymPy.\n",
        "\n",
        "\n"
      ],
      "metadata": {
        "id": "fgUZenn7xBmm"
      }
    },
    {
      "cell_type": "markdown",
      "source": [
        "# **Lecture 8 Introduction to Scientific Computing**"
      ],
      "metadata": {
        "id": "CVa86Ory85Dq"
      }
    },
    {
      "cell_type": "markdown",
      "source": [
        "## Scientific Computing"
      ],
      "metadata": {
        "id": "3n6majVq-xBS"
      }
    },
    {
      "cell_type": "markdown",
      "source": [
        "* Scientific computing is the study of algorithms and numerical methods for solving scientific and engineering problems using computers.\n",
        "* Goals: Scientific computing aims to provide efficient and accurate solutions to complex mathematical models that describe physical, chemical, or biological phenomena."
      ],
      "metadata": {
        "id": "YVO7cdlD-Q3a"
      }
    },
    {
      "cell_type": "markdown",
      "source": [
        "## Key Components of Scientific Computing"
      ],
      "metadata": {
        "id": "PEpSWOEu-s6j"
      }
    },
    {
      "cell_type": "markdown",
      "source": [
        "* Mathematical Modeling: The process of formulating real-world problems into mathematical models, often in the form of differential equations, partial differential equations, or algebraic equations.\n",
        "\n",
        "* Numerical Methods: Techniques for approximating solutions to mathematical models.\n",
        "\n",
        "* High-Performance Computing: The use of powerful computer hardware, parallel computing, and distributed systems to solve large-scale and computationally intensive problems.\n",
        "\n",
        "* Software Development: Developing and maintaining software libraries and tools for scientific computation, often in languages like Python, MATLAB, or C/C++."
      ],
      "metadata": {
        "id": "iKwykho--zbr"
      }
    },
    {
      "cell_type": "markdown",
      "source": [
        "## Some Scientific Computing Problems"
      ],
      "metadata": {
        "id": "Y4gEn85p_pn0"
      }
    },
    {
      "cell_type": "markdown",
      "source": [
        "* **Root Finding:** Finding solutions to equations. Methods like the bisection method, Newton's method, and the secant method are commonly used.\n",
        "\n",
        "* **Linear Algebra:** Solving linear systems of equations, eigenvalue problems, and singular value decomposition.\n",
        "\n",
        "* **Differential Equations:** Numerical techniques for solving ordinary differential equations (ODEs) and partial differential equations (PDEs).\n",
        "\n",
        "* **Optimization:** Finding the minimum or maximum of a function, which is crucial for parameter estimation, machine learning, and optimization problems in engineering and science."
      ],
      "metadata": {
        "id": "iw7lWnMG_u3N"
      }
    },
    {
      "cell_type": "markdown",
      "source": [
        "## High-Performance Computing"
      ],
      "metadata": {
        "id": "U7IS9Z_eAIE-"
      }
    },
    {
      "cell_type": "markdown",
      "source": [
        "* Parallel Computing: Leveraging multiple processors or cores to perform calculations simultaneously. Parallel programming models include MPI (Message Passing Interface) and OpenMP.\n",
        "\n",
        "* GPU Computing: Utilizing Graphics Processing Units (GPUs) to accelerate computations, especially for tasks that involve heavy parallelization, like deep learning.\n",
        "\n",
        "* Cluster and Cloud Computing: Employing clusters and cloud resources to handle large-scale simulations and data analysis."
      ],
      "metadata": {
        "id": "YdaePKBpAJZV"
      }
    },
    {
      "cell_type": "markdown",
      "source": [
        "## Real-World Applications"
      ],
      "metadata": {
        "id": "3hiZBzo5AWgV"
      }
    },
    {
      "cell_type": "markdown",
      "source": [
        "* Physics: Simulation of physical systems, such as fluid dynamics, quantum mechanics, and astrophysics.\n",
        "\n",
        "* Engineering: Structural analysis, aerodynamics, and materials science.\n",
        "\n",
        "* Biology: Computational biology, bioinformatics, and modeling biological systems.\n",
        "\n",
        "* Finance: Risk assessment, option pricing, and financial modeling.\n",
        "\n",
        "* Environmental Science: Climate modeling and environmental impact assessment.\n",
        "* More and more"
      ],
      "metadata": {
        "id": "Y596Av8wAX0n"
      }
    },
    {
      "cell_type": "markdown",
      "source": [
        "# **Lecture 8 Introduction to Scientific Computing Part 2: Numerical Algorithms**#"
      ],
      "metadata": {
        "id": "BFQxTfcQAuVM"
      }
    },
    {
      "cell_type": "markdown",
      "source": [
        "## Commonly Seen Numerical Methods"
      ],
      "metadata": {
        "id": "z1QZfO0gCb_g"
      }
    },
    {
      "cell_type": "markdown",
      "source": [
        "Here is a list (far away from complete) of common numerical methods. We will briefly talk about some of these in this lecture. Your will be asked to implement some of these algorithms in your assginment."
      ],
      "metadata": {
        "id": "PMnPyxspCk0I"
      }
    },
    {
      "cell_type": "markdown",
      "source": [
        "1. **Root-Finding Methods**:\n",
        "   - *Bisection Method*: Iteratively narrow down the interval containing a root by bisecting it.\n",
        "   - *Newton-Raphson Method*: Uses derivatives to iteratively refine an approximation to a root.\n",
        "   - *Secant Method*: An iterative method for approximating roots without requiring derivative information.\n",
        "\n",
        "2. **Linear Algebra Methods**:\n",
        "   - *Gaussian Elimination*: Solves systems of linear equations through row operations.\n",
        "   - *LU Decomposition*: Decomposes a matrix into lower and upper triangular matrices to solve linear systems.\n",
        "   - *Iterative Methods (e.g., Jacobi, Gauss-Seidel)*: Solves linear systems iteratively by updating approximations.\n",
        "\n",
        "3. **Interpolation and Approximation**:\n",
        "   - *Lagrange Interpolation*: Constructs a polynomial that passes through given data points.\n",
        "   - *Newton's Divided Difference Interpolation*: A method for polynomial interpolation.\n",
        "   - *Least Squares Approximation*: Minimizes the sum of the squares of the residuals to approximate data.\n",
        "\n",
        "4. **Numerical Differentiation and Integration**:\n",
        "   - *Numerical Integration (e.g., Trapezoidal Rule, Simpson's Rule)*: Approximates definite integrals.\n",
        "   - *Differentiation (e.g., Finite Difference Methods)*: Estimates derivatives from discrete data.\n",
        "\n",
        "5. **Ordinary Differential Equations (ODEs)**:\n",
        "   - *Euler's Method*: Approximates solutions to first-order ODEs.\n",
        "   - *Runge-Kutta Methods*: Higher-order ODE solvers, e.g., RK4.\n",
        "   - *Boundary Value Problems (e.g., Shooting Method)*: Solves ODEs with specified boundary conditions.\n",
        "\n",
        "6. **Partial Differential Equations (PDEs)**:\n",
        "   - *Finite Difference Method*: Discretizes PDEs in space and time.\n",
        "   - *Finite Element Method (FEM)*: Decomposes the domain into elements for PDE solution.\n",
        "   - *Finite Volume Method (FVM)*: Focuses on conservations laws for PDEs.\n",
        "\n",
        "7. **Optimization Methods**:\n",
        "   - *Gradient Descent*: An iterative method for optimizing functions, often used in machine learning.\n",
        "   - *Newton's Method for Optimization*: An iterative method for minimizing or maximizing functions.\n",
        "   - *Genetic Algorithms*: Optimization inspired by natural selection and genetics.\n",
        "\n",
        "8. **Monte Carlo Methods**:\n",
        "   - *Monte Carlo Integration*: Approximates integrals by random sampling.\n",
        "   - *Markov Chain Monte Carlo (MCMC)*: Generates samples from complex distributions.\n",
        "   - *Simulated Annealing*: An optimization method inspired by annealing processes in metallurgy.\n",
        "\n",
        "9. **Numerical Linear Algebra**:\n",
        "   - *Singular Value Decomposition (SVD)*: Decomposes a matrix into three other matrices and is used in data compression and dimensionality reduction.\n",
        "   - *Principal Component Analysis (PCA)*: A dimensionality reduction technique based on SVD.\n",
        "   - *Eigenvalue and Eigenvector Computation*: Used in various applications, including quantum mechanics and vibration analysis."
      ],
      "metadata": {
        "id": "lq9v1IATCS_4"
      }
    },
    {
      "cell_type": "markdown",
      "source": [
        "## Root Finding"
      ],
      "metadata": {
        "id": "8RwWtasIGBFG"
      }
    },
    {
      "cell_type": "markdown",
      "source": [
        "Bisection Method:\n",
        "\n",
        "![link text](https://www.researchgate.net/publication/336638575/figure/fig2/AS:815189725286401@1571367784538/Bisection-method-This-Bisection-method-states-that-if-fx-is-continuous-which-is-defined.ppm)\n",
        "\n",
        "Explore Newton's method and the Secant method on your own!"
      ],
      "metadata": {
        "id": "NRx27BU4GD4t"
      }
    },
    {
      "cell_type": "markdown",
      "source": [
        "## Strassen for Matrix Multiplication"
      ],
      "metadata": {
        "id": "5uVLZd0cC66o"
      }
    },
    {
      "cell_type": "markdown",
      "source": [
        "The Strassen algorithm is a divide-and-conquer technique used for efficient matrix multiplication. It reduces the number of basic multiplications required for multiplying two matrices, resulting in faster matrix multiplication for large matrices. The algorithm was developed by Volker Strassen in 1969."
      ],
      "metadata": {
        "id": "Ce8ER0yVC8sx"
      }
    },
    {
      "cell_type": "markdown",
      "source": [
        "Step 1: Divide\n",
        "\n",
        "1. Divide the two input matrices, A and B, into four equally sized submatrices. Let's call these submatrices A11, A12, A21, A22, B11, B12, B21, and B22.\n",
        "\n",
        "Step 2: Recurse\n",
        "\n",
        "2. Recursively compute seven products of submatrices (P1 to P7) using the following formulas:\n",
        "   - P1 = A11 * (B12 - B22)\n",
        "   - P2 = (A11 + A12) * B22\n",
        "   - P3 = (A21 + A22) * B11\n",
        "   - P4 = A22 * (B21 - B11)\n",
        "   - P5 = (A11 + A22) * (B11 + B22)\n",
        "   - P6 = (A12 - A22) * (B21 + B22)\n",
        "   - P7 = (A11 - A21) * (B11 + B12)\n",
        "\n",
        "Step 3: Combine\n",
        "\n",
        "3. Calculate the four submatrices of the result matrix, C, using the products computed in the previous step:\n",
        "   - C11 = P5 + P4 - P2 + P6\n",
        "   - C12 = P1 + P2\n",
        "   - C21 = P3 + P4\n",
        "   - C22 = P5 + P1 - P3 - P7\n",
        "\n",
        "Step 4: Recursion Termination\n",
        "\n",
        "4. If the submatrices become small enough (below a certain threshold), perform standard matrix multiplication to calculate C11, C12, C21, and C22."
      ],
      "metadata": {
        "id": "9fIxBawQDJv5"
      }
    },
    {
      "cell_type": "markdown",
      "source": [
        "## Jacobi Method for $Ax=b$"
      ],
      "metadata": {
        "id": "PHhmYdK1InVO"
      }
    },
    {
      "cell_type": "markdown",
      "source": [
        "The Jacobi method is an iterative algorithm used to solve a system of linear equations, particularly when the system is diagonally dominant or when it can be transformed into a diagonally dominant system. It is one of several iterative methods used for solving such systems, along with methods like Gauss-Seidel and successive over-relaxation (SOR)."
      ],
      "metadata": {
        "id": "NgLqaKwqIuKV"
      }
    },
    {
      "cell_type": "markdown",
      "source": [
        "**Matrix-based formula**\n",
        "\n",
        "Then $A$ can be decomposed into a diagonal component $D$, a lower triangular part $L$ and an upper triangular part $U$ :\n",
        "$$\n",
        "A=D+L+U \\quad \\text { where } \\quad D=\\left[\\begin{array}{cccc}\n",
        "a_{11} & 0 & \\cdots & 0 \\\\\n",
        "0 & a_{22} & \\cdots & 0 \\\\\n",
        "\\vdots & \\vdots & \\ddots & \\vdots \\\\\n",
        "0 & 0 & \\cdots & a_{n n}\n",
        "\\end{array}\\right] \\text { and } L+U=\\left[\\begin{array}{cccc}\n",
        "0 & a_{12} & \\cdots & a_{1 n} \\\\\n",
        "a_{21} & 0 & \\cdots & a_{2 n} \\\\\n",
        "\\vdots & \\vdots & \\ddots & \\vdots \\\\\n",
        "a_{n 1} & a_{n 2} & \\cdots & 0\n",
        "\\end{array}\\right] \\text {. }\n",
        "$$\n",
        "The solution is then obtained iteratively via\n",
        "$$\n",
        "\\mathbf{x}^{(k+1)}=D^{-1}\\left(\\mathbf{b}-(L+U) \\mathbf{x}^{(k)}\\right) .\n",
        "$$\n",
        "\n",
        "**Element-based formula**\n",
        "\n",
        "The element-based formula for each row $i$ is thus:\n",
        "$$\n",
        "x_i^{(k+1)}=\\frac{1}{a_{i i}}\\left(b_i-\\sum_{j \\neq i} a_{i j} x_j^{(k)}\\right), \\quad i=1,2, \\ldots, n .\n",
        "$$\n",
        "The computation of $x_i^{(k+1)}$ requires each element in $\\mathbf{x}^{(k)}$ except itself. Unlike the Gauss-Seidel method, we can't overwrite $x_i^{(k)}$ with $x_i^{(k+1)}$, as that value will be needed by the rest of the computation.\n",
        "\n",
        "Explore Gauss-Seidel on your own!"
      ],
      "metadata": {
        "id": "ffe5NzYiI0QQ"
      }
    },
    {
      "cell_type": "markdown",
      "source": [
        "## Numerical Integration"
      ],
      "metadata": {
        "id": "H3QTvvUdDjSA"
      }
    },
    {
      "cell_type": "markdown",
      "source": [
        "Numerical integration, also known as numerical quadrature, is a technique used to approximate the definite integral of a function when an analytical solution is either challenging or impossible. This approach is essential in various fields such as mathematics, physics, engineering, and computer science."
      ],
      "metadata": {
        "id": "wVysly7WDt0P"
      }
    },
    {
      "cell_type": "markdown",
      "source": [
        "Riemman Sum:\n",
        "\n",
        "![link text](https://patrickwalls.github.io/mathematicalpython/integration/img/riemann-sums_3_0.png)\n",
        "\n",
        "![link text](https://patrickwalls.github.io/mathematicalpython/integration/img/trapezoid-rule_21_0.png)\n",
        "\n",
        "\n",
        "\n",
        "Image Source: Mathematical Python\n",
        "\n",
        "There are also other commonly used schemes for numerical integration. We will not discuss in this class.\n",
        "\n",
        "1. Simpson's rule is a higher-precision numerical integration method that uses quadratic approximations to the function in each subinterval. It provides even more accurate results compared to the Trapezoidal rule, especially for smoother functions.\n",
        "\n",
        "2. Gaussian quadrature is a numerical integration technique that uses weighted sum of function values at specific points within the interval. It provides highly precise estimates for a wide range of functions.\n",
        "\n",
        "Explore Monte Carlo Integration on your own!"
      ],
      "metadata": {
        "id": "kPIWspFOro3X"
      }
    },
    {
      "cell_type": "markdown",
      "source": [
        "## Numerical Differentiation and Finite Difference Method"
      ],
      "metadata": {
        "id": "2h9CAv9qtgDC"
      }
    },
    {
      "cell_type": "markdown",
      "source": [
        "Definition of derivatives:\n",
        "$$f^{\\prime}(x) \\equiv \\lim _{h \\rightarrow 0} \\frac{f(x+h)-f(x)}{h}$$\n"
      ],
      "metadata": {
        "id": "NNomx8K9uWaj"
      }
    },
    {
      "cell_type": "markdown",
      "source": [
        "Forward difference:\n",
        "$$f^{\\prime}(x) \\approx \\frac{f(x+h)-f(x)}{h}, \\text{ for some small $h$}$$\n",
        "\n",
        "Backward difference:\n",
        "$$f^{\\prime}(x) \\approx \\frac{f(x)-f(x-h)}{h}, \\text{ for some small $h$}$$\n",
        "\n",
        "Centeral difference:\n",
        "$$f^{\\prime}(x) \\approx \\frac{f(x+h)-f(x-h)}{2 h}$$\n",
        "\n",
        "Finite difference:\n",
        "\n",
        "$$\n",
        "\\begin{aligned}\n",
        "f_x(x, y) & \\approx \\frac{f(x+h, y)-f(x-h, y)}{2 h} \\\\\n",
        "f_y(x, y) & \\approx \\frac{f(x, y+k)-f(x, y-k)}{2 k} \\\\\n",
        "f_{x x}(x, y) & \\approx \\frac{f(x+h, y)-2 f(x, y)+f(x-h, y)}{h^2} \\\\\n",
        "f_{y y}(x, y) & \\approx \\frac{f(x, y+k)-2 f(x, y)+f(x, y-k)}{k^2} \\\\\n",
        "f_{x y}(x, y) & \\approx \\frac{f(x+h, y+k)-f(x+h, y-k)-f(x-h, y+k)+f(x-h, y-k)}{4 h k}\n",
        "\\end{aligned}\n",
        "$$"
      ],
      "metadata": {
        "id": "ll_Pq6aeuk7p"
      }
    },
    {
      "cell_type": "markdown",
      "source": [
        "# Not finished, more about numerical algorithms in the coming lectures."
      ],
      "metadata": {
        "id": "z848O8L2VI_v"
      }
    }
  ]
}