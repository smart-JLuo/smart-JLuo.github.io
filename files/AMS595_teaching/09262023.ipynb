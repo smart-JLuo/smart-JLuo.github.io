{
  "nbformat": 4,
  "nbformat_minor": 0,
  "metadata": {
    "colab": {
      "provenance": [],
      "gpuType": "T4",
      "collapsed_sections": [
        "TLMt4Dz_rvKM",
        "bndvXBtjVJOL",
        "rrKguy7qYJCH"
      ]
    },
    "kernelspec": {
      "name": "python3",
      "display_name": "Python 3"
    },
    "language_info": {
      "name": "python"
    }
  },
  "cells": [
    {
      "cell_type": "code",
      "source": [
        "%cd -"
      ],
      "metadata": {
        "colab": {
          "base_uri": "https://localhost:8080/"
        },
        "id": "v3RVpjv3rekB",
        "outputId": "477bdac7-f2d1-431a-efb1-b663b7af1e59"
      },
      "execution_count": null,
      "outputs": [
        {
          "output_type": "stream",
          "name": "stdout",
          "text": [
            "/content\n"
          ]
        }
      ]
    },
    {
      "cell_type": "code",
      "source": [
        "!pwd"
      ],
      "metadata": {
        "colab": {
          "base_uri": "https://localhost:8080/"
        },
        "id": "V2fBHdThrsSa",
        "outputId": "661699a1-fd53-48f3-c779-080efd19b715"
      },
      "execution_count": null,
      "outputs": [
        {
          "output_type": "stream",
          "name": "stdout",
          "text": [
            "/content\n"
          ]
        }
      ]
    },
    {
      "cell_type": "code",
      "source": [
        "%cd drive/MyDrive/ams_595_python_teaching"
      ],
      "metadata": {
        "colab": {
          "base_uri": "https://localhost:8080/"
        },
        "id": "gGKmId6xWUrX",
        "outputId": "a9f3f3f6-245b-421d-ad55-2c3a42a7da71"
      },
      "execution_count": null,
      "outputs": [
        {
          "output_type": "stream",
          "name": "stdout",
          "text": [
            "/content/drive/MyDrive/ams_595_python_teaching\n"
          ]
        }
      ]
    },
    {
      "cell_type": "markdown",
      "source": [
        "# **Python Lecture 1**\n"
      ],
      "metadata": {
        "id": "TLMt4Dz_rvKM"
      }
    },
    {
      "cell_type": "markdown",
      "source": [
        "---\n",
        "### About Python\n",
        "\n",
        "> First developed by Guido van Rossum in 1991.\n",
        "\n",
        "\n",
        "> Over the past few years, the popularity of Python has experienced a remarkable surge.\n",
        "\n",
        "> Open source, free to use.\n",
        "\n",
        "\n",
        "> Python's design philosophy emphasizes code readability and a clear syntax, making it easy for developers to write and understand code. This characteristic has contributed to its adoption in various domains, such as web development, data analysis, artificial intelligence, scientific research, automation, and more.\n",
        "\n",
        "\n",
        "> The language's extensive standard library and a vast collection of third-party libraries and frameworks enable developers to accomplish a wide range of tasks efficiently. Some popular libraries for data science, computational science, and machine learning include NumPy, Scipy, Pandas, Pytorch, etc..\n",
        "\n",
        "### How Python Runs\n",
        "- Write code using any text editor of your choice\n",
        "- The Python Interpreter reads your Python code and executes it\n",
        "- The interpreter compiles your code into byte code which is then fed to the Python Virtual Machine (PVM)\n",
        "- Note that byte code is a Python-specific representation, it is not machine code\n",
        "- Python is slower than compiled languages such as C because of this PVM step\n",
        "- Python files often have the file extension .py\n",
        "- Programs can be run directly within the IDE or through shell command lines"
      ],
      "metadata": {
        "id": "l4LMsiO5XACu"
      }
    },
    {
      "cell_type": "markdown",
      "source": [
        "## Install Python & Python IDE/Code Editor\n",
        "---\n",
        "###Install Python (Often preinstalled on Linux and Mac OS machines)\n",
        "\n",
        "https://realpython.com/installing-python/#%23how-to-install-python\n",
        "\n",
        "https://www.python.org/downloads/\n",
        "\n",
        "or simply google install python.\n",
        "\n",
        "###In your command prompt\n",
        "\n",
        " - Check Installation: py --version.\n",
        "\n",
        " - Go into the python intepreter: py\n",
        "\n",
        " - Print \"Hello World\": print('Hello, world!')\n",
        "\n",
        "\n",
        "###Common Python IDE/Code Editor\n",
        "\n",
        "\n",
        "*   PyCharm - Python specific IDE\n",
        "*   Jupyter Notebook - a web app that allows you to create and share documents with live code, equations, visualizations, commentary, etc. Lecture notes and most demos in this course will be through Jupyter notebooks; assignments will be through jupyter notebooks as well.\n",
        "*   VSCode - General purpose text editor\n",
        "*   Spyder - Scientific Python Development Environment, with advanced\n",
        "editing, interactive testing, debugging and introspection\n",
        "features, and integrated support for IPython, NumPy (linear\n",
        "algebra), SciPy (signal and image processing), or matplotlib\n",
        "(interactive 2D/3D plotting).\n",
        "\n",
        "\n"
      ],
      "metadata": {
        "id": "CopyjOfKvnZX"
      }
    },
    {
      "cell_type": "code",
      "source": [
        "! pyhon --version"
      ],
      "metadata": {
        "colab": {
          "base_uri": "https://localhost:8080/"
        },
        "id": "wCPisdvpsE4x",
        "outputId": "258a8519-3935-4ebf-befe-157e7737f36a"
      },
      "execution_count": null,
      "outputs": [
        {
          "output_type": "stream",
          "name": "stdout",
          "text": [
            "/bin/bash: line 1: pyhon: command not found\n"
          ]
        }
      ]
    },
    {
      "cell_type": "markdown",
      "source": [
        "##Expressions\n",
        "\n",
        "\n",
        "---\n",
        "###Constants\n",
        "\n",
        "- Fixed values such as numbers, letters, and strings, are called \"constants\" because their value does not change\n",
        "- Numeric constants are as you expect\n",
        "- String constants use single quotes (') or double quotes (\")\n",
        "- Examples: 595, 59.5, \"I love AMS 595\"\n",
        "\n",
        "### What else?\n",
        "- Variables and reserved words.\n",
        "- Reserved words cannot be used as variable names / identifiers, such as False, class, return, None, etc..\n",
        "- A variable is a named place in the memory where a programmer can store data and later retrieve the data using the variable \"name\"\n",
        "- Programmers get to choose the names of the variables\n",
        "- You can change the contents of a variable in a later statement\n",
        "\n",
        "###Python Variable Name Rules\n",
        "- Must start with a letter or underscore\n",
        "- Must consist of letters, numbers, and underscores\n",
        "- Case Sensitive"
      ],
      "metadata": {
        "id": "5jfVFAyH3WKp"
      }
    },
    {
      "cell_type": "markdown",
      "source": [
        "###Types\n",
        "- In Python variables, literals, and constants have a \"type\"\n",
        "- Python knows the difference between an integer number and a string\n",
        "- For example \"+\" means \"addition\" if something is a number and \"concatenate\" if something is a string\n",
        "- Python knows what \"type\" everything is\n",
        "- Some operations are prohibited\n",
        "- You cannot \"add 1\" to a string\n",
        "- We can ask Python what type something is by using the type() function\n",
        "- There are several types of numbers such as int, double, and float."
      ],
      "metadata": {
        "id": "lAMyFowuL37M"
      }
    },
    {
      "cell_type": "code",
      "source": [
        "s1 = \"a\"\n",
        "s2 = \"b\"\n",
        "integer = 1\n",
        "type(s1)"
      ],
      "metadata": {
        "id": "QthtxTI_NfEc",
        "colab": {
          "base_uri": "https://localhost:8080/"
        },
        "outputId": "e113603c-4c4e-4a48-c31d-e03bdb9c1896"
      },
      "execution_count": null,
      "outputs": [
        {
          "output_type": "execute_result",
          "data": {
            "text/plain": [
              "str"
            ]
          },
          "metadata": {},
          "execution_count": 6
        }
      ]
    },
    {
      "cell_type": "code",
      "source": [
        "s3 = s1 + integer"
      ],
      "metadata": {
        "colab": {
          "base_uri": "https://localhost:8080/",
          "height": 176
        },
        "id": "nZy0_Gm3N7Oe",
        "outputId": "b477deda-81f3-4b8b-c4ea-3fe99a25e566"
      },
      "execution_count": null,
      "outputs": [
        {
          "output_type": "error",
          "ename": "TypeError",
          "evalue": "ignored",
          "traceback": [
            "\u001b[0;31m---------------------------------------------------------------------------\u001b[0m",
            "\u001b[0;31mTypeError\u001b[0m                                 Traceback (most recent call last)",
            "\u001b[0;32m<ipython-input-7-76efec32cb35>\u001b[0m in \u001b[0;36m<cell line: 1>\u001b[0;34m()\u001b[0m\n\u001b[0;32m----> 1\u001b[0;31m \u001b[0ms3\u001b[0m \u001b[0;34m=\u001b[0m \u001b[0ms1\u001b[0m \u001b[0;34m+\u001b[0m \u001b[0minteger\u001b[0m\u001b[0;34m\u001b[0m\u001b[0;34m\u001b[0m\u001b[0m\n\u001b[0m",
            "\u001b[0;31mTypeError\u001b[0m: can only concatenate str (not \"int\") to str"
          ]
        }
      ]
    },
    {
      "cell_type": "markdown",
      "source": [
        "###Type Conversions\n",
        "- You may convert from one type to another using built-in functions such as str()\n",
        "- When you put an integer and floating point in an expression, the integer is implicitly converted to a float\n",
        "- You can control this with the built-in functions int() and float()\n",
        "- Integer division produces a floating point result\n",
        "- You will get an error if the conversion does not make sense, such as converting a string that does not contain numeric characters to int."
      ],
      "metadata": {
        "id": "0bFOrSj4ObFi"
      }
    },
    {
      "cell_type": "code",
      "source": [
        "s3 = s1 + str(integer)\n",
        "print(s3)"
      ],
      "metadata": {
        "colab": {
          "base_uri": "https://localhost:8080/"
        },
        "id": "P3H4rqURN-Ud",
        "outputId": "1a6a54d3-fff9-4af5-8ec7-c74b66ea7fac"
      },
      "execution_count": null,
      "outputs": [
        {
          "output_type": "stream",
          "name": "stdout",
          "text": [
            "a1\n"
          ]
        }
      ]
    },
    {
      "cell_type": "code",
      "source": [
        "s4 = \"10\"\n",
        "print(int(s4))\n",
        "print(int(s3))"
      ],
      "metadata": {
        "colab": {
          "base_uri": "https://localhost:8080/",
          "height": 228
        },
        "id": "uH191dVbPFmC",
        "outputId": "2d1e961a-99c3-4331-f5cb-323e8b8b2865"
      },
      "execution_count": null,
      "outputs": [
        {
          "output_type": "stream",
          "name": "stdout",
          "text": [
            "10\n"
          ]
        },
        {
          "output_type": "error",
          "ename": "ValueError",
          "evalue": "ignored",
          "traceback": [
            "\u001b[0;31m---------------------------------------------------------------------------\u001b[0m",
            "\u001b[0;31mValueError\u001b[0m                                Traceback (most recent call last)",
            "\u001b[0;32m<ipython-input-9-d7d5b607f314>\u001b[0m in \u001b[0;36m<cell line: 3>\u001b[0;34m()\u001b[0m\n\u001b[1;32m      1\u001b[0m \u001b[0ms4\u001b[0m \u001b[0;34m=\u001b[0m \u001b[0;34m\"10\"\u001b[0m\u001b[0;34m\u001b[0m\u001b[0;34m\u001b[0m\u001b[0m\n\u001b[1;32m      2\u001b[0m \u001b[0mprint\u001b[0m\u001b[0;34m(\u001b[0m\u001b[0mint\u001b[0m\u001b[0;34m(\u001b[0m\u001b[0ms4\u001b[0m\u001b[0;34m)\u001b[0m\u001b[0;34m)\u001b[0m\u001b[0;34m\u001b[0m\u001b[0;34m\u001b[0m\u001b[0m\n\u001b[0;32m----> 3\u001b[0;31m \u001b[0mprint\u001b[0m\u001b[0;34m(\u001b[0m\u001b[0mint\u001b[0m\u001b[0;34m(\u001b[0m\u001b[0ms3\u001b[0m\u001b[0;34m)\u001b[0m\u001b[0;34m)\u001b[0m\u001b[0;34m\u001b[0m\u001b[0;34m\u001b[0m\u001b[0m\n\u001b[0m",
            "\u001b[0;31mValueError\u001b[0m: invalid literal for int() with base 10: 'a1'"
          ]
        }
      ]
    },
    {
      "cell_type": "markdown",
      "source": [
        "###Numerical Expressions\n",
        "\n",
        "\n",
        "---\n",
        "\n",
        "\n",
        "| Operator      | Description                      | Example                  | Result       |\n",
        "|---------------|----------------------------------|--------------------------|--------------|\n",
        "| `+`           | Addition                         | `6 + 3`                  | `9`          |\n",
        "| `-`           | Subtraction                      | `6 - 3`                  | `3`          |\n",
        "| `*`           | Multiplication                   | `6 * 3`                  | `18`         |\n",
        "| `/`           | Division                         | `6 / 3`                  | `2.0`        |\n",
        "| `//`          | Floor Division                   | `6 // 3`                 | `2`          |\n",
        "| `%`           | Modulo (Remainder)               | `6 % 3`                  | `0`          |\n",
        "| `**`          | Exponentiation                   | `6 ** 3`                 | `216`        |\n",
        "\n",
        "\n",
        "###Sentences or Lines\n",
        "\n",
        "```\n",
        "a = 6\n",
        "b = 3\n",
        "\n",
        "result_add = a + b  # 9\n",
        "result_sub = a - b  # 3\n",
        "result_mul = a * b  # 18\n",
        "result_div = a / b  # 2.0\n",
        "result_floor_div = a // b  # 2\n",
        "result_mod = a % b  # 0\n",
        "result_exp = a ** b  # 216\n",
        "```\n",
        "A variable is a memory location used to store a value. The value stored in a variable can be updated by replacing the old value $5$ with a new value.\n",
        "The right side is an expression. Once the expression is evaluated, the result is placed in (assigned to) the variable on the left side (i.e., $x$ ).\n",
        "\n",
        "###Order Precedence in Python\n",
        "https://www.programiz.com/python-programming/precedence-associativity"
      ],
      "metadata": {
        "id": "BrJMxWHYTzZd"
      }
    },
    {
      "cell_type": "code",
      "source": [
        "a = 5\n",
        "print(a)\n",
        "a = 10\n",
        "print(a)"
      ],
      "metadata": {
        "colab": {
          "base_uri": "https://localhost:8080/"
        },
        "id": "YArX4pt7uaM4",
        "outputId": "08af23f1-5197-4191-96f1-3ea6a0d6a565"
      },
      "execution_count": null,
      "outputs": [
        {
          "output_type": "stream",
          "name": "stdout",
          "text": [
            "5\n",
            "10\n"
          ]
        }
      ]
    },
    {
      "cell_type": "code",
      "source": [
        "a = 6\n",
        "b = 3\n",
        "\n",
        "result_add = a + b\n",
        "result_sub = a - b\n",
        "result_mul = a * b\n",
        "result_div = a / b\n",
        "result_floor_div = a // b\n",
        "result_mod = a % b\n",
        "result_exp = a ** b\n",
        "a = a + b + 9\n",
        "print(\"Addition:\", result_add)         # Output: Addition: 9\n",
        "print(\"Subtraction:\", result_sub)      # Output: Subtraction: 3\n",
        "print(\"Multiplication:\", result_mul)   # Output: Multiplication: 18\n",
        "print(\"Division:\", result_div)         # Output: Division: 2.0\n",
        "print(\"Floor Division:\", result_floor_div)  # Output: Floor Division: 2\n",
        "print(\"Modulo:\", result_mod)           # Output: Modulo: 0\n",
        "print(\"Exponentiation:\", result_exp)   # Output: Exponentiation: 216\n",
        "print(\"New a: \",a)   # Output: New a: 18"
      ],
      "metadata": {
        "colab": {
          "base_uri": "https://localhost:8080/"
        },
        "id": "QT8c9MzfEMHV",
        "outputId": "8ef97e30-7f48-4f11-e3fb-5e64983d95ef"
      },
      "execution_count": null,
      "outputs": [
        {
          "output_type": "stream",
          "name": "stdout",
          "text": [
            "Addition: 9\n",
            "Subtraction: 3\n",
            "Multiplication: 18\n",
            "Division: 2.0\n",
            "Floor Division: 2\n",
            "Modulo: 0\n",
            "Exponentiation: 216\n",
            "New a:  18\n"
          ]
        }
      ]
    },
    {
      "cell_type": "markdown",
      "source": [
        "##Other topics and resources\n",
        "There are many topics that we are not able to cover in class, such as how to take user inputs, but there are plenty of online resourses that covers all these topics.\n",
        "-   Google: https://www.google.com/\n",
        "-   w3school python tutorials: https://www.w3schools.com/python/default.asp\n",
        "-   GeeksforGeeks: https://www.geeksforgeeks.org/\n",
        "-   Python documentation: https://docs.python.org/3/"
      ],
      "metadata": {
        "id": "_0T_tnkpRKJ7"
      }
    },
    {
      "cell_type": "markdown",
      "source": [
        "## Conditional Code/Control Flow\n",
        "\n",
        "\n",
        "---\n",
        "\n",
        "\n",
        "### Conditional Statements\n",
        "-   Conditional statements in python are quite similar to that in Matlab. We'll go over some examples to get you familiar with the syntax, but you should spend some time practicing if you are not confortable with python syntax.\n",
        "\n",
        "###Comparison Operators\n",
        "| Operator      | Description                    | Example    | Result  |\n",
        "|---------------|--------------------------------|------------|---------|\n",
        "| `==`          | Equal                          | `5 == 5`   | `True`  |\n",
        "| `!=`          | Not Equal                      | `5 != 3`   | `True`  |\n",
        "| `>`           | Greater Than                   | `5 > 3`    | `True`  |\n",
        "| `<`           | Less Than                      | `5 < 3`    | `False` |\n",
        "| `>=`          | Greater Than or Equal To        | `5 >= 5`   | `True`  |\n",
        "| `<=`          | Less Than or Equal To           | `5 <= 3`   | `False` |\n",
        "\n",
        "###Example Python codes that demonstrate the use of conditional statements:"
      ],
      "metadata": {
        "id": "ZzYHYTwJSPhK"
      }
    },
    {
      "cell_type": "markdown",
      "source": [
        "1. If-else statement:"
      ],
      "metadata": {
        "id": "DIY9Ye-RUW4P"
      }
    },
    {
      "cell_type": "code",
      "source": [
        "# Check if a number is positive, negative, or zero\n",
        "num = int(input(\"Enter a number: \"))\n",
        "if num > 0:\n",
        "    print(\"Positive\")\n",
        "elif num < 0:\n",
        "    print(\"Negative\")\n",
        "else:\n",
        "    print(\"Zero\")"
      ],
      "metadata": {
        "colab": {
          "base_uri": "https://localhost:8080/"
        },
        "id": "y_BUDyw-UcFO",
        "outputId": "a5c08aaa-9ecf-4087-d633-87264056a7aa"
      },
      "execution_count": null,
      "outputs": [
        {
          "output_type": "stream",
          "name": "stdout",
          "text": [
            "Enter a number: 5\n",
            "Positive\n"
          ]
        }
      ]
    },
    {
      "cell_type": "markdown",
      "source": [
        "2. Nested if-else statement:\n"
      ],
      "metadata": {
        "id": "mffCYQVDUkYB"
      }
    },
    {
      "cell_type": "code",
      "source": [
        "num = int(input(\"Enter a number: \"))\n",
        "if num > 0 and num <= 100:\n",
        "    if num % 2 == 0:\n",
        "        print(\"Even\")\n",
        "    else:\n",
        "        print(\"Odd\")\n",
        "else:\n",
        "    print(\"Number out of range (1 to 100).\")"
      ],
      "metadata": {
        "colab": {
          "base_uri": "https://localhost:8080/"
        },
        "id": "GW3rSB4GUm6N",
        "outputId": "575d9c9c-c8ee-4025-a8c9-d5451f6ee5ce"
      },
      "execution_count": null,
      "outputs": [
        {
          "output_type": "stream",
          "name": "stdout",
          "text": [
            "Enter a number: 101\n",
            "Number out of range (1 to 100).\n"
          ]
        }
      ]
    },
    {
      "cell_type": "markdown",
      "source": [
        "3. Multiple conditions:"
      ],
      "metadata": {
        "id": "2bpqbNHBUpLI"
      }
    },
    {
      "cell_type": "code",
      "source": [
        "# Check if a student's grade falls within a specific range\n",
        "marks = float(input(\"Enter the student's marks: \"))\n",
        "if marks >= 90:\n",
        "    grade = \"A+\"\n",
        "elif marks >= 80:\n",
        "    grade = \"A\"\n",
        "elif marks >= 70:\n",
        "    grade = \"B\"\n",
        "elif marks >= 60:\n",
        "    grade = \"C\"\n",
        "else:\n",
        "    grade = \"Fail\"\n",
        "\n",
        "print(f\"The student's grade is: {grade}\")"
      ],
      "metadata": {
        "colab": {
          "base_uri": "https://localhost:8080/"
        },
        "id": "DjdFD-1ZUu9A",
        "outputId": "19ef2522-9348-4629-f121-66e3d8ee393d"
      },
      "execution_count": null,
      "outputs": [
        {
          "output_type": "stream",
          "name": "stdout",
          "text": [
            "Enter the student's marks: 66\n",
            "The student's grade is: C\n"
          ]
        }
      ]
    },
    {
      "cell_type": "markdown",
      "source": [
        "4. Ternary operator (It simply allows testing a condition in a single line replacing the multiline if-else making the code compact.):"
      ],
      "metadata": {
        "id": "BieCEGVrVNoG"
      }
    },
    {
      "cell_type": "code",
      "source": [
        "# Check if a number is positive or negative using the ternary operator\n",
        "num = int(input(\"Enter a number: \"))\n",
        "result = \"Positive\" if num > 0 else \"Negative\"\n",
        "print(result)"
      ],
      "metadata": {
        "id": "PBD3dC4jVXl5"
      },
      "execution_count": null,
      "outputs": []
    },
    {
      "cell_type": "markdown",
      "source": [
        "5. Multiple conditions with \"and\" and \"or\":"
      ],
      "metadata": {
        "id": "icjEtZwoVdta"
      }
    },
    {
      "cell_type": "code",
      "source": [
        "# Check if a number is divisible by both 3 and 5, or divisible by either 3 or 5\n",
        "num = int(input(\"Enter a number: \"))\n",
        "if num % 3 == 0 and num % 5 == 0:\n",
        "    print(\"Divisible by both 3 and 5\")\n",
        "elif num % 3 == 0 or num % 5 == 0:\n",
        "    print(\"Divisible by either 3 or 5\")\n",
        "else:\n",
        "    print(\"Not divisible by 3 or 5\")"
      ],
      "metadata": {
        "id": "XV0dcyUHVkDq",
        "colab": {
          "base_uri": "https://localhost:8080/"
        },
        "outputId": "d3061b11-aef8-4287-abb3-7c414c2eef14"
      },
      "execution_count": null,
      "outputs": [
        {
          "output_type": "stream",
          "name": "stdout",
          "text": [
            "Enter a number: 5\n",
            "Divisible by either 3 or 5\n"
          ]
        }
      ]
    },
    {
      "cell_type": "markdown",
      "source": [
        "-   Indentation plays a crucial role in defining the scope and structure of conditional statements and other control flow constructs.\n",
        "-   There are other types of conditional codes as well."
      ],
      "metadata": {
        "id": "kiM9Zc2lV-yD"
      }
    },
    {
      "cell_type": "markdown",
      "source": [
        "- Nonzero value and nonempty contains are treated as True\n",
        "- Zero value and empty containers are treated as False\n",
        "- Special value None is treated as False"
      ],
      "metadata": {
        "id": "4vioClugtR-v"
      }
    },
    {
      "cell_type": "code",
      "source": [
        "if 1:\n",
        "  print(\"True\")\n",
        "if 0:\n",
        "  print(\"False\")\n",
        "if [0]:\n",
        "  print(\"True\")\n",
        "if []:\n",
        "  print(\"False\")\n",
        "if \"abc\":\n",
        "  print(\"True\")\n",
        "if \"\":\n",
        "  print(\"False\")\n",
        "if None:\n",
        "  print(\"False\")"
      ],
      "metadata": {
        "colab": {
          "base_uri": "https://localhost:8080/"
        },
        "id": "qRy079qhsvKH",
        "outputId": "be6965e7-3b61-4dff-f3c1-91bdc761c67a"
      },
      "execution_count": null,
      "outputs": [
        {
          "output_type": "stream",
          "name": "stdout",
          "text": [
            "True\n",
            "True\n",
            "True\n"
          ]
        }
      ]
    },
    {
      "cell_type": "markdown",
      "source": [
        "###Comments in Python\n",
        "- Anything after a \\# is ignored by Python\n",
        "\n",
        "Why comment?\n",
        "- Describe what is going to happen in a sequence of code\n",
        "- Document who wrote the code or other ancillary information\n",
        "- Turn off a line of code - perhaps temporarily"
      ],
      "metadata": {
        "id": "C0tj8mZy4LpB"
      }
    },
    {
      "cell_type": "markdown",
      "source": [
        "###Style Guide for Python Code\n",
        "Most projects use PEP 8 style; most editors enforce it automatically\n",
        "- Use 4-space indentation, and no tabs\n",
        "- Wrap lines so that they don't exceed 79 characters; long lines can be broken with the $\\backslash$ character\n",
        "- Use blank lines to separate functions and classes, and larger blocks of code inside functions\n",
        "- When possible, put comments on a line of their own\n",
        "- Use docstrings for the help system\n",
        "- Use spaces around operators and after commas, but not directly inside bracketing constructs: `a = f(1,2) + g(3,4)`\n",
        "- Use lower_case_with_underscores for functions and methods; use CamelCase for classes\n",
        "- Don't use fancy encodings unless you have to; don't use non-ASCII characters in identifiers"
      ],
      "metadata": {
        "id": "WA_O0yil3ODQ"
      }
    },
    {
      "cell_type": "markdown",
      "source": [
        "Now, we're going to dive a little more in depth on the atoms, the little pieces that make up Python.\n",
        "\n",
        "A big part of any programming language is the syntax for constants. The nice thing about this\n",
        "it's kind of instinctive. So, like a 123 or 98.6, numbers both integer and floating point numbers. We've been using this on calculators. They make a lot of sense to us. The kind of constants that are a little bit different are things like string constants. So \"I love AMS 595\" is a string constant. We call them constants because they don't change but it's kind of obvious, constants. It's just a piece of the language,\n",
        "so that's a constant.\n",
        "\n",
        "The other thing other than constants are reserved words. Most of them are kind of weird enough that\n",
        "you're probably not going to use them as variable names.\n",
        "\n",
        "And so the third atom basically is variables. And you get to pick the variable names. And so variable names are places where you're asking Python to allocate a bit of memory and stick something in it and you're choosing the label.\n",
        "\n",
        "You have some naming rules. You can start variable names with letters\n",
        "or underscores, although we avoid underscores because Python tends to use\n",
        "underscores for its own internal purposes. And the rest of it can be letters,\n",
        "numbers, and underscores. And it's case sensitive. But we don't want you to depend on that. So, spam all lowercase,\n",
        "Spam with one uppercase, and SPAM. These all are different variable names but you're not doing anybody any favor\n",
        "if you think that's being clever because you really are misleading\n",
        "the person who's reading your code. Some applications use what's called camel case.\n",
        "\n",
        "Comments are a way for us to add text that's ignored by Python to our programs. So it's a great way to give a little idea what's going on in code.\n",
        "I'll write comments so I remember what I was doing here. Why did I write this code?\" So write the comments to help yourself out.\n"
      ],
      "metadata": {
        "id": "BlaxV-sRWi0B"
      }
    },
    {
      "cell_type": "markdown",
      "source": [
        "## Basic Data Structures\n",
        "\n",
        "\n",
        "---\n",
        "\n"
      ],
      "metadata": {
        "id": "q4hLKgj2XR59"
      }
    },
    {
      "cell_type": "markdown",
      "source": [
        "###Data structures in MATLAB:\n",
        "- Arrays\n",
        "- Cell arrays\n",
        "\n",
        "###Some built in data structures in Python:\n",
        "- Lists\n",
        "- Tuples\n",
        "- Sets\n",
        "- Dictionaries\n",
        "- Some frequently used data structures must be called from other libraries (i.e. arrays, dataframes,...)\n",
        "\n"
      ],
      "metadata": {
        "id": "Ihv0XxkZyfeY"
      }
    },
    {
      "cell_type": "markdown",
      "source": [
        "##Lists\n",
        "- Similar to cell arrays in MATLAB\n",
        "- Variable-length array\n",
        "- Can store multiple different data types\n",
        "- Ordered\n",
        "- Mutable\n",
        "- Allows duplicates\n",
        "\n",
        "Lists\n",
        "\n",
        "- To create a list, use brackets \"[ ]\" and different itemes are separated by a comma\n",
        " - `somelist = [0, \"math\", 3.1415]`\n",
        "- Can be accessed by indexing and slicing\n",
        " - `somelist [0: 2]`\n",
        " - Output: `[0, \"math\"]`\n",
        "\n",
        "- We are also allowed to use negative indices (equivalent to counting from the right and going left)\n",
        " - `somelist[-1]`\n",
        " - Output: `3.1415`\n",
        "- Since lists are mutable, we may modify entries\n",
        " - `somelist[0] = 595`\n",
        " - Our list is now `[595, \"math\", 3.1415]`\n",
        "- We can have lists of lists of lists...etc\n",
        " - `somebiglist =[[9,7], [0,1], [1,2]]`\n",
        "\n",
        "Methods\n",
        "- The list object has its own methods:\n",
        " - Appending an item: `a.append()`\n",
        " - Append multiple items: `a.extend([0,1])`\n",
        " - Inserting an item: `a.insert(9, \"some text\")`\n",
        " - Remove the first instance of an item: `a.remove('some text')`\n",
        " - Remove an item at a specific index and return it: `a.pop(2)`\n",
        " - Remove all items from the list: `a.clear()`\n",
        " - Return the index of a particular item's first instance:\n",
        "`a.index(\"math\")`\n",
        " - Count the number of occurrences for a particular item: `a.count(5)`\n",
        " - Sort a list: `a.sort()`\n",
        " - Reverse a list: `a.reverse()`\n",
        " - (Shallow) Copy: `a.copy()`"
      ],
      "metadata": {
        "id": "fWxtIt2ABc9T"
      }
    },
    {
      "cell_type": "markdown",
      "source": [
        "##Tuples\n",
        "- Ordered\n",
        "- Immutable (Once a tuple is created, you cannot change its values)\n",
        "- Can store multiple different data types\n",
        "- Create a tuple by using parenthesis \"( )\" and different items are separated by a comma\n",
        "- Indexing follows the same syntax as lists\n",
        "- Example:\n",
        " - *sometuple = (1,2, \"the\")*\n",
        "- Built in tuple methods:\n",
        " - Count the number of occurrences for a particular item:\n",
        "`a.count(5)`\n",
        " - Return the index of a particular item's first instance:\n",
        "`a.index(\"math\")`\n",
        "- Faster than list\n"
      ],
      "metadata": {
        "id": "iphA8uc7ETpJ"
      }
    },
    {
      "cell_type": "markdown",
      "source": [
        "##Sets\n",
        "- Unordered\n",
        "- Cannot contain duplicates\n",
        "- Mutable\n",
        "- Can store multiple different data types, but cannot have mutable elements\n",
        "- The immutable counterpart of a set is called a frozenset in Python\n",
        "- Create a tuple by using curly brackets \" \\{\\} \" and different items are separated by a comma\n",
        "- Example:\n",
        " - `a = {1, 2, 3}`\n",
        "- Built in set methods:\n",
        " - Add an element: `a.add()`\n",
        " - Clear elements from set: `a.clear()`\n",
        " - Remove a specific element: `a.remove()` or `a.discard()`\n",
        " - Remove a random element: `a.pop()`\n",
        " - Update the list with another list: `a.update()`\n",
        "- In addition to these methods, there are methods that perform the usual set theory operations (unions, intersections, subset tests, disjoint tests, symmetric difference...etc)"
      ],
      "metadata": {
        "id": "SphoJyWWHYbs"
      }
    },
    {
      "cell_type": "markdown",
      "source": [
        "##Dictionary\n",
        "- Similar to lists, but instead of indices we have keys\n",
        "- We say that dictionaries have key:value pairs\n",
        "- Keys can be any immutable data type, values can be any data type\n",
        "- Unordered\n",
        "- Mutable\n",
        "- Dictionaries are not just practical, but can also be more efficient\n",
        "- Dictionaries is an example of a hash table"
      ],
      "metadata": {
        "id": "wvA6L5B_gaXd"
      }
    },
    {
      "cell_type": "code",
      "source": [
        "# Create a dictionary by using curly brackets “ { } ” and different key:value pairs are separated by a comma\n",
        "mydict = {\"Bio\": 1, \"CAM\": 2, \"OR\": 3, \"QF\": 4, \"Stat\": 5}\n",
        "# Access values using the keys\n",
        "print(mydict[\"OR\"])\n",
        "# To update an entry:\n",
        "mydict[\"OR\"] = 10\n",
        "# If the key does not exist, then it is added to the dictionary\n",
        "mydict[\"AMS\"] = 15\n",
        "\n",
        "# Dictionary objects have their own methods\n",
        "#To obtain a list of the keys:\n",
        "print(mydict.keys())\n",
        "#To obtain a list of the values:\n",
        "print(mydict.values())\n",
        "#To obtain a list of key:value tuples:\n",
        "print(mydict.items())"
      ],
      "metadata": {
        "colab": {
          "base_uri": "https://localhost:8080/"
        },
        "id": "PBbi0cI0i8kA",
        "outputId": "f6781bbc-23bb-4623-d7ee-29de071bcf41"
      },
      "execution_count": null,
      "outputs": [
        {
          "output_type": "stream",
          "name": "stdout",
          "text": [
            "3\n",
            "dict_keys(['Bio', 'CAM', 'OR', 'QF', 'Stat', 'AMS'])\n",
            "dict_values([1, 2, 10, 4, 5, 15])\n",
            "dict_items([('Bio', 1), ('CAM', 2), ('OR', 10), ('QF', 4), ('Stat', 5), ('AMS', 15)])\n"
          ]
        }
      ]
    },
    {
      "cell_type": "markdown",
      "source": [
        "##More on Data Structures"
      ],
      "metadata": {
        "id": "SIdSoZbGmFFG"
      }
    },
    {
      "cell_type": "code",
      "source": [
        "a = [1, 2, 3]\n",
        "mydict = {\"Bio\": 1, \"CAM\": 2, \"OR\": 3, \"QF\": 4, \"Stat\": 5}\n",
        "# To check the length of any of the data structures we have covered:\n",
        "print(len(a))\n",
        "# The in operator returns a boolean if a certain value is in your data structure\n",
        "print(5 in a)\n",
        "print(\"s\" in \"Ams\")\n",
        "# By default the in operator checks the keys of a dictionary, if you would like to check over the values you must specify\n",
        "print(\"CAM\" in mydict)\n",
        "print(5 in mydict.values())\n",
        "# For lists and tuples, + and * work the same as they do for strings\n",
        "b = [4, 5, 6]\n",
        "print(a + b)\n",
        "print(a * 2)"
      ],
      "metadata": {
        "colab": {
          "base_uri": "https://localhost:8080/"
        },
        "id": "1wv3wmpKmT_V",
        "outputId": "0b720834-7357-40c3-bd93-e0f3b49dee5d"
      },
      "execution_count": null,
      "outputs": [
        {
          "output_type": "stream",
          "name": "stdout",
          "text": [
            "3\n",
            "False\n",
            "True\n",
            "True\n",
            "True\n",
            "[1, 2, 3, 4, 5, 6]\n",
            "[1, 2, 3, 1, 2, 3]\n"
          ]
        }
      ]
    },
    {
      "cell_type": "markdown",
      "source": [
        "You can convert between these data structures: https://towardsdatascience.com/python-data-structures-conversions-ec9d56649e3b\n"
      ],
      "metadata": {
        "id": "OrWfLoKso1hn"
      }
    },
    {
      "cell_type": "code",
      "source": [
        "# Example\n",
        "mytuple = (1, 2, 3) # -> [1, 2, 3]\n",
        "myset = {1, 2, 3} # -> [1, 2, 3]\n",
        "mylist1 = list(mytuple)\n",
        "mylist2 = list(myset)\n",
        "print(mylist1 == mylist2)"
      ],
      "metadata": {
        "colab": {
          "base_uri": "https://localhost:8080/"
        },
        "id": "KCO3wPs-o3mF",
        "outputId": "5c940fbf-4d2c-4aaa-8770-1bbbd5d9bca9"
      },
      "execution_count": null,
      "outputs": [
        {
          "output_type": "stream",
          "name": "stdout",
          "text": [
            "True\n"
          ]
        }
      ]
    },
    {
      "cell_type": "markdown",
      "source": [
        "##Mutable and Immutable Objects\n",
        "- If an object is mutable, then it can be modified after it has been created. An immutable object cannot be changed after its creation.\n",
        "- An example of a mutable object you are familiar with is a MATLAB array\n",
        "- Imutable objects:\n",
        " - Basic data types\n",
        " - Tuples\n",
        " - Frozenset\n",
        "- Mutable Objects\n",
        " - Lists\n",
        " - Dictionaries\n",
        " - Sets\n",
        " - NumPy arrays\n",
        " - Most user-defined classes\n",
        "\n",
        "###Mutable vs Immutable Objects\n",
        "- Assignment does not always behave how you would expect, and depends on if the object is mutable or immutable\n",
        "- For immutable basic types (such as numbers and strings), '=' copies the value\n",
        "- For mutable objects, '=' creates an \"alias\" which points to the same object, changes to the alias will also be seen in the original object\n",
        "- Shawllow copy and deep copy from the copy Module: `copy.copy(a), copy.deepcopy(a)`\n",
        " - The difference between shallow and deep copying is only relevant for compound objects (objects that contain other objects, like lists or class instances).\n",
        "\n",
        " - A shallow copy constructs a new compound object and then (to the extent possible) inserts references into it to the objects found in the original.\n",
        "\n",
        " - A deep copy constructs a new compound object and then, recursively, inserts copies into it of the objects found in the original.\n"
      ],
      "metadata": {
        "id": "nAOyrwAjA25s"
      }
    },
    {
      "cell_type": "code",
      "source": [
        "import copy\n",
        "a = [1, 2, 3, 4]  # [[1,2], [2,3]]\n",
        "b = a\n",
        "b[0] = 0\n",
        "print(a)\n",
        "c = copy.copy(a)\n",
        "c[0] = -1\n",
        "print(a)\n",
        "d = copy.deepcopy(a)\n",
        "d[0] = -2\n",
        "print(a)"
      ],
      "metadata": {
        "colab": {
          "base_uri": "https://localhost:8080/"
        },
        "id": "tkWLf-5584X1",
        "outputId": "7b7e7f34-c8ad-48ec-a9a7-3ce71c70d84f"
      },
      "execution_count": null,
      "outputs": [
        {
          "output_type": "stream",
          "name": "stdout",
          "text": [
            "[0, 2, 3, 4]\n",
            "[0, 2, 3, 4]\n",
            "[0, 2, 3, 4]\n"
          ]
        }
      ]
    },
    {
      "cell_type": "code",
      "source": [
        "import copy\n",
        "\n",
        "a = [1, 2, 3]\n",
        "b = [4, 5, 6]\n",
        "c = [a, b]\n",
        "print(c)\n",
        "# Using normal assignment operatings to copy:\n",
        "d = c\n",
        "\n",
        "print(id(c) == id(d))          # True - d is the same object as c\n",
        "print(id(c[0]) == id(d[0]))    # True - d[0] is the same object as c[0]\n",
        "\n",
        "#Using a shallow copy:\n",
        "e = copy.copy(c)\n",
        "\n",
        "print(id(c) == id(e))          # False - e is now a new object\n",
        "print(id(c[0]) == id(e[0]))    # True - d[0] is the same object as c[0]\n",
        "        # a          # a\n",
        "#Using a deep copy:\n",
        "f = copy.deepcopy(c)\n",
        "\n",
        "print(id(c) == id(f))          # False - d is now a new object\n",
        "print(id(c[0]) == id(f[0]))    # False - d[0] is now a new object\n",
        "        # a        # a new list\n",
        "#Difference between shallow and deep copy\n",
        "print(c)\n",
        "e[0][0] = 0                    # c[0][0] becomes 0 as well\n",
        " # a\n",
        "\n",
        "print(c)\n",
        "f[0][0] = -1                   # c[0][0] unchanged\n",
        "print(c)\n"
      ],
      "metadata": {
        "colab": {
          "base_uri": "https://localhost:8080/"
        },
        "id": "T3psjaW4Fw9o",
        "outputId": "99318476-e37b-44e7-fdc9-10b1c28beb91"
      },
      "execution_count": null,
      "outputs": [
        {
          "output_type": "stream",
          "name": "stdout",
          "text": [
            "[[1, 2, 3], [4, 5, 6]]\n",
            "True\n",
            "True\n",
            "False\n",
            "True\n",
            "False\n",
            "False\n",
            "[[1, 2, 3], [4, 5, 6]]\n",
            "[[0, 2, 3], [4, 5, 6]]\n",
            "[[0, 2, 3], [4, 5, 6]]\n"
          ]
        }
      ]
    },
    {
      "cell_type": "code",
      "source": [],
      "metadata": {
        "id": "xoofOJSMqmew"
      },
      "execution_count": null,
      "outputs": []
    },
    {
      "cell_type": "markdown",
      "source": [
        "## Exceptions\n",
        "The three types of errors in Python:\n",
        "- Syntax and Semantic errors (Semantics refers to the meaning of a statement. So, when a statement doesn’t make any sense and is not meaningful then we can say it is a Semantic error)\n",
        "- Logical errors\n",
        "- Exceptions: https://docs.python.org/3/tutorial/errors.html\n",
        " - Exceptions occur when a statement is syntactically correct but still causes an error during execution, such as\n",
        "   - Opening a file that does not exist\n",
        "   - Dividing by zero\n",
        "   - Accessing incorrect index\n",
        "   - Accessing a dictionary using a key that does not exist\n",
        " - Exceptions are handled using try-except-else-finally blocks\n",
        " - Many exceptions are already built into Python"
      ],
      "metadata": {
        "id": "8VX2LZpkqcCr"
      }
    },
    {
      "cell_type": "markdown",
      "source": [
        "##Functions and Loops\n",
        "\n",
        "\n",
        "---\n",
        "\n"
      ],
      "metadata": {
        "id": "UAEnrDyS3EDk"
      }
    },
    {
      "cell_type": "markdown",
      "source": [
        "###Functions: store and reuse\n",
        "- We have already been using functions, such as print(), type(), etc..\n",
        "- Example of a function:"
      ],
      "metadata": {
        "id": "aJUzQ8XQt3oo"
      }
    },
    {
      "cell_type": "code",
      "source": [
        "def myFunction():\n",
        "  print(\"I\")\n",
        "  print(\"love\")\n",
        "  print(\"AMS\")\n",
        "  print(\"595\")\n",
        "\n",
        "\n",
        "myFunction()"
      ],
      "metadata": {
        "colab": {
          "base_uri": "https://localhost:8080/"
        },
        "id": "0Arg5WAwu3M3",
        "outputId": "f61bebc2-7f00-427c-8514-99cae9443cba"
      },
      "execution_count": null,
      "outputs": [
        {
          "output_type": "stream",
          "name": "stdout",
          "text": [
            "I\n",
            "love\n",
            "AMS\n",
            "595\n"
          ]
        }
      ]
    },
    {
      "cell_type": "markdown",
      "source": [
        "###Arguments and Parameters\n",
        "- A parameter is the variable listed inside the parentheses in the function definition. An argument is the value that is sent to the function when it is called.\n",
        "- We use arguments so we can direct the function to do different kinds of work when we call it at different times\n",
        "- We put the arguments in parentheses after the name of the function"
      ],
      "metadata": {
        "id": "F2OBbVWavJNG"
      }
    },
    {
      "cell_type": "code",
      "source": [
        "def greetings(lang):  # lang is called a parameter\n",
        "  if lang == 'es':\n",
        "    print ('Hola')\n",
        "  elif lang == \"fr\":\n",
        "    print ('Bonjour')\n",
        "  elif lang == \"chn\":\n",
        "    print(\"Ni hao 你好\")\n",
        "  else:\n",
        "    print ('Hello')\n",
        "\n",
        "\n",
        "greetings(\"fr\")  # \"fr\" and \"chn\" are arguments\n",
        "greetings(\"chn\")"
      ],
      "metadata": {
        "colab": {
          "base_uri": "https://localhost:8080/"
        },
        "id": "sPTm8LNwvQ65",
        "outputId": "5ce179f4-1dfa-4bd4-e6fa-c8a8c48ed569"
      },
      "execution_count": null,
      "outputs": [
        {
          "output_type": "stream",
          "name": "stdout",
          "text": [
            "Bonjour\n",
            "Ni hao 你好\n"
          ]
        }
      ]
    },
    {
      "cell_type": "markdown",
      "source": [
        "###Return Values\n",
        "- Often a function will take its arguments, do some computation, and return a value to be used as the value of the function call in the calling expression. The return keyword is used for this.\n",
        "- The return statement ends the function execution and \"sends back\" the result of the function"
      ],
      "metadata": {
        "id": "zb6Uou2Zwjfh"
      }
    },
    {
      "cell_type": "code",
      "source": [
        "def add2(a, b):\n",
        "  return a+b\n",
        "\n",
        "c = add2(3, 4)\n",
        "\n",
        "print(add2(1,3))\n",
        "print(c)\n"
      ],
      "metadata": {
        "colab": {
          "base_uri": "https://localhost:8080/"
        },
        "id": "-PbxpgjkwqTu",
        "outputId": "89e1b7c9-97c2-48ee-d6b4-72a27658fb32"
      },
      "execution_count": null,
      "outputs": [
        {
          "output_type": "stream",
          "name": "stdout",
          "text": [
            "4\n",
            "7\n"
          ]
        }
      ]
    },
    {
      "cell_type": "markdown",
      "source": [
        "# **Python Lecture 2**"
      ],
      "metadata": {
        "id": "CPsbhaSI4mX0"
      }
    },
    {
      "cell_type": "markdown",
      "source": [
        "###Lambda Functions\n",
        "- Lambda functions as disposable, nameless functions\n",
        "- Lambda functions are often used as arguments to other\n",
        "functions (such as sort and filter)\n",
        "- Example:"
      ],
      "metadata": {
        "id": "NV-U9_YDzmh0"
      }
    },
    {
      "cell_type": "code",
      "source": [
        "def f(a):\n",
        "  return a + 10\n",
        "# f() can be rewritten using a lambda function:\n",
        "# lambda arguments : expression\n",
        "x = lambda a : a + 10\n",
        "print(f(5))\n",
        "print(x(5))\n",
        "\n",
        "x = lambda c, d : c * d\n",
        "print(x(5, 6))"
      ],
      "metadata": {
        "colab": {
          "base_uri": "https://localhost:8080/"
        },
        "id": "mna67Q7BznIu",
        "outputId": "0c7bf7ac-ebb2-4c34-e7c5-e1634df23d9d"
      },
      "execution_count": null,
      "outputs": [
        {
          "output_type": "stream",
          "name": "stdout",
          "text": [
            "15\n",
            "15\n",
            "30\n"
          ]
        }
      ]
    },
    {
      "cell_type": "markdown",
      "source": [
        "**Why Use Lambda Functions?**\n",
        "The power of lambda is better shown when you use them as an anonymous function inside another function.\n",
        "\n",
        "Say you have a function definition that takes one argument, and that argument will be multiplied with an unknown number:"
      ],
      "metadata": {
        "id": "2w9zxP1B2i8e"
      }
    },
    {
      "cell_type": "code",
      "source": [
        "def myfunc(n):\n",
        "  return lambda a : a * n\n",
        "\n",
        "# Make a function that always doubles the number you send in:\n",
        "mydoubler = myfunc(2)\n",
        "print(mydoubler(11))\n",
        "\n",
        "# what does this do?\n",
        "myNewFunc = myfunc(3)\n",
        "\n",
        "def myfunc2(n, a):\n",
        "  return a*n"
      ],
      "metadata": {
        "id": "7vnkQDOd2yDk"
      },
      "execution_count": null,
      "outputs": []
    },
    {
      "cell_type": "markdown",
      "source": [
        "##Loops and Iteration"
      ],
      "metadata": {
        "id": "yjyqpiMczQqz"
      }
    },
    {
      "cell_type": "markdown",
      "source": [
        "In programming, loops are essential constructs that allow us to execute a block of code repeatedly. Python provides two main types of loops: for loop and while loop. These loops help us iterate over data, perform repetitive tasks, and simplify code execution."
      ],
      "metadata": {
        "id": "Vd7wKjit1twB"
      }
    },
    {
      "cell_type": "markdown",
      "source": [
        "###For Loop\n",
        "The for loop is used when we know the number of times we want to execute a block of code or when we want to iterate over a sequence (such as a list, tuple, string, etc.)."
      ],
      "metadata": {
        "id": "9tB6MV9m1wOM"
      }
    },
    {
      "cell_type": "code",
      "source": [
        "fruits = [\"apple\", \"banana\", \"cherry\"]\n",
        "for fruit in fruits:\n",
        "    print(fruit)\n",
        "for i in range(0, 3):\n",
        "  print(i)"
      ],
      "metadata": {
        "colab": {
          "base_uri": "https://localhost:8080/"
        },
        "id": "_14iiBavzSg9",
        "outputId": "d2f30678-e4ac-4c07-a53d-6ece6490d6cb"
      },
      "execution_count": null,
      "outputs": [
        {
          "output_type": "stream",
          "name": "stdout",
          "text": [
            "apple\n",
            "banana\n",
            "cherry\n",
            "0\n",
            "1\n",
            "2\n"
          ]
        }
      ]
    },
    {
      "cell_type": "markdown",
      "source": [
        "###While Loop\n",
        "The while loop is used when we don't know the number of times a block of code needs to be executed but have a condition that should be satisfied to continue the loop."
      ],
      "metadata": {
        "id": "SOEMu6X-2OgL"
      }
    },
    {
      "cell_type": "code",
      "source": [
        "count = 1\n",
        "while count <= 4:  # repeat while the condition is true\n",
        "    print(f\"Count is: {count}\")\n",
        "    count += 1"
      ],
      "metadata": {
        "colab": {
          "base_uri": "https://localhost:8080/"
        },
        "id": "rNA7Nu8n2Qn5",
        "outputId": "0d3cc26e-21f9-4cdd-ac10-74d5f1e00a7b"
      },
      "execution_count": null,
      "outputs": [
        {
          "output_type": "stream",
          "name": "stdout",
          "text": [
            "Count is: 1\n",
            "Count is: 2\n",
            "Count is: 3\n",
            "Count is: 4\n"
          ]
        }
      ]
    },
    {
      "cell_type": "markdown",
      "source": [
        "###Loop Control Statements\n",
        "Python provides control statements to alter the flow of loops:"
      ],
      "metadata": {
        "id": "Yr0q3jCO3y0s"
      }
    },
    {
      "cell_type": "code",
      "source": [
        "# 1. break: Terminates the loop prematurely.\n",
        "for i in range(1, 10000):\n",
        "    if i == 3:\n",
        "        break\n",
        "    print(i)"
      ],
      "metadata": {
        "colab": {
          "base_uri": "https://localhost:8080/"
        },
        "id": "d_KVekyG33W5",
        "outputId": "a7cd1e3e-06d7-412b-c77a-51a9d8d815e9"
      },
      "execution_count": null,
      "outputs": [
        {
          "output_type": "stream",
          "name": "stdout",
          "text": [
            "1\n",
            "2\n"
          ]
        }
      ]
    },
    {
      "cell_type": "code",
      "source": [
        "# 2. continue: Skips the rest of the code in the current iteration and moves to the next iteration.\n",
        "for i in range(1, 4):\n",
        "    if i == 2:\n",
        "        continue\n",
        "    print(i)"
      ],
      "metadata": {
        "colab": {
          "base_uri": "https://localhost:8080/"
        },
        "id": "0fIjFs1D4TEg",
        "outputId": "455dc995-6487-4dd5-963c-5557bcf21051"
      },
      "execution_count": null,
      "outputs": [
        {
          "output_type": "stream",
          "name": "stdout",
          "text": [
            "1\n",
            "3\n"
          ]
        }
      ]
    },
    {
      "cell_type": "markdown",
      "source": [
        "###Nested Loops\n",
        "Python allows nesting loops, which means you can have one loop inside another."
      ],
      "metadata": {
        "id": "UBqTHGF54ZMv"
      }
    },
    {
      "cell_type": "code",
      "source": [
        "rows = 2\n",
        "cols = 2\n",
        "for i in range(rows):\n",
        "    for j in range(cols):\n",
        "        print(i, j)"
      ],
      "metadata": {
        "colab": {
          "base_uri": "https://localhost:8080/"
        },
        "id": "XYZw0MZF4ejy",
        "outputId": "2a79f4f4-c286-4fb2-99dd-c934d2f1b438"
      },
      "execution_count": null,
      "outputs": [
        {
          "output_type": "stream",
          "name": "stdout",
          "text": [
            "0 0\n",
            "0 1\n",
            "1 0\n",
            "1 1\n"
          ]
        }
      ]
    },
    {
      "cell_type": "markdown",
      "source": [
        "## **In-class Activity**"
      ],
      "metadata": {
        "id": "-AfjnKSs5GWT"
      }
    },
    {
      "cell_type": "markdown",
      "source": [
        "- The code below is a simple number guessing game in Python.\n",
        "- The program will randomly generate a secret number between a given range (1 to 100), and the player will have to guess the number within 5 attempts.\n",
        "- The program will provide feedback to the player after each guess, indicating whether the guessed number is too high, too low, or correct."
      ],
      "metadata": {
        "id": "xnWh6DC15Eap"
      }
    },
    {
      "cell_type": "code",
      "source": [
        "import random\n",
        "\n",
        "def number_guessing_game():\n",
        "    print(\"Welcome to the Number Guessing Game!\")\n",
        "    print(\"I have picked a number between 1 and 100.\")\n",
        "    print(\"You have to guess the number in a limited number of attempts.\")\n",
        "\n",
        "    secret_number = random.randint(1, 100)\n",
        "    max_attempts = 5\n",
        "    attempts = 0\n",
        "\n",
        "    while attempts < max_attempts:\n",
        "        try:\n",
        "            guess = int(input(\"Enter your guess (1-100): \"))\n",
        "            # What happens if i put attempts += 1 here? Will it cause any bugs in the program?\n",
        "            # attempts += 1\n",
        "            if guess == secret_number:  # Replace the blank with the correct condition\n",
        "                print(\"Congratulations! You guessed the correct number in\", attempts + 1, \"attempts!\")\n",
        "                break\n",
        "            elif guess < secret_number:  # Replace the blanks with the correct condition\n",
        "                print(\"Too low! Try again.\")\n",
        "            else:\n",
        "                print(\"Too high! Try again.\")\n",
        "            attempts += 1\n",
        "        except ValueError:\n",
        "            print(\"Invalid input. Please enter a number.\")\n",
        "\n",
        "    if attempts == max_attempts:\n",
        "        print(\"Sorry, you have used all your attempts.\")\n",
        "        print(\"The secret number was:\", secret_number)\n",
        "\n",
        "if __name__ == \"__main__\":\n",
        "    number_guessing_game()"
      ],
      "metadata": {
        "id": "qkLqg0Tg5LJF",
        "colab": {
          "base_uri": "https://localhost:8080/"
        },
        "outputId": "0aad8f34-a0e9-4d05-988b-09a72a338fcb"
      },
      "execution_count": null,
      "outputs": [
        {
          "output_type": "stream",
          "name": "stdout",
          "text": [
            "Welcome to the Number Guessing Game!\n",
            "I have picked a number between 1 and 100.\n",
            "You have to guess the number in a limited number of attempts.\n",
            "Enter your guess (1-100): 50\n",
            "Too high! Try again.\n",
            "Enter your guess (1-100): 40\n",
            "Too high! Try again.\n",
            "Enter your guess (1-100): 30\n",
            "Too high! Try again.\n",
            "Enter your guess (1-100): 10\n",
            "Too low! Try again.\n",
            "Enter your guess (1-100): 21\n",
            "Congratulations! You guessed the correct number in 5 attempts!\n"
          ]
        }
      ]
    },
    {
      "cell_type": "markdown",
      "source": [
        "##Recursions\n",
        "\n",
        "\n",
        "---\n",
        "\n"
      ],
      "metadata": {
        "id": "-GoKJW4L7NNi"
      }
    },
    {
      "cell_type": "markdown",
      "source": [
        "Recursion is a powerful programming technique where a function calls itself to solve a problem. It allows us to break down complex problems into smaller, more manageable subproblems and solve them in a recursive manner. In Python, functions can be defined to be recursive by calling themselves within the function body.\n",
        "\n",
        "**Recursive Function Structure**\n",
        "- A recursive function typically consists of two parts:\n",
        "\n",
        " - Base Case: This is the stopping condition that prevents the function from calling itself infinitely. It defines the simplest version of the problem that can be directly solved without further recursion.\n",
        " - Recursive Case: This is the part where the function calls itself with a modified input, making the problem simpler to solve. The function will continue to call itself until the base case is reached.\n",
        "\n",
        "Example: Factorial Function\n",
        "- Formula: `factorial(n) = n * factorial(n-1)`\n",
        "- Base Case: `factorial(0) = 1`\n",
        "\n",
        "\n",
        "\n"
      ],
      "metadata": {
        "id": "mYtr9Z_M7gqW"
      }
    },
    {
      "cell_type": "code",
      "source": [
        "def factorial(n):\n",
        "    if n == 0:          # Base case: when n is 0\n",
        "        return 1\n",
        "    else:               # Recursive case: when n is greater than 0\n",
        "        return n * factorial(n - 1)\n",
        "\n",
        "print(factorial(5))"
      ],
      "metadata": {
        "colab": {
          "base_uri": "https://localhost:8080/"
        },
        "id": "T3H5xb3m8Yy_",
        "outputId": "c18e75bf-e990-455d-d58e-380750777a82"
      },
      "execution_count": null,
      "outputs": [
        {
          "output_type": "stream",
          "name": "stdout",
          "text": [
            "120\n"
          ]
        }
      ]
    },
    {
      "cell_type": "markdown",
      "source": [
        "Example: Fibonacci Sequence (0, 1, 1, 2, 3, 5, 8, 13, 21, 34, 55, 89,144, ...)\n",
        "\n",
        "- Formula: `fibonacci(n) = fibonacci(n-1) + fibonacci(n-2)`\n",
        "- Base Cases: `fibonacci(0) = 0` and `fibonacci(1) = 1`\n"
      ],
      "metadata": {
        "id": "-mVmDEeg8hCQ"
      }
    },
    {
      "cell_type": "code",
      "source": [
        "def fibonacci(n):\n",
        "  # returns the n-th number in the fibonacci sequence\n",
        "    if n == 1:\n",
        "        return 0\n",
        "    elif n == 2:\n",
        "        return 1\n",
        "    else:\n",
        "        return fibonacci(n - 1) + fibonacci(n - 2)\n",
        "print(fibonacci(7))"
      ],
      "metadata": {
        "colab": {
          "base_uri": "https://localhost:8080/"
        },
        "id": "O3SeXEzh83wB",
        "outputId": "766825dd-d506-49a3-abcb-db7af9249225"
      },
      "execution_count": null,
      "outputs": [
        {
          "output_type": "stream",
          "name": "stdout",
          "text": [
            "8\n"
          ]
        }
      ]
    },
    {
      "cell_type": "markdown",
      "source": [
        "## Pros and Cons of Recursion\n",
        "Pros:\n",
        "- It simplifies code by breaking complex problems into smaller parts.\n",
        "- Some problems are more natural and intuitive to solve using recursion.\n",
        "\n",
        "Cons:\n",
        "\n",
        "- Recursion can be less efficient in terms of memory and time compared to iterative solutions.\n",
        "- Deep recursion may lead to stack overflow errors if not optimized properly."
      ],
      "metadata": {
        "id": "La1HAOGK9gAK"
      }
    },
    {
      "cell_type": "markdown",
      "source": [
        "## Try this now"
      ],
      "metadata": {
        "id": "bndvXBtjVJOL"
      }
    },
    {
      "cell_type": "markdown",
      "source": [
        "**Power of Two**\n",
        "\n",
        "Given an integer $n$, return true if it is a power of two. Otherwise, return false.\n",
        "\n",
        "An integer $n$ is a power of two, if there exists an integer $x$ such that $n==2^x$.\n",
        "\n",
        "Note that this is a LeetCode Problem: [Power of Two](https://leetcode.com/problems/power-of-two/).\n",
        "\n",
        "---\n",
        "\n",
        "\n",
        "Example 1:\n",
        "\n",
        "**Input:** $\\mathrm{n}=1$\n",
        "\n",
        "**Output:** true\n",
        "\n",
        "Explanation: $2^0=1$\n",
        "\n",
        "\n",
        "---\n",
        "\n",
        "\n",
        "Example 2:\n",
        "\n",
        "**Input:** $\\mathrm{n}=16$\n",
        "\n",
        "**Output:** true\n",
        "\n",
        "Explanation: $2^4=16$\n",
        "\n",
        "\n",
        "---\n",
        "\n",
        "\n",
        "Example 3:\n",
        "\n",
        "**Input:** $\\mathrm{n}=3$\n",
        "\n",
        "**Output:** false\n",
        "\n",
        "\n",
        "---\n",
        "\n",
        "\n",
        "Constraints:\n",
        "- $-2^{31}<=n<=2^{31}-1$"
      ],
      "metadata": {
        "id": "nKWY8mstVVwy"
      }
    },
    {
      "cell_type": "code",
      "source": [
        "def isPowerOfTwo(n):\n",
        "      if n == 1:\n",
        "          return True\n",
        "      elif n<=0:\n",
        "          return False\n",
        "      elif n % 2 != 0:\n",
        "          return False\n",
        "      else:\n",
        "          return isPowerOfTwo(n/2)\n",
        "\n",
        "isPowerOfTwo(800)"
      ],
      "metadata": {
        "id": "Gykem-_9Vmsa",
        "colab": {
          "base_uri": "https://localhost:8080/"
        },
        "outputId": "711f4ff3-1e87-46b2-b308-f70cd9afba5e"
      },
      "execution_count": null,
      "outputs": [
        {
          "output_type": "execute_result",
          "data": {
            "text/plain": [
              "False"
            ]
          },
          "metadata": {},
          "execution_count": 17
        }
      ]
    },
    {
      "cell_type": "code",
      "source": [
        "#\n",
        "#\n",
        "#\n",
        "#\n",
        "#\n",
        "#\n",
        "#\n",
        "#\n",
        "#\n",
        "#\n",
        "#\n",
        "#\n",
        "#\n",
        "#\n",
        "#\n",
        "#\n",
        "class Solution:\n",
        "    def isPowerOfTwo(self, n):\n",
        "        if n == 1:\n",
        "            return True\n",
        "        elif n<=0:\n",
        "            return False\n",
        "        elif n % 2 != 0:\n",
        "            return False\n",
        "        else:\n",
        "            return self.isPowerOfTwo(n/2)"
      ],
      "metadata": {
        "id": "oZsi4YHRVq8d"
      },
      "execution_count": null,
      "outputs": []
    },
    {
      "cell_type": "markdown",
      "source": [
        "##Fix the bug"
      ],
      "metadata": {
        "id": "rrKguy7qYJCH"
      }
    },
    {
      "cell_type": "markdown",
      "source": [
        "**Two Sum**\n",
        "\n",
        "Given an array of integers `nums` and an integer `target`, return indices of the two numbers such that they add up to `target`.\n",
        "\n",
        "You may assume that each input would have exactly one solution, and you may not use the same element twice.\n",
        "\n",
        "You can return the answer in any order.\n",
        "\n",
        "Note that this is a LeetCode Probelm: [Two Sum](https://https://leetcode.com/problems/two-sum/submissions/).\n",
        "\n",
        "---\n",
        "\n",
        "Example 1:\n",
        "\n",
        "**Input:** nums $=[2,7,11,15]$, target $=9$\n",
        "\n",
        "**Output:** $[0,1]$\n",
        "\n",
        "Explanation: Because nums $[0]+$ nums $[1]==9$, we return $[0,1]$.\n",
        "\n",
        "\n",
        "---\n",
        "Example 2:\n",
        "\n",
        "**Input:** nums $=[3,2,4]$, target $=6$\n",
        "\n",
        "**Output:** $[1,2]$\n",
        "\n",
        "\n",
        "---\n",
        "Example 3:\n",
        "\n",
        "**Input:** nums $=[3,3]$, target $=6$\n",
        "\n",
        "**Output:** $[0,1]$"
      ],
      "metadata": {
        "id": "2taE62-xYN-k"
      }
    },
    {
      "cell_type": "code",
      "source": [
        "def twoSum(nums, target):\n",
        "  for n in nums:\n",
        "      if (target - n) in nums:\n",
        "          return [nums.index(n), nums.index(target - n)]"
      ],
      "metadata": {
        "id": "7tGVBKcjZHNB"
      },
      "execution_count": null,
      "outputs": []
    },
    {
      "cell_type": "code",
      "source": [
        "# hint: loop through the numbers, each time, we store the difference (target - num) in a dictionary.\n",
        "# If the current number is in the dictionary, it means that the current number\n",
        "# and another number that we've seen previously adds up to target\n",
        "def twoSum(nums, target):\n",
        "  hashmap = {}\n",
        "  for i in range(len(nums)):\n",
        "      dif = target - nums[i]\n",
        "      if nums[i] in hashmap:\n",
        "          return [hashmap[nums[i]], i]\n",
        "      hashmap[dif] = i\n",
        "\n",
        "nums = [3, 3]\n",
        "target =6\n",
        "\n",
        "twoSum(nums, target)"
      ],
      "metadata": {
        "id": "B-WjLRoeZdRF",
        "colab": {
          "base_uri": "https://localhost:8080/"
        },
        "outputId": "a88a3bcf-4df0-4193-ec5e-0ff18bd62a04"
      },
      "execution_count": null,
      "outputs": [
        {
          "output_type": "execute_result",
          "data": {
            "text/plain": [
              "[0, 1]"
            ]
          },
          "metadata": {},
          "execution_count": 22
        }
      ]
    },
    {
      "cell_type": "markdown",
      "source": [
        "Now, can you rewrite using a list instead of a dictionary?"
      ],
      "metadata": {
        "id": "95Eu4ZqsasBV"
      }
    },
    {
      "cell_type": "code",
      "source": [
        "#\n",
        "#\n",
        "#\n",
        "#\n",
        "#\n",
        "#\n",
        "#\n",
        "#\n",
        "#\n",
        "#\n",
        "#\n",
        "#\n",
        "#\n",
        "def twoSum(nums, target):\n",
        "  lst = []\n",
        "  for i in range(len(nums)):\n",
        "  # for num in nums\n",
        "      dif = target - nums[i]\n",
        "      if nums[i] in lst:\n",
        "          return [lst.index(nums[i]), i]\n",
        "      lst.append(dif)"
      ],
      "metadata": {
        "id": "u6v7APgEZZNB"
      },
      "execution_count": null,
      "outputs": []
    },
    {
      "cell_type": "markdown",
      "source": [
        "## Optional but nice to know"
      ],
      "metadata": {
        "id": "bxXyA3Elbo-C"
      }
    },
    {
      "cell_type": "markdown",
      "source": [
        "It is faster to use a dictionary than a list.\n",
        "\n",
        "Why?\n",
        "\n",
        "*   The average complexity to search, insert, and delete data in a hash table is $O(1)$\n",
        "*   The list. index() method has a time complexity of $O(n)$ in the worst case because it needs to iterate through the list to find the index of the given value.\n",
        "\n"
      ],
      "metadata": {
        "id": "InT0XzrCbB7R"
      }
    },
    {
      "cell_type": "markdown",
      "source": [
        "Time complexity measures how the runtime of an algorithm increases with the size of the input data. It is typically expressed using big O notation (e.g., $O(n), O(n^2), O(log n)$), which provides an upper bound on the growth rate of the algorithm's runtime. Similarly, we have space complexity."
      ],
      "metadata": {
        "id": "cNygR3sVbsTw"
      }
    },
    {
      "cell_type": "markdown",
      "source": [
        "| Complexity   | Name               | Description                                      |\n",
        "|--------------|--------------------|--------------------------------------------------|\n",
        "| O(1)         | Constant Time      | Algorithm's performance is constant.             |\n",
        "| O(log n)     | Logarithmic Time   | Performance grows slowly with input size.        |\n",
        "| O(n)         | Linear Time        | Performance is directly proportional to n.       |\n",
        "| O(n log n)   | Linearithmic Time  | Faster than quadratic, slower than linear.       |\n",
        "| O(n^2)       | Quadratic Time     | Performance grows with the square of n.          |\n",
        "| O(n^3)       | Cubic Time         | Performance grows with the cube of n.            |\n",
        "| O(2^n)       | Exponential Time   | Performance grows exponentially with n.           |\n",
        "| O(n!)        | Factorial Time     | Performance grows with the factorial of n.       |\n",
        "| O(n^n)       | Super-Exponential  | Performance grows super-exponentially with n.    |\n",
        "| O(2^(2^n))   | Double Exponential | Performance grows double-exponentially with n.   |"
      ],
      "metadata": {
        "id": "2U59UlCOcDwb"
      }
    },
    {
      "cell_type": "markdown",
      "source": [
        "# **Lecture 3 In-Class Exercise** (Loops, Conditional Statements, List Comprehension)\n",
        "\n",
        "\n"
      ],
      "metadata": {
        "id": "KWQYN3tpIsrw"
      }
    },
    {
      "cell_type": "markdown",
      "source": [
        "---\n",
        "\n",
        "\n",
        "**Valid Parentheses** [(This is a leetcode problem)](https://leetcode.com/problems/valid-parentheses/description/)\n",
        "\n",
        "Given a string `s` containing just the characters `'(', ')', '{', '}', '[' and ']'`, determine if the input string is valid.\n",
        "\n",
        "An input string is valid if:\n",
        "\n",
        "\n",
        "*   Open brackets must be closed by the same type of brackets.\n",
        "*   Open brackets must be closed in the correct order.\n",
        "*   Every close bracket has a corresponding open bracket of the same type.\n",
        "\n",
        "\n",
        "---\n",
        "\n",
        "\n",
        "**Example 1:**\n",
        "\n",
        "Input: s = `\"()\"`\n",
        "\n",
        "Output: true\n",
        "\n",
        "**Example 2:**\n",
        "\n",
        "Input: s = `\"()[]{}\"`\n",
        "\n",
        "Output: true\n",
        "\n",
        "**Example 3:**\n",
        "\n",
        "Input: s = `\"(]\"`\n",
        "\n",
        "Output: false"
      ],
      "metadata": {
        "id": "JeYmfAX8TFgB"
      }
    },
    {
      "cell_type": "markdown",
      "source": [
        "⏰\n",
        "\n",
        "⏰\n",
        "\n",
        "⏰\n",
        "\n",
        "⏰\n",
        "\n",
        "⏰"
      ],
      "metadata": {
        "id": "TN92gazRLHRy"
      }
    },
    {
      "cell_type": "code",
      "source": [
        "def isValid(s):   # input string s, output boolean\n",
        "  stack = []\n",
        "  for p in s:\n",
        "      if p in [\"(\", \"{\", \"[\"]:\n",
        "          stack.append(p)\n",
        "      else:\n",
        "          if not stack:   # what does this line do?\n",
        "              return False\n",
        "          temp = stack.pop() # what does the list.pop() method return?\n",
        "          if p == \")\":\n",
        "              if temp != \"(\":\n",
        "                      return False\n",
        "          if p == \"}\":\n",
        "              if temp != \"{\":\n",
        "                      return False\n",
        "          if p == \"]\":\n",
        "              if temp != \"[\":\n",
        "                      return False\n",
        "  return False if stack else True  # ternary operator, can you re-write it using multiple line if-else statements?\n",
        "\n",
        "\n",
        "# test cases\n",
        "s1 = \"([{[()[]{}]}])\"\n",
        "print(isValid(s1))\n",
        "s2 = \"([{[()[}{}]}])\"\n",
        "print(isValid(s2))"
      ],
      "metadata": {
        "colab": {
          "base_uri": "https://localhost:8080/"
        },
        "id": "eOgEmdf-Kduo",
        "outputId": "ba11c67a-8a08-4798-bacd-2ccdb41ef23c"
      },
      "execution_count": null,
      "outputs": [
        {
          "output_type": "stream",
          "name": "stdout",
          "text": [
            "True\n",
            "False\n"
          ]
        }
      ]
    },
    {
      "cell_type": "markdown",
      "source": [
        "# **Lecture 3 In-Class Exercise** (Data Structure Conversion)"
      ],
      "metadata": {
        "id": "Qr3zLEfxTLlW"
      }
    },
    {
      "cell_type": "markdown",
      "source": [
        "Given an integer array `nums`, return true if any value appears at least twice in the array, and return `false` if every element is distinct."
      ],
      "metadata": {
        "id": "0GlEKyHVTXQg"
      }
    },
    {
      "cell_type": "code",
      "source": [
        "def containsDuplicate(nums):\n",
        "    num_set = set(nums)\n",
        "    if len(num_set) == len(nums):\n",
        "        return False\n",
        "    else:\n",
        "        return True"
      ],
      "metadata": {
        "id": "RO_dwc5RTfLR"
      },
      "execution_count": null,
      "outputs": []
    },
    {
      "cell_type": "markdown",
      "source": [
        "# **Python Lecture 3**"
      ],
      "metadata": {
        "id": "oIjJCywdINC-"
      }
    },
    {
      "cell_type": "markdown",
      "source": [
        "Acknowledgement: Part of this lecture note is adapted from Hasib's past lecture notes."
      ],
      "metadata": {
        "id": "yQOT76GW33aU"
      }
    },
    {
      "cell_type": "markdown",
      "source": [
        "### Scope and Namespace"
      ],
      "metadata": {
        "id": "6Nwq7VtGjPyL"
      }
    },
    {
      "cell_type": "markdown",
      "source": [
        "Scope and Namespace\n",
        "- A namespace is a mapping from names to objects. A scope is a region of a Python program where a namespace is directly accessible.\n",
        "- Each module (or file) has its own \"global\" namespace\n",
        "- Each function has its own namespace\n",
        "- Python allows nested functions, like MATLAB\n",
        "- Nested functions are only accessible from parent function\n",
        "- A nested sub-function cannot change a variable in the parent function\n",
        "\n",
        "Scope: the LEGB rule\n",
        "1. Local\n",
        "2. Enclosed\n",
        "3. Global\n",
        "4. Built-in\n"
      ],
      "metadata": {
        "id": "qoEqH1Lr2ava"
      }
    },
    {
      "cell_type": "markdown",
      "source": [
        "Enclosing (or nonlocal) scope is a special scope that only exists for nested functions. If the local scope is an inner or nested function, then the enclosing scope is the scope of the outer or enclosing function. This scope contains the names that you define in the enclosing function."
      ],
      "metadata": {
        "id": "Xr0oSbKd4P-N"
      }
    },
    {
      "cell_type": "code",
      "source": [
        "x = \"global x\"\n",
        "def outer_fun():\n",
        "  x = \"parent x\"\n",
        "  #print(x)\n",
        "  def inner_fun(x):\n",
        "    print(x)   # what will happen if we remove the dependence of x of inner_fun()\n",
        "    x = \"sub x\"\n",
        "    #print(x)\n",
        "    return x\n",
        "  inner_fun(x)\n",
        "  return x\n",
        "\n",
        "#print(x)\n",
        "#outer_fun()\n",
        "#print(outer_fun())"
      ],
      "metadata": {
        "id": "n9xYRnqC22jh"
      },
      "execution_count": null,
      "outputs": []
    },
    {
      "cell_type": "markdown",
      "source": [
        "### Recursion v.s. Iteration"
      ],
      "metadata": {
        "id": "tkAm_YIGRl1I"
      }
    },
    {
      "cell_type": "markdown",
      "source": [
        "Recursion and iteration can both achieve repetition in programming\n",
        "\n",
        "Function calls involve creating and maintaining stack frames. [Illustration](https://www.educative.io/courses/recursion-for-coding-interviews-in-python/recursion-and-memory-visualization)\n",
        "\n",
        "- Recursion is more expensive and uses more memory than iteration\n",
        "- Depth of recursion is limited by available memory\n",
        "\n",
        "Taking the factorial function as an example:\n",
        "\n",
        "> Time Complexity: In the recursive approach, there exist O(N) recursive calls, with each requiring O(1) operations. Consequently, the time complexity of the factorial computation using recursion is O(N).\n",
        "\n",
        "- While the theoretical time complexity of both programs is the same, a recursive implementation tends to have longer execution times in practice. This is because function calls introduce a higher overhead compared to iteration.\n",
        "\n",
        "\n",
        "\n",
        "> Space Complexity: In the recursive program, memory is allocated in the stack for parameters and local variables with each recursive call. Since there are O(N) recursive calls, the space complexity when using recursion is O(N). Conversely, the iterative program doesn't allocate any additional memory, leading to a space complexity of O(1).\n",
        "\n"
      ],
      "metadata": {
        "id": "DfH-1aZLRyz7"
      }
    },
    {
      "cell_type": "markdown",
      "source": [
        "Recursion oftentimes can be converted to iteration for faster execution:"
      ],
      "metadata": {
        "id": "Kd1ZpVnWiYMr"
      }
    },
    {
      "cell_type": "code",
      "source": [
        "# recursion\n",
        "def factorial_rec(n):\n",
        "  if n == 1:\n",
        "    return 1\n",
        "  return n* factorial_rec(n-1)\n",
        "\n",
        "# iteration\n",
        "def factorial_ite(n):\n",
        "  res = 1\n",
        "  while n != 1:\n",
        "    res = res * n\n",
        "    n -= 1\n",
        "  return res\n",
        "\n",
        "print(factorial_rec(55))\n",
        "print(factorial_ite(55))\n",
        "\n"
      ],
      "metadata": {
        "colab": {
          "base_uri": "https://localhost:8080/"
        },
        "id": "Ii0PCvu2X9wF",
        "outputId": "a3d9926b-0ea0-4393-8980-c1a40275a596"
      },
      "execution_count": null,
      "outputs": [
        {
          "output_type": "stream",
          "name": "stdout",
          "text": [
            "12696403353658275925965100847566516959580321051449436762275840000000000000\n",
            "12696403353658275925965100847566516959580321051449436762275840000000000000\n"
          ]
        }
      ]
    },
    {
      "cell_type": "markdown",
      "source": [
        "### Formatted Strings: f-strings\n"
      ],
      "metadata": {
        "id": "ng0QAsU16rQX"
      }
    },
    {
      "cell_type": "markdown",
      "source": [
        "F-strings, short for \"formatted strings,\" were introduced in Python 3.6 as a new way to format strings. They provide a concise and readable way to embed expressions inside string literals. F-strings are widely used in Python for string formatting due to their simplicity and efficiency. It is nice to know that other string formatting methods exist, such as str.format()."
      ],
      "metadata": {
        "id": "hiE2lgbz7HgZ"
      }
    },
    {
      "cell_type": "markdown",
      "source": [
        "**Basic Usage**\n",
        "\n",
        "To create an f-string, prefix a string literal with the letter `'f'` or `'F'`. Inside the string, you can embed expressions by placing them inside curly braces `{}`. These expressions are evaluated at runtime and their values are inserted into the string."
      ],
      "metadata": {
        "id": "3PKiB6oA7OQC"
      }
    },
    {
      "cell_type": "code",
      "source": [
        "name = \"Alice\"\n",
        "age = 30\n",
        "print(f\"My name is {name} and I am {age} years old.\")"
      ],
      "metadata": {
        "colab": {
          "base_uri": "https://localhost:8080/"
        },
        "id": "10-sW35k7R5Q",
        "outputId": "aaeb33f6-beb8-44fb-8a59-cc488af09a66"
      },
      "execution_count": null,
      "outputs": [
        {
          "output_type": "stream",
          "name": "stdout",
          "text": [
            "My name is Alice and I am 30 years old.\n"
          ]
        }
      ]
    },
    {
      "cell_type": "markdown",
      "source": [
        "**Expressions inside F-Strings**\n",
        "\n",
        "You can include a wide range of Python expressions inside f-strings, including variables, arithmetic operations, function calls, and more. The expressions inside f-strings are evaluated at runtime. This means you can perform complex calculations and use the result directly in the string.\n",
        "\n"
      ],
      "metadata": {
        "id": "vUariv7V7ZJO"
      }
    },
    {
      "cell_type": "code",
      "source": [
        "x = 10\n",
        "y = 5\n",
        "print(f\"The sum of {x} and {y} is {x + y}.\")\n",
        "\n",
        "def calculate_area(radius):\n",
        "    return 3.14159265 * radius ** 2\n",
        "\n",
        "r = 5\n",
        "print(f\"The area of a circle with radius {r} is {calculate_area(r)}.\")"
      ],
      "metadata": {
        "colab": {
          "base_uri": "https://localhost:8080/"
        },
        "id": "ANXBe3lw7dbO",
        "outputId": "fbea300c-a951-492a-8799-cae0f6cfd77c"
      },
      "execution_count": null,
      "outputs": [
        {
          "output_type": "stream",
          "name": "stdout",
          "text": [
            "The sum of 10 and 5 is 15.\n",
            "The area of a circle with radius 5 is 78.53981625.\n"
          ]
        }
      ]
    },
    {
      "cell_type": "markdown",
      "source": [
        "**Formatting**\n",
        "\n",
        "F-strings support various formatting options, such as specifying the number of decimal places for floating-point numbers or controlling the width of the output."
      ],
      "metadata": {
        "id": "puLGYANV7lXD"
      }
    },
    {
      "cell_type": "code",
      "source": [
        "pi = 3.14159265\n",
        "print(f\"Pi to 2 decimal places: {pi:.2f}\")\n",
        "\n",
        "message = \"Hello\"\n",
        "print(f\"{message:6}World\")"
      ],
      "metadata": {
        "id": "pJCtw5N_8Gdd",
        "colab": {
          "base_uri": "https://localhost:8080/"
        },
        "outputId": "c9038e0e-3398-4043-856d-92144ede7f75"
      },
      "execution_count": null,
      "outputs": [
        {
          "output_type": "stream",
          "name": "stdout",
          "text": [
            "Pi to 2 decimal places: 3.14\n",
            "Hello World\n"
          ]
        }
      ]
    },
    {
      "cell_type": "markdown",
      "source": [
        "###Regular Expressions"
      ],
      "metadata": {
        "id": "z6NrZFTa8toF"
      }
    },
    {
      "cell_type": "markdown",
      "source": [
        "A question from Python Project 1:\n",
        "\n",
        "\n",
        "---\n",
        "\n",
        "\n",
        "Using string methods find() and rfind(), find the index of the first digit (i.e. 0) and the index of the last digit (5) in the string below. Then, using string slicing, extract the number (i.e. 0.595595) from this string and convert the extracted value to a floating point number. Print out this float to the console."
      ],
      "metadata": {
        "id": "9aSsDqfx8w6d"
      }
    },
    {
      "cell_type": "code",
      "source": [
        "text = \"F-DGFDDSFGFD-CFDSHdstgfdfe: tfsd  aaa bdsf 0.595595 fdsgfdbc\";\n"
      ],
      "metadata": {
        "id": "HUKJugbP86xM"
      },
      "execution_count": null,
      "outputs": []
    },
    {
      "cell_type": "markdown",
      "source": [
        "A regular expression is a sequence of characters that defines a search pattern. It can be used to match strings, search for specific patterns, substitute texts, or extract information from text data.\n",
        "\n",
        "In Python, regular expressions are implemented using the `re` module. You need to import this module to work with regular expressions.\n",
        "\n",
        "To create a regular expression pattern, you define a sequence of characters and special symbols that represent the pattern you want to match. For example, to match the word `\"apple\"`, the pattern would be `apple`.\n",
        "\n",
        "\n",
        "1. Basic Patterns\n",
        "- .: Matches any character except a newline.\n",
        "- *: Matches zero or more occurrences of the preceding character or group.\n",
        "- +: Matches one or more occurrences of the preceding character or group.\n",
        "- ?: Matches zero or one occurrence of the preceding character or group.\n",
        "\n",
        "2. Character Classes\n",
        "- [abc]: Matches any character 'a', 'b', or 'c'.\n",
        "- [a-z]: Matches any lowercase letter.\n",
        "- [A-Z]: Matches any uppercase letter.\n",
        "- [0-9]: Matches any digit.\n",
        "\n",
        "3. Special Sequences\n",
        "- \\d: Matches any digit (equivalent to [0-9]).\n",
        "- \\w: Matches any word character (equivalent to [a-zA-Z0-9_]).\n",
        "- \\s: Matches any whitespace character (spaces, tabs, newlines).\n",
        "- \\b: Boundary between word and non-word\n",
        "\n",
        "Use pattern to search, replace, or split strings\n",
        "- `match = re.search (pat, str)` finds one match\n",
        "- `matches = re.findall (pat, str)` finds all matches\n",
        "- `re.sub (pat, replacement, str)` substitutes all matches with replacement string\n",
        "- `re.split (pat, str)` splits the string at every match\n",
        "\n",
        "Regular Expression Cheat Sheet: https://www.dataquest.io/wp-content/uploads/2019/03/python-regular-expressions-cheat-sheet.pdf"
      ],
      "metadata": {
        "id": "4i3BA0un8-W6"
      }
    },
    {
      "cell_type": "markdown",
      "source": [
        "Example 1: Basic Matching"
      ],
      "metadata": {
        "id": "pmj1RypbKSfy"
      }
    },
    {
      "cell_type": "code",
      "source": [
        "import re\n",
        "\n",
        "pattern = r\"apple\"\n",
        "text = \"I have an apple and a banana.\"\n",
        "\n",
        "match = re.search(pattern, text)\n",
        "\n",
        "if match:\n",
        "    print(\"Match found!\")\n",
        "else:\n",
        "    print(\"No match.\")"
      ],
      "metadata": {
        "colab": {
          "base_uri": "https://localhost:8080/"
        },
        "id": "ywGkXB7sKR4p",
        "outputId": "7a099fa1-516a-45c0-a1c3-6b94f0bc4807"
      },
      "execution_count": null,
      "outputs": [
        {
          "output_type": "stream",
          "name": "stdout",
          "text": [
            "Match found!\n"
          ]
        }
      ]
    },
    {
      "cell_type": "markdown",
      "source": [
        "Example 2: Matching Dates"
      ],
      "metadata": {
        "id": "43ebXDg7KYEI"
      }
    },
    {
      "cell_type": "code",
      "source": [
        "import re\n",
        "\n",
        "pattern = r\"\\d{4}-\\d{2}-\\d{2}\"\n",
        "text = \"Meeting on 2023-09-24, followed by another on 2023-09-25.\"\n",
        "\n",
        "dates = re.findall(pattern, text)\n",
        "\n",
        "print(\"Dates found:\")\n",
        "for date in dates:\n",
        "    print(date)"
      ],
      "metadata": {
        "colab": {
          "base_uri": "https://localhost:8080/"
        },
        "id": "pXr1JK4WKXW6",
        "outputId": "9b3adc8b-f496-4d10-eac4-c5947b66b4a6"
      },
      "execution_count": null,
      "outputs": [
        {
          "output_type": "stream",
          "name": "stdout",
          "text": [
            "Dates found:\n",
            "2023-09-24\n",
            "2023-09-25\n"
          ]
        }
      ]
    },
    {
      "cell_type": "markdown",
      "source": [
        "Example 3: Extracting Email Addresses\n"
      ],
      "metadata": {
        "id": "w_f8VEoMMRkx"
      }
    },
    {
      "cell_type": "code",
      "source": [
        "import re\n",
        "\n",
        "pattern = r\"\\b[\\w._%+-]+@[\\w.-]+\\.[a-zA-Z]{2,4}\\b\"\n",
        "text = \"Contact us at contact@example.com or support@company.co.uk.\\n Do not send emails to ams595@stonybrook.edu or ams595@stonybrook.ams.edu.\"\n",
        "\n",
        "emails = re.findall(pattern, text)\n",
        "\n",
        "print(\"Email addresses found:\")\n",
        "for email in emails:\n",
        "    print(email)"
      ],
      "metadata": {
        "colab": {
          "base_uri": "https://localhost:8080/"
        },
        "id": "-KQUXOr9MREd",
        "outputId": "36cfc50b-6516-41b5-d07f-6841e438c3cc"
      },
      "execution_count": null,
      "outputs": [
        {
          "output_type": "stream",
          "name": "stdout",
          "text": [
            "Email addresses found:\n",
            "contact@example.com\n",
            "support@company.co.uk\n",
            "ams595@stonybrook.edu\n",
            "ams595@stonybrook.ams.edu\n"
          ]
        }
      ]
    },
    {
      "cell_type": "markdown",
      "source": [
        "Example 4: Using re.sub for String Replacement"
      ],
      "metadata": {
        "id": "Hna69Z1xOlTX"
      }
    },
    {
      "cell_type": "code",
      "source": [
        "import re\n",
        "\n",
        "text = \"I have an apple, and she has an apple too.\"\n",
        "\n",
        "# Replace \"apple\" with \"orange\"\n",
        "new_text = re.sub(r\"apple\", \"orange\", text)\n",
        "\n",
        "print(new_text)"
      ],
      "metadata": {
        "colab": {
          "base_uri": "https://localhost:8080/"
        },
        "id": "ZgOwextTOm28",
        "outputId": "e5851b35-fdcb-4209-8b8b-e1bff27d261c"
      },
      "execution_count": null,
      "outputs": [
        {
          "output_type": "stream",
          "name": "stdout",
          "text": [
            "I have an orange, and she has an orange too.\n"
          ]
        }
      ]
    },
    {
      "cell_type": "markdown",
      "source": [
        "Example 5: Using re.split to Split a String"
      ],
      "metadata": {
        "id": "zH-Is9kBOtJa"
      }
    },
    {
      "cell_type": "code",
      "source": [
        "import re\n",
        "\n",
        "text = \"Hello! How are you? I am fine. Thanks!\"\n",
        "\n",
        "# Split the text into sentences\n",
        "sentences = re.split(r\"[.!?]\", text)\n",
        "\n",
        "for sentence in sentences:\n",
        "    sentence = sentence.strip()  # Remove leading/trailing whitespace\n",
        "    if sentence:\n",
        "        print(sentence)"
      ],
      "metadata": {
        "colab": {
          "base_uri": "https://localhost:8080/"
        },
        "id": "0lXgI-1zOt2Z",
        "outputId": "5da7eae8-91ce-4118-e1c7-e61f7fc79dbf"
      },
      "execution_count": null,
      "outputs": [
        {
          "output_type": "stream",
          "name": "stdout",
          "text": [
            "Hello\n",
            "How are you\n",
            "I am fine\n",
            "Thanks\n"
          ]
        }
      ]
    },
    {
      "cell_type": "code",
      "source": [
        "import re\n",
        "\n",
        "text = \"Hello! How are you? I am fine. Thanks!\"\n",
        "\n",
        "# Split the text into sentences, keeping punctuation marks\n",
        "sentences = re.split(r\"([.!?])\", text)\n",
        "print(sentences)\n",
        "# Combine pairs of adjacent elements in the list to form complete sentences\n",
        "sentences = [\"\".join(sentences[i:i+2]) for i in range(0, len(sentences), 2)]\n",
        "\n",
        "for sentence in sentences:\n",
        "    sentence = sentence.strip()  # Remove leading/trailing whitespace\n",
        "    if sentence:\n",
        "        print(sentence)"
      ],
      "metadata": {
        "colab": {
          "base_uri": "https://localhost:8080/"
        },
        "id": "qSbculO3qEsw",
        "outputId": "0468907e-4218-4600-f0fa-af13ecd9502b"
      },
      "execution_count": null,
      "outputs": [
        {
          "output_type": "stream",
          "name": "stdout",
          "text": [
            "['Hello', '!', ' How are you', '?', ' I am fine', '.', ' Thanks', '!', '']\n",
            "Hello!\n",
            "How are you?\n",
            "I am fine.\n",
            "Thanks!\n"
          ]
        }
      ]
    },
    {
      "cell_type": "markdown",
      "source": [
        "### Python Classes and Object Oriented Programming"
      ],
      "metadata": {
        "id": "m7AwTE_YzRGW"
      }
    },
    {
      "cell_type": "markdown",
      "source": [
        "**What is OOP?**\n",
        "*    Object-Oriented Programming (OOP) is a programming paradigm that organizes code around the concept of objects.\n",
        "*    Objects are instances of classes, and they encapsulate both data (attributes) and behavior (methods)."
      ],
      "metadata": {
        "id": "ok4yH2BzzXXW"
      }
    },
    {
      "cell_type": "markdown",
      "source": [
        "**Key Concepts in OOP**\n",
        "1. Objects: Objects are the basic units of OOP. They represent real-world entities or concepts. For example, a car, a person, or a bank account can all be represented as objects.\n",
        "\n",
        "2. Classes: Classes are blueprints for creating objects. They define the structure (attributes) and behavior (methods) of objects. A class serves as a template for creating multiple objects of the same type.\n",
        "\n",
        "3. Attributes: Attributes are variables that store data associated with an object. They represent the state or characteristics of the object. For instance, a Car class might have attributes like make, model, and color.\n",
        "\n",
        "4. Methods: Methods are functions defined within a class. They define the actions or behaviors that objects of the class can perform. Methods operate on the object's attributes and can change its state.\n",
        "\n",
        "5. Inheritance: Inheritance is a mechanism that allows you to create a new class (a subclass or derived class) based on an existing class (a base class or superclass). Subclasses inherit attributes and methods from their parent class and can extend or override them.\n",
        "\n",
        "6. Encapsulation: Encapsulation is the concept of bundling data (attributes) and methods that operate on that data within a single unit (a class). It provides data protection and abstraction, allowing you to hide the internal details of an object.\n",
        "\n",
        "7. Polymorphism: Polymorphism allows objects of different classes to be treated as objects of a common base class. This promotes code reusability and flexibility."
      ],
      "metadata": {
        "id": "UYds08GXY__D"
      }
    },
    {
      "cell_type": "markdown",
      "source": [
        "**Creating Classes and Objects**\n",
        "\n",
        "In Python, you can define a class using the `class` keyword:"
      ],
      "metadata": {
        "id": "h0LcNdMVZPSD"
      }
    },
    {
      "cell_type": "code",
      "source": [
        "class Students:\n",
        "  # Class attributes: These are shared among all instances of the class.\n",
        "  course = \"ams595\"\n",
        "\n",
        "\n",
        "  # Constructor (optional): This method is called when an object is created.\n",
        "  # It initializes the object's attributes with values passed as parameters.\n",
        "  def __init__(self, name, grade):\n",
        "    self.name =  name\n",
        "    self.grade = grade\n",
        "\n",
        "\n",
        "  # Methods: These are functions defined within the class and can operate on the object's attributes.\n",
        "  def increase_grade(self, increase):\n",
        "    self.grade += increase"
      ],
      "metadata": {
        "id": "IWuQrhe7Zb6t"
      },
      "execution_count": null,
      "outputs": []
    },
    {
      "cell_type": "markdown",
      "source": [
        "Creating Objects:\n",
        "\n",
        "Once you've defined a class, you can create objects (instances of the class) as follows:"
      ],
      "metadata": {
        "id": "s1pUdFNBaTFm"
      }
    },
    {
      "cell_type": "code",
      "source": [
        "student1 = Students(\"John Doe\", 80)\n",
        "# You can access the attributes of an object using dot notation:\n",
        "print(student1.course)\n",
        "print(student1.name)\n",
        "print(student1.grade)\n",
        "\n",
        "# To call methods associated with an object, use dot notation as well:\n",
        "student1.increase_grade(5)\n",
        "print(student1.grade)"
      ],
      "metadata": {
        "colab": {
          "base_uri": "https://localhost:8080/"
        },
        "id": "az6BXd2GaSMI",
        "outputId": "058865a0-035c-4996-eeec-0e87d75ee76e"
      },
      "execution_count": null,
      "outputs": [
        {
          "output_type": "stream",
          "name": "stdout",
          "text": [
            "ams595\n",
            "John Doe\n",
            "80\n",
            "85\n"
          ]
        }
      ]
    },
    {
      "cell_type": "markdown",
      "source": [
        "Class Constructor and Self:\n",
        "\n",
        "Constructor `(__init__)`\n",
        "\n",
        "The constructor method, `__init__`, is automatically called when an object of the class is created.\n",
        "\n",
        "`self` represents the instance of the object being created. It is used to access and manipulate the object's attributes.\n",
        "\n",
        "The constructor initializes the attributes of the object using the provided parameters."
      ],
      "metadata": {
        "id": "7pZHfD4tamvk"
      }
    },
    {
      "cell_type": "markdown",
      "source": [
        "### Inheritance"
      ],
      "metadata": {
        "id": "4gA4wyqdbTeu"
      }
    },
    {
      "cell_type": "markdown",
      "source": [
        "Inheritance allows you to create a new class (a subclass or derived class) by inheriting attributes and methods from an existing class (a base class or superclass). Here's how you define a subclass:"
      ],
      "metadata": {
        "id": "GGItrqeVbiI3"
      }
    },
    {
      "cell_type": "code",
      "source": [
        "class New_Students(Students):\n",
        "    pass\n",
        "\n",
        "# The subclass inherits the attributes and methods of the base class.\n",
        "student2 = New_Students(\"Lebron James\", 81)\n",
        "print(student2.course)\n",
        "print(student2.name)\n",
        "print(student2.grade)\n",
        "student2.increase_grade(5)\n",
        "print(student2.grade)\n"
      ],
      "metadata": {
        "colab": {
          "base_uri": "https://localhost:8080/"
        },
        "id": "6XV-cq_wbm9H",
        "outputId": "6131863c-3f99-4a5b-92bc-c53fd41c3f02"
      },
      "execution_count": null,
      "outputs": [
        {
          "output_type": "stream",
          "name": "stdout",
          "text": [
            "ams595\n",
            "Lebron James\n",
            "81\n",
            "86\n"
          ]
        }
      ]
    },
    {
      "cell_type": "markdown",
      "source": [
        "Method Overriding:\n",
        "\n",
        "Subclasses can override methods from the base class to provide custom behavior.\n",
        "To override a method, use the same method name in the subclass."
      ],
      "metadata": {
        "id": "qxlmbwXWdX_X"
      }
    },
    {
      "cell_type": "code",
      "source": [
        "# You can add new attributes and methods to the subclass or override inherited methods to customize behavior.\n",
        "class CSE_Students(Students):\n",
        "    course = \"cse101\"\n",
        "\n",
        "\n",
        "\n",
        "# The subclass inherits the attributes and methods of the base class.\n",
        "student3 = CSE_Students(\"Alan Turing\", 94)\n",
        "print(student3.course)\n",
        "print(student3.name)\n",
        "print(student3.grade)\n",
        "student3.increase_grade(5)\n",
        "print(student3.grade)"
      ],
      "metadata": {
        "colab": {
          "base_uri": "https://localhost:8080/"
        },
        "id": "vYJ0DQn5c3WM",
        "outputId": "9a805b64-961b-4cae-df79-86d6232f8922"
      },
      "execution_count": null,
      "outputs": [
        {
          "output_type": "stream",
          "name": "stdout",
          "text": [
            "cse101\n",
            "Alan Turing\n",
            "94\n",
            "99\n"
          ]
        }
      ]
    },
    {
      "cell_type": "markdown",
      "source": [
        "**`super()` function:**\n",
        "\n",
        "[Read this website](https://www.programiz.com/python-programming/methods/built-in/super#:~:text=Example%201%3A%20super()%20with,refer%20to%20the%20base%20class.&text=Output-,Dog%20has%20four%20legs,is%20a%20warm%2Dblooded%20animal.&text=Since%20we%20do%20not%20need,(if%20we%20need%20to).)"
      ],
      "metadata": {
        "id": "4kWdwVLhfMDo"
      }
    },
    {
      "cell_type": "code",
      "source": [
        "student3.course = \"cse114\"\n",
        "print(student3.course)"
      ],
      "metadata": {
        "colab": {
          "base_uri": "https://localhost:8080/"
        },
        "id": "9j4wCp_vgeJa",
        "outputId": "dc82ba54-f730-4b46-d6e7-86c3fbbb99c5"
      },
      "execution_count": null,
      "outputs": [
        {
          "output_type": "stream",
          "name": "stdout",
          "text": [
            "cse114\n"
          ]
        }
      ]
    },
    {
      "cell_type": "markdown",
      "source": [
        "### Encapsulation and Access Modifiers\n"
      ],
      "metadata": {
        "id": "JBtf6juXg122"
      }
    },
    {
      "cell_type": "markdown",
      "source": [
        "Public, Private, and Protected:\n",
        "*    In Python, attributes and methods are public by default, which means they can be accessed from anywhere.\n",
        "*    Private attributes and methods start with a single underscore (e.g., _private_var). They are meant to indicate that they are for internal use and should not be accessed directly.\n",
        "*    Protected attributes and methods start with a double underscore (e.g., __protected_var). They are still accessible, but it's a convention that they should be treated as non-public parts of the class."
      ],
      "metadata": {
        "id": "J4SfhdLDg5KX"
      }
    },
    {
      "cell_type": "code",
      "source": [
        "class Circle:\n",
        "    def __init__(self, radius):\n",
        "        self._radius = radius  # Private attribute with a single underscore\n",
        "        self.__pi = 3.14\n",
        "    def area(self):\n",
        "        return self.__pi * self._radius ** 2\n",
        "\n",
        "cir = Circle(2)\n",
        "# cir._radius = 3\n",
        "print(cir._radius)\n",
        "print(cir.__pi)"
      ],
      "metadata": {
        "colab": {
          "base_uri": "https://localhost:8080/",
          "height": 227
        },
        "id": "QNg9gdQwjqaN",
        "outputId": "04bd5fd1-c74e-4e08-8d68-ed6a9b3490e5"
      },
      "execution_count": null,
      "outputs": [
        {
          "output_type": "stream",
          "name": "stdout",
          "text": [
            "2\n"
          ]
        },
        {
          "output_type": "error",
          "ename": "AttributeError",
          "evalue": "ignored",
          "traceback": [
            "\u001b[0;31m---------------------------------------------------------------------------\u001b[0m",
            "\u001b[0;31mAttributeError\u001b[0m                            Traceback (most recent call last)",
            "\u001b[0;32m<ipython-input-22-8edd044711ff>\u001b[0m in \u001b[0;36m<cell line: 11>\u001b[0;34m()\u001b[0m\n\u001b[1;32m      9\u001b[0m \u001b[0;31m# cir._radius = 3\u001b[0m\u001b[0;34m\u001b[0m\u001b[0;34m\u001b[0m\u001b[0m\n\u001b[1;32m     10\u001b[0m \u001b[0mprint\u001b[0m\u001b[0;34m(\u001b[0m\u001b[0mcir\u001b[0m\u001b[0;34m.\u001b[0m\u001b[0m_radius\u001b[0m\u001b[0;34m)\u001b[0m\u001b[0;34m\u001b[0m\u001b[0;34m\u001b[0m\u001b[0m\n\u001b[0;32m---> 11\u001b[0;31m \u001b[0mprint\u001b[0m\u001b[0;34m(\u001b[0m\u001b[0mcir\u001b[0m\u001b[0;34m.\u001b[0m\u001b[0m__pi\u001b[0m\u001b[0;34m)\u001b[0m\u001b[0;34m\u001b[0m\u001b[0;34m\u001b[0m\u001b[0m\n\u001b[0m",
            "\u001b[0;31mAttributeError\u001b[0m: 'Circle' object has no attribute '__pi'"
          ]
        }
      ]
    },
    {
      "cell_type": "markdown",
      "source": [
        "Python enforces these naming conventions, they are not strict access modifiers. Developers can still access these attributes and methods if they choose to do so. However, it's considered good practice to respect these conventions for code maintainability and clarity."
      ],
      "metadata": {
        "id": "wSau-f5Lj-er"
      }
    },
    {
      "cell_type": "markdown",
      "source": [
        "###Polymorphism"
      ],
      "metadata": {
        "id": "6J1Epb9Ig_Ua"
      }
    },
    {
      "cell_type": "markdown",
      "source": [
        "Polymorphic Behavior:\n",
        "\n",
        "One of the key advantages of OOP is polymorphism, which allows objects of different classes to be treated as objects of a common base class.\n",
        "\n",
        "This enables flexibility in your code by allowing you to work with objects in a generic way without knowing their specific class.\n",
        "\n",
        "> Inheritance refers to using the structure and behavior of a super class in a subclass.\n",
        "\n",
        "\n",
        "\n",
        "> Polymorphism refers to changing the behavior of a super class in the subclass."
      ],
      "metadata": {
        "id": "woEKVO5UhCGZ"
      }
    },
    {
      "cell_type": "markdown",
      "source": [
        "### Python Scripts"
      ],
      "metadata": {
        "id": "7o4RgWxIqdC3"
      }
    },
    {
      "cell_type": "markdown",
      "source": [
        "A Python script is a plain text file containing Python code. Python scripts have suffix `‘.py’`.\n",
        "\n",
        "To run a Python script on UNIX shell or Windows command prompt, use the python command followed by the script's filename.\n",
        "\n",
        "For example: python my_script.py\n",
        "\n",
        "**The `if __name__ == \"__main__\"` Idiom**\n",
        "\n",
        "Often, scripts can be reused as modules in other scripts.\n",
        "To distinguish between running a script directly and importing it as a module, use the if __name__ == \"__main__\": idiom.\n",
        "Code inside this block runs only if the script is executed directly.\n",
        "\n"
      ],
      "metadata": {
        "id": "5hUfouvatbvk"
      }
    },
    {
      "cell_type": "code",
      "source": [
        "if __name__ == \"__main__\":\n",
        "    # Code here runs when the script is executed directly"
      ],
      "metadata": {
        "id": "WJ-8JcnJu6AC"
      },
      "execution_count": null,
      "outputs": []
    },
    {
      "cell_type": "code",
      "source": [
        "!python main.py"
      ],
      "metadata": {
        "colab": {
          "base_uri": "https://localhost:8080/"
        },
        "id": "YHH4yTpUuj6r",
        "outputId": "ae060726-a075-4d3c-e75f-4d706558e774"
      },
      "execution_count": null,
      "outputs": [
        {
          "output_type": "stream",
          "name": "stdout",
          "text": [
            "This is utilities1, no if __name__ == '__main__' Idiom\n",
            "Hello, World!\n"
          ]
        }
      ]
    }
  ]
}