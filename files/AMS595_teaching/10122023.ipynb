{
  "nbformat": 4,
  "nbformat_minor": 0,
  "metadata": {
    "colab": {
      "provenance": [],
      "gpuType": "T4",
      "collapsed_sections": [
        "TLMt4Dz_rvKM",
        "CPsbhaSI4mX0",
        "bndvXBtjVJOL",
        "rrKguy7qYJCH",
        "KWQYN3tpIsrw",
        "Qr3zLEfxTLlW",
        "oIjJCywdINC-",
        "8eL6dJd_N9M4",
        "u5vqKJrLNC6V",
        "y7tcQBj7bM7C",
        "xfMx60mxiMtb",
        "3QWblPkwk52S",
        "RRP5tHrzj_jI",
        "E69mZP8forlS",
        "nubp-cdnsUAl",
        "GB4wA2-_snYc",
        "1mByPmXFuAnZ",
        "z41_Wvdcvm4u",
        "wV_MhEluxDSI",
        "GR2uWvrD1692",
        "hfuYuplh5NPl",
        "pshzblPhrPbG",
        "u4nwKdEWEQ_K",
        "kdu5YZMSFITU"
      ]
    },
    "kernelspec": {
      "name": "python3",
      "display_name": "Python 3"
    },
    "language_info": {
      "name": "python"
    }
  },
  "cells": [
    {
      "cell_type": "code",
      "source": [
        "%cd -"
      ],
      "metadata": {
        "colab": {
          "base_uri": "https://localhost:8080/"
        },
        "id": "v3RVpjv3rekB",
        "outputId": "477bdac7-f2d1-431a-efb1-b663b7af1e59"
      },
      "execution_count": null,
      "outputs": [
        {
          "output_type": "stream",
          "name": "stdout",
          "text": [
            "/content\n"
          ]
        }
      ]
    },
    {
      "cell_type": "code",
      "source": [
        "!pwd"
      ],
      "metadata": {
        "colab": {
          "base_uri": "https://localhost:8080/"
        },
        "id": "V2fBHdThrsSa",
        "outputId": "661699a1-fd53-48f3-c779-080efd19b715"
      },
      "execution_count": null,
      "outputs": [
        {
          "output_type": "stream",
          "name": "stdout",
          "text": [
            "/content\n"
          ]
        }
      ]
    },
    {
      "cell_type": "code",
      "source": [
        "%cd drive/MyDrive/ams_595_python_teaching"
      ],
      "metadata": {
        "colab": {
          "base_uri": "https://localhost:8080/"
        },
        "id": "gGKmId6xWUrX",
        "outputId": "a9f3f3f6-245b-421d-ad55-2c3a42a7da71"
      },
      "execution_count": null,
      "outputs": [
        {
          "output_type": "stream",
          "name": "stdout",
          "text": [
            "/content/drive/MyDrive/ams_595_python_teaching\n"
          ]
        }
      ]
    },
    {
      "cell_type": "markdown",
      "source": [
        "# **Lecture 7 Neural Networks**"
      ],
      "metadata": {
        "id": "DcJb_l8fjEC4"
      }
    },
    {
      "cell_type": "markdown",
      "source": [
        "## Learning in Neural Networks"
      ],
      "metadata": {
        "id": "xiKFh1sTj8wC"
      }
    },
    {
      "cell_type": "markdown",
      "source": [
        "- Forward Propagation: During forward propagation, the input data is fed into the network, and predictions are made.\n",
        "\n",
        "- Backpropagation: After making predictions, the network's performance is evaluated using a cost function, similar to logistic regression. Backpropagation is the process of calculating gradients of the cost function with respect to the weights and biases in the network. These gradients are used to update the weights and improve the model's performance."
      ],
      "metadata": {
        "id": "9Z5eVztij-s6"
      }
    },
    {
      "cell_type": "markdown",
      "source": [
        "How do you calculate the partial derivatives? It is trivial for the output layer parameters, but what about hiddent layers? The answer is backpropagation. The high end idea is to use patial derivatives, we compute partial derivatives layer by layer from the last layer, and backpropagate through the NN.\n",
        "\n",
        "![link text](https://www.jeremyjordan.me/content/images/2017/07/Screen-Shot-2017-07-16-at-4.44.08-PM.png)\n",
        "Ref: https://www.jeremyjordan.me/neural-networks-training/\n",
        "\n",
        "To learn more about backpropagation and its mathematical derivation: [https://www.jeremyjordan.me/neural-networks-training/](https://www.jeremyjordan.me/neural-networks-training/).\n",
        "\n",
        "To learn more about Deep Learning in general: [https://www.deeplearningbook.org/](https://www.deeplearningbook.org/)"
      ],
      "metadata": {
        "id": "w4XSOGNkk8_a"
      }
    },
    {
      "cell_type": "markdown",
      "source": [
        "# **Lecture 7 Introduction to PyTorch**"
      ],
      "metadata": {
        "id": "oqBmNVzclmpa"
      }
    },
    {
      "cell_type": "markdown",
      "source": [
        "## What is PyTorch?"
      ],
      "metadata": {
        "id": "70gxlOVFltki"
      }
    },
    {
      "cell_type": "markdown",
      "source": [
        "PyTorch is a deep learning framework that provides both a flexible and dynamic computation graph. This dynamic graph allows you to change the network architecture on-the-fly, which is particularly helpful for research and experimentation. Pytorch provides Python libraries for building deep learning models (deep neural networks), handling data, optimizing model parameters, etc..\n",
        "\n",
        "There are other deep learning frameworks such as TensorFlow.\n",
        "\n",
        "To use pytorch, you need to install PyTorch: [https://pytorch.org/get-started/locally/](https://pytorch.org/get-started/locally/)\n",
        "\n",
        "Pytorch Documentation: [https://pytorch.org/docs/stable/torch.html](https://pytorch.org/docs/stable/torch.html)\n",
        "\n",
        "Pytorch Tutorial: [https://pytorch.org/tutorials/](https://pytorch.org/tutorials/)\n",
        "\n",
        "UvA Deep Learning Tutorials: [https://uvadlc-notebooks.readthedocs.io/en/latest/](https://uvadlc-notebooks.readthedocs.io/en/latest/)"
      ],
      "metadata": {
        "id": "o6Ty4QV_lvup"
      }
    },
    {
      "cell_type": "markdown",
      "source": [
        "##Tensors in PyTorch"
      ],
      "metadata": {
        "id": "NbM9Cyt7mdN9"
      }
    },
    {
      "cell_type": "markdown",
      "source": [
        "Tensors are the basic building blocks in PyTorch. They are similar to NumPy arrays but are optimized for GPU-accelerated operations in deep learning."
      ],
      "metadata": {
        "id": "CBJD7pfbmf39"
      }
    },
    {
      "cell_type": "markdown",
      "source": [
        "Creating Tensors\n",
        "\n",
        "* You can create tensors using torch.Tensor() and specify the data type (e.g., torch.FloatTensor, torch.IntTensor).\n",
        "* Tensors can be initialized from lists, NumPy arrays, or random values.\n",
        "\n",
        "For example:"
      ],
      "metadata": {
        "id": "AuUv1c-Lmpza"
      }
    },
    {
      "cell_type": "code",
      "source": [
        "import torch\n",
        "\n",
        "# Create a 2x3 tensor from a list\n",
        "tensor = torch.tensor([[1, 2, 3], [4, 5, 6]], dtype=torch.float32)\n",
        "\n",
        "# Create a random 3x3 tensor\n",
        "random_tensor = torch.rand(3, 3)"
      ],
      "metadata": {
        "id": "CrrUifZbmvms"
      },
      "execution_count": null,
      "outputs": []
    },
    {
      "cell_type": "markdown",
      "source": [
        "Tensor Operations\n",
        "* Similar to Numpy, PyTorch provides a wide range of operations for tensors, including mathematical operations, indexing, reshaping, and more.\n",
        "* For example, you can perform element-wise operations like addition, multiplication, and more.\n",
        "* You can also perform matrix operations efficiently."
      ],
      "metadata": {
        "id": "MePwYOMNnpZD"
      }
    },
    {
      "cell_type": "markdown",
      "source": [
        "## Autograd and Gradients"
      ],
      "metadata": {
        "id": "id1EZIEsoCgk"
      }
    },
    {
      "cell_type": "markdown",
      "source": [
        "Understanding Autograd\n",
        "* Autograd (automatic differentiation) is a key feature in PyTorch that enables automatic computation of gradients for tensors.\n",
        "* It tracks the operations performed on tensors and constructs a computation graph.\n",
        "* To enable autograd for a tensor, set the `requires_grad=True` flag. This tells PyTorch to track operations on that tensor.\n",
        "* When you perform operations on tensors with `requires_grad=True`, PyTorch keeps track of them in the computation graph.\n",
        "\n",
        "Calculating Gradients\n",
        "* To calculate gradients, you typically start by defining a loss function, which measures the error between the model's predictions and the actual targets.\n",
        "Then, you call `loss.backward()` to compute gradients with respect to the model parameters.\n",
        "* Gradients can be accessed using the `.grad` attribute of the tensors.\n",
        "To update the model's parameters, you can use optimization algorithms like stochastic gradient descent (SGD)."
      ],
      "metadata": {
        "id": "8PhR2q4eoELc"
      }
    },
    {
      "cell_type": "markdown",
      "source": [
        "## Creating a Feedforward Neural Network"
      ],
      "metadata": {
        "id": "Ampb2yEIqPJV"
      }
    },
    {
      "cell_type": "markdown",
      "source": [
        "1. Define the Architecture\n",
        "* In PyTorch, you define the architecture of a feedforward neural network using the `nn.Module` class. This allows you to create custom neural network architectures.\n",
        "* Specify the number of layers, the size of each layer, and the activation functions.\n",
        "* Here's an example of defining a simple feedforward neural network:"
      ],
      "metadata": {
        "id": "6AGF5nLMqZk9"
      }
    },
    {
      "cell_type": "code",
      "source": [
        "import torch.nn as nn\n",
        "\n",
        "# Define a custom feedforward neural network class that inherits from nn.Module\n",
        "class FeedForwardNN(nn.Module):\n",
        "    def __init__(self, input_size, hidden_size, output_size):\n",
        "        super(FeedForwardNN, self).__init__()\n",
        "\n",
        "        # Create the first fully connected (linear) layer\n",
        "        self.fc1 = nn.Linear(input_size, hidden_size)\n",
        "\n",
        "        # Create a rectified linear unit (ReLU) activation function\n",
        "        self.relu = nn.ReLU()\n",
        "\n",
        "        # Create the second fully connected (linear) layer\n",
        "        self.fc2 = nn.Linear(hidden_size, output_size)\n",
        "\n",
        "    def forward(self, x):\n",
        "        # Define the forward pass of the network\n",
        "        x = self.fc1(x)   # Apply the first linear transformation\n",
        "        x = self.relu(x)  # Apply the ReLU activation function\n",
        "        x = self.fc2(x)   # Apply the second linear transformation\n",
        "        return x         # Return the output"
      ],
      "metadata": {
        "id": "n8U6vqd8qf8d"
      },
      "execution_count": null,
      "outputs": []
    },
    {
      "cell_type": "markdown",
      "source": [
        "2. Define Loss Function\n",
        "* The choice of loss function depends on the problem you're working on. For regression tasks, you might use Mean Squared Error (MSE), while for classification, Cross-Entropy loss is common."
      ],
      "metadata": {
        "id": "gHRaePTztQie"
      }
    },
    {
      "cell_type": "markdown",
      "source": [
        "3. Training the Network\n",
        "* The training loop typically involves loading and preprocessing your data.\n",
        "* You perform a forward pass, computing predictions using the model.\n",
        "* Then, calculate the loss by comparing predictions to the ground truth.\n",
        "* Backpropagate the gradients by calling `loss.backward()`.\n",
        "* Update the model's parameters using an optimizer like SGD:\n",
        "  - `optimizer = torch.optim.SGD(model.parameters(), lr=0.01)`\n",
        "  - `optimizer.step()`"
      ],
      "metadata": {
        "id": "I4l9fa-rtQdd"
      }
    },
    {
      "cell_type": "markdown",
      "source": [
        "4. Model Evaluation\n",
        "* After training, you can use the model to make predictions on new data.\n",
        "* Evaluate the model's performance using appropriate metrics, such as accuracy, precision, recall, F1 score, etc."
      ],
      "metadata": {
        "id": "5PsCO9jDt-XU"
      }
    },
    {
      "cell_type": "markdown",
      "source": [
        "## Implementation of Approximating a Function using FNN with Pytorch"
      ],
      "metadata": {
        "id": "MrUY9p8FuJHt"
      }
    },
    {
      "cell_type": "markdown",
      "source": [
        "We use a feedforward NN to approximate $x^2 +4x +2$, over the domain $[-6, 2]$."
      ],
      "metadata": {
        "id": "JLN5raQzufql"
      }
    },
    {
      "cell_type": "code",
      "source": [
        "import torch\n",
        "import torch.nn as nn\n",
        "import torch.optim as optim\n",
        "import numpy\n",
        "import matplotlib.pyplot as plt\n",
        "\n",
        "torch.manual_seed(595595)\n",
        "\n",
        "# Define the function to approximate\n",
        "def f(x):\n",
        "    return x**2 + 4*x + 2\n",
        "\n",
        "# Create a dataset with input-output pairs\n",
        "# We'll sample points from the range [-6, 2]\n",
        "x_values = torch.linspace(-6, 2, 100)  # 100 points in the range\n",
        "y_values = f(x_values)\n",
        "\n",
        "print(x_values.shape)\n",
        "print(x_values.view(-1, 1).shape)  # behave like -1 in numpy.reshape(), i.e. the actual value for this dimension will be inferred so that the number of elements in the view matches the original number of elements."
      ],
      "metadata": {
        "colab": {
          "base_uri": "https://localhost:8080/"
        },
        "id": "0kI1OZD2wkxc",
        "outputId": "25fc32c9-2106-4c0b-f4a6-94077b63c028"
      },
      "execution_count": null,
      "outputs": [
        {
          "output_type": "stream",
          "name": "stdout",
          "text": [
            "torch.Size([100])\n",
            "torch.Size([100, 1])\n"
          ]
        }
      ]
    },
    {
      "cell_type": "code",
      "source": [
        "# Define a deeper feedforward neural network\n",
        "class DeepNN(nn.Module):\n",
        "    def __init__(self, input_size, hidden_size, output_size):\n",
        "        super(DeepNN, self).__init__()\n",
        "        self.fc1 = nn.Linear(input_size, hidden_size)\n",
        "        self.relu1 = nn.ReLU()\n",
        "        self.fc2 = nn.Linear(hidden_size, hidden_size)\n",
        "        self.relu2 = nn.ReLU()\n",
        "        self.fc3 = nn.Linear(hidden_size, hidden_size)\n",
        "        self.relu3 = nn.ReLU()\n",
        "        self.fc4 = nn.Linear(hidden_size, output_size)\n",
        "\n",
        "    def forward(self, x):\n",
        "        x = self.fc1(x)\n",
        "        x = self.relu1(x)\n",
        "        x = self.fc2(x)\n",
        "        x = self.relu2(x)\n",
        "        x = self.fc3(x)\n",
        "        x = self.relu3(x)\n",
        "        x = self.fc4(x)\n",
        "        return x\n",
        "\n",
        "# Create the model\n",
        "input_size = 1\n",
        "hidden_size = 10\n",
        "output_size = 1\n",
        "model = DeepNN(input_size, hidden_size, output_size)\n",
        "\n",
        "# Define loss function and optimizer\n",
        "criterion = nn.MSELoss()\n",
        "optimizer = optim.SGD(model.parameters(), lr=0.01)\n",
        "\n",
        "# Training loop\n",
        "epochs = 10000\n",
        "for epoch in range(epochs):\n",
        "    # Zero the parameter gradients\n",
        "    optimizer.zero_grad()\n",
        "\n",
        "    # Forward pass\n",
        "    outputs = model(x_values.view(-1, 1))  # Reshape to (batch_size, input_size)\n",
        "\n",
        "    # Calculate the loss\n",
        "    loss = criterion(outputs, y_values.view(-1, 1))  # Reshape to (batch_size, output_size)\n",
        "    if epoch % 1000 == 0 or epoch == epochs -1:\n",
        "      print(\"At Epoch \", epoch, \" the loss is: \", loss.item()) # The item() method extracts the loss value as a Python float.\n",
        "    # Backpropagation and weight updates\n",
        "    loss.backward()\n",
        "    optimizer.step()\n",
        "\n",
        "\n",
        "# Plot the original function and the approximation\n",
        "plt.plot(x_values, y_values, label='Original Function', color='blue')\n",
        "\n",
        "with torch.no_grad():\n",
        "    x_test = torch.linspace(-6, 2, 500)\n",
        "    predicted_values = model(x_test.view(-1, 1))\n",
        "    plt.plot(x_test, predicted_values, label='NN Approximation', color='red')\n",
        "plt.xlabel('x')\n",
        "plt.ylabel('f(x)')\n",
        "plt.legend()\n",
        "plt.show()"
      ],
      "metadata": {
        "colab": {
          "base_uri": "https://localhost:8080/",
          "height": 640
        },
        "id": "GDuT9nYsuV9n",
        "outputId": "349b02b6-213f-47aa-9f17-0cebcf3790bd"
      },
      "execution_count": null,
      "outputs": [
        {
          "output_type": "stream",
          "name": "stdout",
          "text": [
            "At Epoch  0  the loss is:  38.421043395996094\n",
            "At Epoch  1000  the loss is:  0.9360212683677673\n",
            "At Epoch  2000  the loss is:  0.4688173234462738\n",
            "At Epoch  3000  the loss is:  0.2905529737472534\n",
            "At Epoch  4000  the loss is:  0.23150429129600525\n",
            "At Epoch  5000  the loss is:  0.16101285815238953\n",
            "At Epoch  6000  the loss is:  0.10596578568220139\n",
            "At Epoch  7000  the loss is:  0.08462445437908173\n",
            "At Epoch  8000  the loss is:  0.06071736291050911\n",
            "At Epoch  9000  the loss is:  0.05273633450269699\n",
            "At Epoch  9999  the loss is:  0.049473050981760025\n"
          ]
        },
        {
          "output_type": "display_data",
          "data": {
            "text/plain": [
              "<Figure size 640x480 with 1 Axes>"
            ],
            "image/png": "[encoded data removed]"
          },
          "metadata": {}
        }
      ]
    },
    {
      "cell_type": "code",
      "source": [
        "# Plot the original function and the approximation out of the training distribution\n",
        "x_test2 = torch.linspace(-10, 6, 1000)\n",
        "y_test2 = f(x_test2)\n",
        "plt.plot(x_test2, y_test2, label='Original Function', color='blue')\n",
        "\n",
        "with torch.no_grad():\n",
        "    predicted_values2 = model(x_test2.view(-1, 1))\n",
        "    plt.plot(x_test2, predicted_values2, label='NN Approximation', color='red')\n",
        "plt.xlabel('x')\n",
        "plt.ylabel('f(x)')\n",
        "plt.legend()\n",
        "plt.show()"
      ],
      "metadata": {
        "colab": {
          "base_uri": "https://localhost:8080/",
          "height": 449
        },
        "id": "A0K_yJyBxHnh",
        "outputId": "cc9c5958-bbe7-4632-ad53-0be91f5f14fe"
      },
      "execution_count": null,
      "outputs": [
        {
          "output_type": "display_data",
          "data": {
            "text/plain": [
              "<Figure size 640x480 with 1 Axes>"
            ],
            "image/png": "[encoded data removed]"
          },
          "metadata": {}
        }
      ]
    }
  ]
}