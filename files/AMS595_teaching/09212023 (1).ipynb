{
  "nbformat": 4,
  "nbformat_minor": 0,
  "metadata": {
    "colab": {
      "provenance": [],
      "gpuType": "T4",
      "collapsed_sections": [
        "TLMt4Dz_rvKM"
      ]
    },
    "kernelspec": {
      "name": "python3",
      "display_name": "Python 3"
    },
    "language_info": {
      "name": "python"
    }
  },
  "cells": [
    {
      "cell_type": "code",
      "source": [
        "%cd -"
      ],
      "metadata": {
        "colab": {
          "base_uri": "https://localhost:8080/"
        },
        "id": "v3RVpjv3rekB",
        "outputId": "477bdac7-f2d1-431a-efb1-b663b7af1e59"
      },
      "execution_count": null,
      "outputs": [
        {
          "output_type": "stream",
          "name": "stdout",
          "text": [
            "/content\n"
          ]
        }
      ]
    },
    {
      "cell_type": "code",
      "source": [
        "!pwd"
      ],
      "metadata": {
        "colab": {
          "base_uri": "https://localhost:8080/"
        },
        "id": "V2fBHdThrsSa",
        "outputId": "661699a1-fd53-48f3-c779-080efd19b715"
      },
      "execution_count": null,
      "outputs": [
        {
          "output_type": "stream",
          "name": "stdout",
          "text": [
            "/content\n"
          ]
        }
      ]
    },
    {
      "cell_type": "code",
      "source": [
        "%cd drive/MyDrive/ams_595_python_teaching"
      ],
      "metadata": {
        "colab": {
          "base_uri": "https://localhost:8080/"
        },
        "id": "gGKmId6xWUrX",
        "outputId": "a9f3f3f6-245b-421d-ad55-2c3a42a7da71"
      },
      "execution_count": null,
      "outputs": [
        {
          "output_type": "stream",
          "name": "stdout",
          "text": [
            "/content/drive/MyDrive/ams_595_python_teaching\n"
          ]
        }
      ]
    },
    {
      "cell_type": "markdown",
      "source": [
        "# **Python Lecture 1**\n"
      ],
      "metadata": {
        "id": "TLMt4Dz_rvKM"
      }
    },
    {
      "cell_type": "markdown",
      "source": [
        "---\n",
        "### About Python\n",
        "\n",
        "> First developed by Guido van Rossum in 1991.\n",
        "\n",
        "\n",
        "> Over the past few years, the popularity of Python has experienced a remarkable surge.\n",
        "\n",
        "> Open source, free to use.\n",
        "\n",
        "\n",
        "> Python's design philosophy emphasizes code readability and a clear syntax, making it easy for developers to write and understand code. This characteristic has contributed to its adoption in various domains, such as web development, data analysis, artificial intelligence, scientific research, automation, and more.\n",
        "\n",
        "\n",
        "> The language's extensive standard library and a vast collection of third-party libraries and frameworks enable developers to accomplish a wide range of tasks efficiently. Some popular libraries for data science, computational science, and machine learning include NumPy, Scipy, Pandas, Pytorch, etc..\n",
        "\n",
        "### How Python Runs\n",
        "- Write code using any text editor of your choice\n",
        "- The Python Interpreter reads your Python code and executes it\n",
        "- The interpreter compiles your code into byte code which is then fed to the Python Virtual Machine (PVM)\n",
        "- Note that byte code is a Python-specific representation, it is not machine code\n",
        "- Python is slower than compiled languages such as C because of this PVM step\n",
        "- Python files often have the file extension .py\n",
        "- Programs can be run directly within the IDE or through shell command lines"
      ],
      "metadata": {
        "id": "l4LMsiO5XACu"
      }
    },
    {
      "cell_type": "markdown",
      "source": [
        "## Install Python & Python IDE/Code Editor\n",
        "---\n",
        "###Install Python (Often preinstalled on Linux and Mac OS machines)\n",
        "\n",
        "https://realpython.com/installing-python/#%23how-to-install-python\n",
        "\n",
        "https://www.python.org/downloads/\n",
        "\n",
        "or simply google install python.\n",
        "\n",
        "###In your command prompt\n",
        "\n",
        " - Check Installation: py --version.\n",
        "\n",
        " - Go into the python intepreter: py\n",
        "\n",
        " - Print \"Hello World\": print('Hello, world!')\n",
        "\n",
        "\n",
        "###Common Python IDE/Code Editor\n",
        "\n",
        "\n",
        "*   PyCharm - Python specific IDE\n",
        "*   Jupyter Notebook - a web app that allows you to create and share documents with live code, equations, visualizations, commentary, etc. Lecture notes and most demos in this course will be through Jupyter notebooks; assignments will be through jupyter notebooks as well.\n",
        "*   VSCode - General purpose text editor\n",
        "*   Spyder - Scientific Python Development Environment, with advanced\n",
        "editing, interactive testing, debugging and introspection\n",
        "features, and integrated support for IPython, NumPy (linear\n",
        "algebra), SciPy (signal and image processing), or matplotlib\n",
        "(interactive 2D/3D plotting).\n",
        "\n",
        "\n"
      ],
      "metadata": {
        "id": "CopyjOfKvnZX"
      }
    },
    {
      "cell_type": "code",
      "source": [
        "! pyhon --version"
      ],
      "metadata": {
        "colab": {
          "base_uri": "https://localhost:8080/"
        },
        "id": "wCPisdvpsE4x",
        "outputId": "258a8519-3935-4ebf-befe-157e7737f36a"
      },
      "execution_count": null,
      "outputs": [
        {
          "output_type": "stream",
          "name": "stdout",
          "text": [
            "/bin/bash: line 1: pyhon: command not found\n"
          ]
        }
      ]
    },
    {
      "cell_type": "markdown",
      "source": [
        "##Expressions\n",
        "\n",
        "\n",
        "---\n",
        "###Constants\n",
        "\n",
        "- Fixed values such as numbers, letters, and strings, are called \"constants\" because their value does not change\n",
        "- Numeric constants are as you expect\n",
        "- String constants use single quotes (') or double quotes (\")\n",
        "- Examples: 595, 59.5, \"I love AMS 595\"\n",
        "\n",
        "### What else?\n",
        "- Variables and reserved words.\n",
        "- Reserved words cannot be used as variable names / identifiers, such as False, class, return, None, etc..\n",
        "- A variable is a named place in the memory where a programmer can store data and later retrieve the data using the variable \"name\"\n",
        "- Programmers get to choose the names of the variables\n",
        "- You can change the contents of a variable in a later statement\n",
        "\n",
        "###Python Variable Name Rules\n",
        "- Must start with a letter or underscore\n",
        "- Must consist of letters, numbers, and underscores\n",
        "- Case Sensitive"
      ],
      "metadata": {
        "id": "5jfVFAyH3WKp"
      }
    },
    {
      "cell_type": "markdown",
      "source": [
        "###Types\n",
        "- In Python variables, literals, and constants have a \"type\"\n",
        "- Python knows the difference between an integer number and a string\n",
        "- For example \"+\" means \"addition\" if something is a number and \"concatenate\" if something is a string\n",
        "- Python knows what \"type\" everything is\n",
        "- Some operations are prohibited\n",
        "- You cannot \"add 1\" to a string\n",
        "- We can ask Python what type something is by using the type() function\n",
        "- There are several types of numbers such as int, double, and float."
      ],
      "metadata": {
        "id": "lAMyFowuL37M"
      }
    },
    {
      "cell_type": "code",
      "source": [
        "s1 = \"a\"\n",
        "s2 = \"b\"\n",
        "integer = 1\n",
        "type(s1)"
      ],
      "metadata": {
        "id": "QthtxTI_NfEc",
        "colab": {
          "base_uri": "https://localhost:8080/"
        },
        "outputId": "e113603c-4c4e-4a48-c31d-e03bdb9c1896"
      },
      "execution_count": null,
      "outputs": [
        {
          "output_type": "execute_result",
          "data": {
            "text/plain": [
              "str"
            ]
          },
          "metadata": {},
          "execution_count": 6
        }
      ]
    },
    {
      "cell_type": "code",
      "source": [
        "s3 = s1 + integer"
      ],
      "metadata": {
        "colab": {
          "base_uri": "https://localhost:8080/",
          "height": 176
        },
        "id": "nZy0_Gm3N7Oe",
        "outputId": "b477deda-81f3-4b8b-c4ea-3fe99a25e566"
      },
      "execution_count": null,
      "outputs": [
        {
          "output_type": "error",
          "ename": "TypeError",
          "evalue": "ignored",
          "traceback": [
            "\u001b[0;31m---------------------------------------------------------------------------\u001b[0m",
            "\u001b[0;31mTypeError\u001b[0m                                 Traceback (most recent call last)",
            "\u001b[0;32m<ipython-input-7-76efec32cb35>\u001b[0m in \u001b[0;36m<cell line: 1>\u001b[0;34m()\u001b[0m\n\u001b[0;32m----> 1\u001b[0;31m \u001b[0ms3\u001b[0m \u001b[0;34m=\u001b[0m \u001b[0ms1\u001b[0m \u001b[0;34m+\u001b[0m \u001b[0minteger\u001b[0m\u001b[0;34m\u001b[0m\u001b[0;34m\u001b[0m\u001b[0m\n\u001b[0m",
            "\u001b[0;31mTypeError\u001b[0m: can only concatenate str (not \"int\") to str"
          ]
        }
      ]
    },
    {
      "cell_type": "markdown",
      "source": [
        "###Type Conversions\n",
        "- You may convert from one type to another using built-in functions such as str()\n",
        "- When you put an integer and floating point in an expression, the integer is implicitly converted to a float\n",
        "- You can control this with the built-in functions int() and float()\n",
        "- Integer division produces a floating point result\n",
        "- You will get an error if the conversion does not make sense, such as converting a string that does not contain numeric characters to int."
      ],
      "metadata": {
        "id": "0bFOrSj4ObFi"
      }
    },
    {
      "cell_type": "code",
      "source": [
        "s3 = s1 + str(integer)\n",
        "print(s3)"
      ],
      "metadata": {
        "colab": {
          "base_uri": "https://localhost:8080/"
        },
        "id": "P3H4rqURN-Ud",
        "outputId": "1a6a54d3-fff9-4af5-8ec7-c74b66ea7fac"
      },
      "execution_count": null,
      "outputs": [
        {
          "output_type": "stream",
          "name": "stdout",
          "text": [
            "a1\n"
          ]
        }
      ]
    },
    {
      "cell_type": "code",
      "source": [
        "s4 = \"10\"\n",
        "print(int(s4))\n",
        "print(int(s3))"
      ],
      "metadata": {
        "colab": {
          "base_uri": "https://localhost:8080/",
          "height": 228
        },
        "id": "uH191dVbPFmC",
        "outputId": "2d1e961a-99c3-4331-f5cb-323e8b8b2865"
      },
      "execution_count": null,
      "outputs": [
        {
          "output_type": "stream",
          "name": "stdout",
          "text": [
            "10\n"
          ]
        },
        {
          "output_type": "error",
          "ename": "ValueError",
          "evalue": "ignored",
          "traceback": [
            "\u001b[0;31m---------------------------------------------------------------------------\u001b[0m",
            "\u001b[0;31mValueError\u001b[0m                                Traceback (most recent call last)",
            "\u001b[0;32m<ipython-input-9-d7d5b607f314>\u001b[0m in \u001b[0;36m<cell line: 3>\u001b[0;34m()\u001b[0m\n\u001b[1;32m      1\u001b[0m \u001b[0ms4\u001b[0m \u001b[0;34m=\u001b[0m \u001b[0;34m\"10\"\u001b[0m\u001b[0;34m\u001b[0m\u001b[0;34m\u001b[0m\u001b[0m\n\u001b[1;32m      2\u001b[0m \u001b[0mprint\u001b[0m\u001b[0;34m(\u001b[0m\u001b[0mint\u001b[0m\u001b[0;34m(\u001b[0m\u001b[0ms4\u001b[0m\u001b[0;34m)\u001b[0m\u001b[0;34m)\u001b[0m\u001b[0;34m\u001b[0m\u001b[0;34m\u001b[0m\u001b[0m\n\u001b[0;32m----> 3\u001b[0;31m \u001b[0mprint\u001b[0m\u001b[0;34m(\u001b[0m\u001b[0mint\u001b[0m\u001b[0;34m(\u001b[0m\u001b[0ms3\u001b[0m\u001b[0;34m)\u001b[0m\u001b[0;34m)\u001b[0m\u001b[0;34m\u001b[0m\u001b[0;34m\u001b[0m\u001b[0m\n\u001b[0m",
            "\u001b[0;31mValueError\u001b[0m: invalid literal for int() with base 10: 'a1'"
          ]
        }
      ]
    },
    {
      "cell_type": "markdown",
      "source": [
        "###Numerical Expressions\n",
        "\n",
        "\n",
        "---\n",
        "\n",
        "\n",
        "| Operator      | Description                      | Example                  | Result       |\n",
        "|---------------|----------------------------------|--------------------------|--------------|\n",
        "| `+`           | Addition                         | `6 + 3`                  | `9`          |\n",
        "| `-`           | Subtraction                      | `6 - 3`                  | `3`          |\n",
        "| `*`           | Multiplication                   | `6 * 3`                  | `18`         |\n",
        "| `/`           | Division                         | `6 / 3`                  | `2.0`        |\n",
        "| `//`          | Floor Division                   | `6 // 3`                 | `2`          |\n",
        "| `%`           | Modulo (Remainder)               | `6 % 3`                  | `0`          |\n",
        "| `**`          | Exponentiation                   | `6 ** 3`                 | `216`        |\n",
        "\n",
        "\n",
        "###Sentences or Lines\n",
        "\n",
        "```\n",
        "a = 6\n",
        "b = 3\n",
        "\n",
        "result_add = a + b  # 9\n",
        "result_sub = a - b  # 3\n",
        "result_mul = a * b  # 18\n",
        "result_div = a / b  # 2.0\n",
        "result_floor_div = a // b  # 2\n",
        "result_mod = a % b  # 0\n",
        "result_exp = a ** b  # 216\n",
        "```\n",
        "A variable is a memory location used to store a value. The value stored in a variable can be updated by replacing the old value $5$ with a new value.\n",
        "The right side is an expression. Once the expression is evaluated, the result is placed in (assigned to) the variable on the left side (i.e., $x$ ).\n",
        "\n",
        "###Order Precedence in Python\n",
        "https://www.programiz.com/python-programming/precedence-associativity"
      ],
      "metadata": {
        "id": "BrJMxWHYTzZd"
      }
    },
    {
      "cell_type": "code",
      "source": [
        "a = 5\n",
        "print(a)\n",
        "a = 10\n",
        "print(a)"
      ],
      "metadata": {
        "colab": {
          "base_uri": "https://localhost:8080/"
        },
        "id": "YArX4pt7uaM4",
        "outputId": "08af23f1-5197-4191-96f1-3ea6a0d6a565"
      },
      "execution_count": null,
      "outputs": [
        {
          "output_type": "stream",
          "name": "stdout",
          "text": [
            "5\n",
            "10\n"
          ]
        }
      ]
    },
    {
      "cell_type": "code",
      "source": [
        "a = 6\n",
        "b = 3\n",
        "\n",
        "result_add = a + b\n",
        "result_sub = a - b\n",
        "result_mul = a * b\n",
        "result_div = a / b\n",
        "result_floor_div = a // b\n",
        "result_mod = a % b\n",
        "result_exp = a ** b\n",
        "a = a + b + 9\n",
        "print(\"Addition:\", result_add)         # Output: Addition: 9\n",
        "print(\"Subtraction:\", result_sub)      # Output: Subtraction: 3\n",
        "print(\"Multiplication:\", result_mul)   # Output: Multiplication: 18\n",
        "print(\"Division:\", result_div)         # Output: Division: 2.0\n",
        "print(\"Floor Division:\", result_floor_div)  # Output: Floor Division: 2\n",
        "print(\"Modulo:\", result_mod)           # Output: Modulo: 0\n",
        "print(\"Exponentiation:\", result_exp)   # Output: Exponentiation: 216\n",
        "print(\"New a: \",a)   # Output: New a: 18"
      ],
      "metadata": {
        "colab": {
          "base_uri": "https://localhost:8080/"
        },
        "id": "QT8c9MzfEMHV",
        "outputId": "8ef97e30-7f48-4f11-e3fb-5e64983d95ef"
      },
      "execution_count": null,
      "outputs": [
        {
          "output_type": "stream",
          "name": "stdout",
          "text": [
            "Addition: 9\n",
            "Subtraction: 3\n",
            "Multiplication: 18\n",
            "Division: 2.0\n",
            "Floor Division: 2\n",
            "Modulo: 0\n",
            "Exponentiation: 216\n",
            "New a:  18\n"
          ]
        }
      ]
    },
    {
      "cell_type": "markdown",
      "source": [
        "##Other topics and resources\n",
        "There are many topics that we are not able to cover in class, such as how to take user inputs, but there are plenty of online resourses that covers all these topics.\n",
        "-   Google: https://www.google.com/\n",
        "-   w3school python tutorials: https://www.w3schools.com/python/default.asp\n",
        "-   GeeksforGeeks: https://www.geeksforgeeks.org/\n",
        "-   Python documentation: https://docs.python.org/3/"
      ],
      "metadata": {
        "id": "_0T_tnkpRKJ7"
      }
    },
    {
      "cell_type": "markdown",
      "source": [
        "## Conditional Code/Control Flow\n",
        "\n",
        "\n",
        "---\n",
        "\n",
        "\n",
        "### Conditional Statements\n",
        "-   Conditional statements in python are quite similar to that in Matlab. We'll go over some examples to get you familiar with the syntax, but you should spend some time practicing if you are not confortable with python syntax.\n",
        "\n",
        "###Comparison Operators\n",
        "| Operator      | Description                    | Example    | Result  |\n",
        "|---------------|--------------------------------|------------|---------|\n",
        "| `==`          | Equal                          | `5 == 5`   | `True`  |\n",
        "| `!=`          | Not Equal                      | `5 != 3`   | `True`  |\n",
        "| `>`           | Greater Than                   | `5 > 3`    | `True`  |\n",
        "| `<`           | Less Than                      | `5 < 3`    | `False` |\n",
        "| `>=`          | Greater Than or Equal To        | `5 >= 5`   | `True`  |\n",
        "| `<=`          | Less Than or Equal To           | `5 <= 3`   | `False` |\n",
        "\n",
        "###Example Python codes that demonstrate the use of conditional statements:"
      ],
      "metadata": {
        "id": "ZzYHYTwJSPhK"
      }
    },
    {
      "cell_type": "markdown",
      "source": [
        "1. If-else statement:"
      ],
      "metadata": {
        "id": "DIY9Ye-RUW4P"
      }
    },
    {
      "cell_type": "code",
      "source": [
        "# Check if a number is positive, negative, or zero\n",
        "num = int(input(\"Enter a number: \"))\n",
        "if num > 0:\n",
        "    print(\"Positive\")\n",
        "elif num < 0:\n",
        "    print(\"Negative\")\n",
        "else:\n",
        "    print(\"Zero\")"
      ],
      "metadata": {
        "colab": {
          "base_uri": "https://localhost:8080/"
        },
        "id": "y_BUDyw-UcFO",
        "outputId": "a5c08aaa-9ecf-4087-d633-87264056a7aa"
      },
      "execution_count": null,
      "outputs": [
        {
          "output_type": "stream",
          "name": "stdout",
          "text": [
            "Enter a number: 5\n",
            "Positive\n"
          ]
        }
      ]
    },
    {
      "cell_type": "markdown",
      "source": [
        "2. Nested if-else statement:\n"
      ],
      "metadata": {
        "id": "mffCYQVDUkYB"
      }
    },
    {
      "cell_type": "code",
      "source": [
        "num = int(input(\"Enter a number: \"))\n",
        "if num > 0 and num <= 100:\n",
        "    if num % 2 == 0:\n",
        "        print(\"Even\")\n",
        "    else:\n",
        "        print(\"Odd\")\n",
        "else:\n",
        "    print(\"Number out of range (1 to 100).\")"
      ],
      "metadata": {
        "colab": {
          "base_uri": "https://localhost:8080/"
        },
        "id": "GW3rSB4GUm6N",
        "outputId": "575d9c9c-c8ee-4025-a8c9-d5451f6ee5ce"
      },
      "execution_count": null,
      "outputs": [
        {
          "output_type": "stream",
          "name": "stdout",
          "text": [
            "Enter a number: 101\n",
            "Number out of range (1 to 100).\n"
          ]
        }
      ]
    },
    {
      "cell_type": "markdown",
      "source": [
        "3. Multiple conditions:"
      ],
      "metadata": {
        "id": "2bpqbNHBUpLI"
      }
    },
    {
      "cell_type": "code",
      "source": [
        "# Check if a student's grade falls within a specific range\n",
        "marks = float(input(\"Enter the student's marks: \"))\n",
        "if marks >= 90:\n",
        "    grade = \"A+\"\n",
        "elif marks >= 80:\n",
        "    grade = \"A\"\n",
        "elif marks >= 70:\n",
        "    grade = \"B\"\n",
        "elif marks >= 60:\n",
        "    grade = \"C\"\n",
        "else:\n",
        "    grade = \"Fail\"\n",
        "\n",
        "print(f\"The student's grade is: {grade}\")"
      ],
      "metadata": {
        "colab": {
          "base_uri": "https://localhost:8080/"
        },
        "id": "DjdFD-1ZUu9A",
        "outputId": "19ef2522-9348-4629-f121-66e3d8ee393d"
      },
      "execution_count": null,
      "outputs": [
        {
          "output_type": "stream",
          "name": "stdout",
          "text": [
            "Enter the student's marks: 66\n",
            "The student's grade is: C\n"
          ]
        }
      ]
    },
    {
      "cell_type": "markdown",
      "source": [
        "4. Ternary operator (It simply allows testing a condition in a single line replacing the multiline if-else making the code compact.):"
      ],
      "metadata": {
        "id": "BieCEGVrVNoG"
      }
    },
    {
      "cell_type": "code",
      "source": [
        "# Check if a number is positive or negative using the ternary operator\n",
        "num = int(input(\"Enter a number: \"))\n",
        "result = \"Positive\" if num > 0 else \"Negative\"\n",
        "print(result)"
      ],
      "metadata": {
        "id": "PBD3dC4jVXl5"
      },
      "execution_count": null,
      "outputs": []
    },
    {
      "cell_type": "markdown",
      "source": [
        "5. Multiple conditions with \"and\" and \"or\":"
      ],
      "metadata": {
        "id": "icjEtZwoVdta"
      }
    },
    {
      "cell_type": "code",
      "source": [
        "# Check if a number is divisible by both 3 and 5, or divisible by either 3 or 5\n",
        "num = int(input(\"Enter a number: \"))\n",
        "if num % 3 == 0 and num % 5 == 0:\n",
        "    print(\"Divisible by both 3 and 5\")\n",
        "elif num % 3 == 0 or num % 5 == 0:\n",
        "    print(\"Divisible by either 3 or 5\")\n",
        "else:\n",
        "    print(\"Not divisible by 3 or 5\")"
      ],
      "metadata": {
        "id": "XV0dcyUHVkDq",
        "colab": {
          "base_uri": "https://localhost:8080/"
        },
        "outputId": "d3061b11-aef8-4287-abb3-7c414c2eef14"
      },
      "execution_count": null,
      "outputs": [
        {
          "output_type": "stream",
          "name": "stdout",
          "text": [
            "Enter a number: 5\n",
            "Divisible by either 3 or 5\n"
          ]
        }
      ]
    },
    {
      "cell_type": "markdown",
      "source": [
        "-   Indentation plays a crucial role in defining the scope and structure of conditional statements and other control flow constructs.\n",
        "-   There are other types of conditional codes as well."
      ],
      "metadata": {
        "id": "kiM9Zc2lV-yD"
      }
    },
    {
      "cell_type": "markdown",
      "source": [
        "- Nonzero value and nonempty contains are treated as True\n",
        "- Zero value and empty containers are treated as False\n",
        "- Special value None is treated as False"
      ],
      "metadata": {
        "id": "4vioClugtR-v"
      }
    },
    {
      "cell_type": "code",
      "source": [
        "if 1:\n",
        "  print(\"True\")\n",
        "if 0:\n",
        "  print(\"False\")\n",
        "if [0]:\n",
        "  print(\"True\")\n",
        "if []:\n",
        "  print(\"False\")\n",
        "if \"abc\":\n",
        "  print(\"True\")\n",
        "if \"\":\n",
        "  print(\"False\")\n",
        "if None:\n",
        "  print(\"False\")"
      ],
      "metadata": {
        "colab": {
          "base_uri": "https://localhost:8080/"
        },
        "id": "qRy079qhsvKH",
        "outputId": "be6965e7-3b61-4dff-f3c1-91bdc761c67a"
      },
      "execution_count": null,
      "outputs": [
        {
          "output_type": "stream",
          "name": "stdout",
          "text": [
            "True\n",
            "True\n",
            "True\n"
          ]
        }
      ]
    },
    {
      "cell_type": "markdown",
      "source": [
        "###Comments in Python\n",
        "- Anything after a \\# is ignored by Python\n",
        "\n",
        "Why comment?\n",
        "- Describe what is going to happen in a sequence of code\n",
        "- Document who wrote the code or other ancillary information\n",
        "- Turn off a line of code - perhaps temporarily"
      ],
      "metadata": {
        "id": "C0tj8mZy4LpB"
      }
    },
    {
      "cell_type": "markdown",
      "source": [
        "###Style Guide for Python Code\n",
        "Most projects use PEP 8 style; most editors enforce it automatically\n",
        "- Use 4-space indentation, and no tabs\n",
        "- Wrap lines so that they don't exceed 79 characters; long lines can be broken with the $\\backslash$ character\n",
        "- Use blank lines to separate functions and classes, and larger blocks of code inside functions\n",
        "- When possible, put comments on a line of their own\n",
        "- Use docstrings for the help system\n",
        "- Use spaces around operators and after commas, but not directly inside bracketing constructs: `a = f(1,2) + g(3,4)`\n",
        "- Use lower_case_with_underscores for functions and methods; use CamelCase for classes\n",
        "- Don't use fancy encodings unless you have to; don't use non-ASCII characters in identifiers"
      ],
      "metadata": {
        "id": "WA_O0yil3ODQ"
      }
    },
    {
      "cell_type": "markdown",
      "source": [
        "Now, we're going to dive a little more in depth on the atoms, the little pieces that make up Python.\n",
        "\n",
        "A big part of any programming language is the syntax for constants. The nice thing about this\n",
        "it's kind of instinctive. So, like a 123 or 98.6, numbers both integer and floating point numbers. We've been using this on calculators. They make a lot of sense to us. The kind of constants that are a little bit different are things like string constants. So \"I love AMS 595\" is a string constant. We call them constants because they don't change but it's kind of obvious, constants. It's just a piece of the language,\n",
        "so that's a constant.\n",
        "\n",
        "The other thing other than constants are reserved words. Most of them are kind of weird enough that\n",
        "you're probably not going to use them as variable names.\n",
        "\n",
        "And so the third atom basically is variables. And you get to pick the variable names. And so variable names are places where you're asking Python to allocate a bit of memory and stick something in it and you're choosing the label.\n",
        "\n",
        "You have some naming rules. You can start variable names with letters\n",
        "or underscores, although we avoid underscores because Python tends to use\n",
        "underscores for its own internal purposes. And the rest of it can be letters,\n",
        "numbers, and underscores. And it's case sensitive. But we don't want you to depend on that. So, spam all lowercase,\n",
        "Spam with one uppercase, and SPAM. These all are different variable names but you're not doing anybody any favor\n",
        "if you think that's being clever because you really are misleading\n",
        "the person who's reading your code. Some applications use what's called camel case.\n",
        "\n",
        "Comments are a way for us to add text that's ignored by Python to our programs. So it's a great way to give a little idea what's going on in code.\n",
        "I'll write comments so I remember what I was doing here. Why did I write this code?\" So write the comments to help yourself out.\n"
      ],
      "metadata": {
        "id": "BlaxV-sRWi0B"
      }
    },
    {
      "cell_type": "markdown",
      "source": [
        "## Basic Data Structures\n",
        "\n",
        "\n",
        "---\n",
        "\n"
      ],
      "metadata": {
        "id": "q4hLKgj2XR59"
      }
    },
    {
      "cell_type": "markdown",
      "source": [
        "###Data structures in MATLAB:\n",
        "- Arrays\n",
        "- Cell arrays\n",
        "\n",
        "###Some built in data structures in Python:\n",
        "- Lists\n",
        "- Tuples\n",
        "- Sets\n",
        "- Dictionaries\n",
        "- Some frequently used data structures must be called from other libraries (i.e. arrays, dataframes,...)\n",
        "\n"
      ],
      "metadata": {
        "id": "Ihv0XxkZyfeY"
      }
    },
    {
      "cell_type": "markdown",
      "source": [
        "##Lists\n",
        "- Similar to cell arrays in MATLAB\n",
        "- Variable-length array\n",
        "- Can store multiple different data types\n",
        "- Ordered\n",
        "- Mutable\n",
        "- Allows duplicates\n",
        "\n",
        "Lists\n",
        "\n",
        "- To create a list, use brackets \"[ ]\" and different itemes are separated by a comma\n",
        " - `somelist = [0, \"math\", 3.1415]`\n",
        "- Can be accessed by indexing and slicing\n",
        " - `somelist [0: 2]`\n",
        " - Output: `[0, \"math\"]`\n",
        "\n",
        "- We are also allowed to use negative indices (equivalent to counting from the right and going left)\n",
        " - `somelist[-1]`\n",
        " - Output: `3.1415`\n",
        "- Since lists are mutable, we may modify entries\n",
        " - `somelist[0] = 595`\n",
        " - Our list is now `[595, \"math\", 3.1415]`\n",
        "- We can have lists of lists of lists...etc\n",
        " - `somebiglist =[[9,7], [0,1], [1,2]]`\n",
        "\n",
        "Methods\n",
        "- The list object has its own methods:\n",
        " - Appending an item: `a.append()`\n",
        " - Append multiple items: `a.extend([0,1])`\n",
        " - Inserting an item: `a.insert(9, \"some text\")`\n",
        " - Remove the first instance of an item: `a.remove('some text')`\n",
        " - Remove an item at a specific index and return it: `a.pop(2)`\n",
        " - Remove all items from the list: `a.clear()`\n",
        " - Return the index of a particular item's first instance:\n",
        "`a.index(\"math\")`\n",
        " - Count the number of occurrences for a particular item: `a.count(5)`\n",
        " - Sort a list: `a.sort()`\n",
        " - Reverse a list: `a.reverse()`\n",
        " - (Shallow) Copy: `a.copy()`"
      ],
      "metadata": {
        "id": "fWxtIt2ABc9T"
      }
    },
    {
      "cell_type": "markdown",
      "source": [
        "##Tuples\n",
        "- Ordered\n",
        "- Immutable (Once a tuple is created, you cannot change its values)\n",
        "- Can store multiple different data types\n",
        "- Create a tuple by using parenthesis \"( )\" and different items are separated by a comma\n",
        "- Indexing follows the same syntax as lists\n",
        "- Example:\n",
        " - *sometuple = (1,2, \"the\")*\n",
        "- Built in tuple methods:\n",
        " - Count the number of occurrences for a particular item:\n",
        "`a.count(5)`\n",
        " - Return the index of a particular item's first instance:\n",
        "`a.index(\"math\")`\n",
        "- Faster than list\n"
      ],
      "metadata": {
        "id": "iphA8uc7ETpJ"
      }
    },
    {
      "cell_type": "markdown",
      "source": [
        "##Sets\n",
        "- Unordered\n",
        "- Cannot contain duplicates\n",
        "- Mutable\n",
        "- Can store multiple different data types, but cannot have mutable elements\n",
        "- The immutable counterpart of a set is called a frozenset in Python\n",
        "- Create a tuple by using curly brackets \" \\{\\} \" and different items are separated by a comma\n",
        "- Example:\n",
        " - `a = {1, 2, 3}`\n",
        "- Built in set methods:\n",
        " - Add an element: `a.add()`\n",
        " - Clear elements from set: `a.clear()`\n",
        " - Remove a specific element: `a.remove()` or `a.discard()`\n",
        " - Remove a random element: `a.pop()`\n",
        " - Update the list with another list: `a.update()`\n",
        "- In addition to these methods, there are methods that perform the usual set theory operations (unions, intersections, subset tests, disjoint tests, symmetric difference...etc)"
      ],
      "metadata": {
        "id": "SphoJyWWHYbs"
      }
    },
    {
      "cell_type": "markdown",
      "source": [
        "##Dictionary\n",
        "- Similar to lists, but instead of indices we have keys\n",
        "- We say that dictionaries have key:value pairs\n",
        "- Keys can be any immutable data type, values can be any data type\n",
        "- Unordered\n",
        "- Mutable\n",
        "- Dictionaries are not just practical, but can also be more efficient\n",
        "- Dictionaries is an example of a hash table"
      ],
      "metadata": {
        "id": "wvA6L5B_gaXd"
      }
    },
    {
      "cell_type": "code",
      "source": [
        "# Create a dictionary by using curly brackets “ { } ” and different key:value pairs are separated by a comma\n",
        "mydict = {\"Bio\": 1, \"CAM\": 2, \"OR\": 3, \"QF\": 4, \"Stat\": 5}\n",
        "# Access values using the keys\n",
        "print(mydict[\"OR\"])\n",
        "# To update an entry:\n",
        "mydict[\"OR\"] = 10\n",
        "# If the key does not exist, then it is added to the dictionary\n",
        "mydict[\"AMS\"] = 15\n",
        "\n",
        "# Dictionary objects have their own methods\n",
        "#To obtain a list of the keys:\n",
        "print(mydict.keys())\n",
        "#To obtain a list of the values:\n",
        "print(mydict.values())\n",
        "#To obtain a list of key:value tuples:\n",
        "print(mydict.items())"
      ],
      "metadata": {
        "colab": {
          "base_uri": "https://localhost:8080/"
        },
        "id": "PBbi0cI0i8kA",
        "outputId": "f6781bbc-23bb-4623-d7ee-29de071bcf41"
      },
      "execution_count": null,
      "outputs": [
        {
          "output_type": "stream",
          "name": "stdout",
          "text": [
            "3\n",
            "dict_keys(['Bio', 'CAM', 'OR', 'QF', 'Stat', 'AMS'])\n",
            "dict_values([1, 2, 10, 4, 5, 15])\n",
            "dict_items([('Bio', 1), ('CAM', 2), ('OR', 10), ('QF', 4), ('Stat', 5), ('AMS', 15)])\n"
          ]
        }
      ]
    },
    {
      "cell_type": "markdown",
      "source": [
        "##More on Data Structures"
      ],
      "metadata": {
        "id": "SIdSoZbGmFFG"
      }
    },
    {
      "cell_type": "code",
      "source": [
        "a = [1, 2, 3]\n",
        "mydict = {\"Bio\": 1, \"CAM\": 2, \"OR\": 3, \"QF\": 4, \"Stat\": 5}\n",
        "# To check the length of any of the data structures we have covered:\n",
        "print(len(a))\n",
        "# The in operator returns a boolean if a certain value is in your data structure\n",
        "print(5 in a)\n",
        "print(\"s\" in \"Ams\")\n",
        "# By default the in operator checks the keys of a dictionary, if you would like to check over the values you must specify\n",
        "print(\"CAM\" in mydict)\n",
        "print(5 in mydict.values())\n",
        "# For lists and tuples, + and * work the same as they do for strings\n",
        "b = [4, 5, 6]\n",
        "print(a + b)\n",
        "print(a * 2)"
      ],
      "metadata": {
        "colab": {
          "base_uri": "https://localhost:8080/"
        },
        "id": "1wv3wmpKmT_V",
        "outputId": "0b720834-7357-40c3-bd93-e0f3b49dee5d"
      },
      "execution_count": null,
      "outputs": [
        {
          "output_type": "stream",
          "name": "stdout",
          "text": [
            "3\n",
            "False\n",
            "True\n",
            "True\n",
            "True\n",
            "[1, 2, 3, 4, 5, 6]\n",
            "[1, 2, 3, 1, 2, 3]\n"
          ]
        }
      ]
    },
    {
      "cell_type": "markdown",
      "source": [
        "You can convert between these data structures: https://towardsdatascience.com/python-data-structures-conversions-ec9d56649e3b\n"
      ],
      "metadata": {
        "id": "OrWfLoKso1hn"
      }
    },
    {
      "cell_type": "code",
      "source": [
        "# Example\n",
        "mytuple = (1, 2, 3) # -> [1, 2, 3]\n",
        "myset = {1, 2, 3} # -> [1, 2, 3]\n",
        "mylist1 = list(mytuple)\n",
        "mylist2 = list(myset)\n",
        "print(mylist1 == mylist2)"
      ],
      "metadata": {
        "colab": {
          "base_uri": "https://localhost:8080/"
        },
        "id": "KCO3wPs-o3mF",
        "outputId": "5c940fbf-4d2c-4aaa-8770-1bbbd5d9bca9"
      },
      "execution_count": null,
      "outputs": [
        {
          "output_type": "stream",
          "name": "stdout",
          "text": [
            "True\n"
          ]
        }
      ]
    },
    {
      "cell_type": "markdown",
      "source": [
        "##Mutable and Immutable Objects\n",
        "- If an object is mutable, then it can be modified after it has been created. An immutable object cannot be changed after its creation.\n",
        "- An example of a mutable object you are familiar with is a MATLAB array\n",
        "- Imutable objects:\n",
        " - Basic data types\n",
        " - Tuples\n",
        " - Frozenset\n",
        "- Mutable Objects\n",
        " - Lists\n",
        " - Dictionaries\n",
        " - Sets\n",
        " - NumPy arrays\n",
        " - Most user-defined classes\n",
        "\n",
        "###Mutable vs Immutable Objects\n",
        "- Assignment does not always behave how you would expect, and depends on if the object is mutable or immutable\n",
        "- For immutable basic types (such as numbers and strings), '=' copies the value\n",
        "- For mutable objects, '=' creates an \"alias\" which points to the same object, changes to the alias will also be seen in the original object\n",
        "- Shawllow copy and deep copy from the copy Module: `copy.copy(a), copy.deepcopy(a)`\n",
        " - The difference between shallow and deep copying is only relevant for compound objects (objects that contain other objects, like lists or class instances).\n",
        "\n",
        " - A shallow copy constructs a new compound object and then (to the extent possible) inserts references into it to the objects found in the original.\n",
        "\n",
        " - A deep copy constructs a new compound object and then, recursively, inserts copies into it of the objects found in the original.\n"
      ],
      "metadata": {
        "id": "nAOyrwAjA25s"
      }
    },
    {
      "cell_type": "code",
      "source": [
        "import copy\n",
        "a = [1, 2, 3, 4]  # [[1,2], [2,3]]\n",
        "b = a\n",
        "b[0] = 0\n",
        "print(a)\n",
        "c = copy.copy(a)\n",
        "c[0] = -1\n",
        "print(a)\n",
        "d = copy.deepcopy(a)\n",
        "d[0] = -2\n",
        "print(a)"
      ],
      "metadata": {
        "colab": {
          "base_uri": "https://localhost:8080/"
        },
        "id": "tkWLf-5584X1",
        "outputId": "7b7e7f34-c8ad-48ec-a9a7-3ce71c70d84f"
      },
      "execution_count": null,
      "outputs": [
        {
          "output_type": "stream",
          "name": "stdout",
          "text": [
            "[0, 2, 3, 4]\n",
            "[0, 2, 3, 4]\n",
            "[0, 2, 3, 4]\n"
          ]
        }
      ]
    },
    {
      "cell_type": "code",
      "source": [
        "import copy\n",
        "\n",
        "a = [1, 2, 3]\n",
        "b = [4, 5, 6]\n",
        "c = [a, b]\n",
        "print(c)\n",
        "# Using normal assignment operatings to copy:\n",
        "d = c\n",
        "\n",
        "print(id(c) == id(d))          # True - d is the same object as c\n",
        "print(id(c[0]) == id(d[0]))    # True - d[0] is the same object as c[0]\n",
        "\n",
        "#Using a shallow copy:\n",
        "e = copy.copy(c)\n",
        "\n",
        "print(id(c) == id(e))          # False - e is now a new object\n",
        "print(id(c[0]) == id(e[0]))    # True - d[0] is the same object as c[0]\n",
        "        # a          # a\n",
        "#Using a deep copy:\n",
        "f = copy.deepcopy(c)\n",
        "\n",
        "print(id(c) == id(f))          # False - d is now a new object\n",
        "print(id(c[0]) == id(f[0]))    # False - d[0] is now a new object\n",
        "        # a        # a new list\n",
        "#Difference between shallow and deep copy\n",
        "print(c)\n",
        "e[0][0] = 0                    # c[0][0] becomes 0 as well\n",
        " # a\n",
        "\n",
        "print(c)\n",
        "f[0][0] = -1                   # c[0][0] unchanged\n",
        "print(c)\n"
      ],
      "metadata": {
        "colab": {
          "base_uri": "https://localhost:8080/"
        },
        "id": "T3psjaW4Fw9o",
        "outputId": "99318476-e37b-44e7-fdc9-10b1c28beb91"
      },
      "execution_count": null,
      "outputs": [
        {
          "output_type": "stream",
          "name": "stdout",
          "text": [
            "[[1, 2, 3], [4, 5, 6]]\n",
            "True\n",
            "True\n",
            "False\n",
            "True\n",
            "False\n",
            "False\n",
            "[[1, 2, 3], [4, 5, 6]]\n",
            "[[0, 2, 3], [4, 5, 6]]\n",
            "[[0, 2, 3], [4, 5, 6]]\n"
          ]
        }
      ]
    },
    {
      "cell_type": "code",
      "source": [],
      "metadata": {
        "id": "xoofOJSMqmew"
      },
      "execution_count": null,
      "outputs": []
    },
    {
      "cell_type": "markdown",
      "source": [
        "## Exceptions\n",
        "The three types of errors in Python:\n",
        "- Syntax and Semantic errors (Semantics refers to the meaning of a statement. So, when a statement doesn’t make any sense and is not meaningful then we can say it is a Semantic error)\n",
        "- Logical errors\n",
        "- Exceptions: https://docs.python.org/3/tutorial/errors.html\n",
        " - Exceptions occur when a statement is syntactically correct but still causes an error during execution, such as\n",
        "   - Opening a file that does not exist\n",
        "   - Dividing by zero\n",
        "   - Accessing incorrect index\n",
        "   - Accessing a dictionary using a key that does not exist\n",
        " - Exceptions are handled using try-except-else-finally blocks\n",
        " - Many exceptions are already built into Python"
      ],
      "metadata": {
        "id": "8VX2LZpkqcCr"
      }
    },
    {
      "cell_type": "markdown",
      "source": [
        "##Functions and Loops\n",
        "\n",
        "\n",
        "---\n",
        "\n"
      ],
      "metadata": {
        "id": "UAEnrDyS3EDk"
      }
    },
    {
      "cell_type": "markdown",
      "source": [
        "###Functions: store and reuse\n",
        "- We have already been using functions, such as print(), type(), etc..\n",
        "- Example of a function:"
      ],
      "metadata": {
        "id": "aJUzQ8XQt3oo"
      }
    },
    {
      "cell_type": "code",
      "source": [
        "def myFunction():\n",
        "  print(\"I\")\n",
        "  print(\"love\")\n",
        "  print(\"AMS\")\n",
        "  print(\"595\")\n",
        "\n",
        "\n",
        "myFunction()"
      ],
      "metadata": {
        "colab": {
          "base_uri": "https://localhost:8080/"
        },
        "id": "0Arg5WAwu3M3",
        "outputId": "f61bebc2-7f00-427c-8514-99cae9443cba"
      },
      "execution_count": null,
      "outputs": [
        {
          "output_type": "stream",
          "name": "stdout",
          "text": [
            "I\n",
            "love\n",
            "AMS\n",
            "595\n"
          ]
        }
      ]
    },
    {
      "cell_type": "markdown",
      "source": [
        "###Arguments and Parameters\n",
        "- A parameter is the variable listed inside the parentheses in the function definition. An argument is the value that is sent to the function when it is called.\n",
        "- We use arguments so we can direct the function to do different kinds of work when we call it at different times\n",
        "- We put the arguments in parentheses after the name of the function"
      ],
      "metadata": {
        "id": "F2OBbVWavJNG"
      }
    },
    {
      "cell_type": "code",
      "source": [
        "def greetings(lang):  # lang is called a parameter\n",
        "  if lang == 'es':\n",
        "    print ('Hola')\n",
        "  elif lang == \"fr\":\n",
        "    print ('Bonjour')\n",
        "  elif lang == \"chn\":\n",
        "    print(\"Ni hao 你好\")\n",
        "  else:\n",
        "    print ('Hello')\n",
        "\n",
        "\n",
        "greetings(\"fr\")  # \"fr\" and \"chn\" are arguments\n",
        "greetings(\"chn\")"
      ],
      "metadata": {
        "colab": {
          "base_uri": "https://localhost:8080/"
        },
        "id": "sPTm8LNwvQ65",
        "outputId": "5ce179f4-1dfa-4bd4-e6fa-c8a8c48ed569"
      },
      "execution_count": null,
      "outputs": [
        {
          "output_type": "stream",
          "name": "stdout",
          "text": [
            "Bonjour\n",
            "Ni hao 你好\n"
          ]
        }
      ]
    },
    {
      "cell_type": "markdown",
      "source": [
        "###Return Values\n",
        "- Often a function will take its arguments, do some computation, and return a value to be used as the value of the function call in the calling expression. The return keyword is used for this.\n",
        "- The return statement ends the function execution and \"sends back\" the result of the function"
      ],
      "metadata": {
        "id": "zb6Uou2Zwjfh"
      }
    },
    {
      "cell_type": "code",
      "source": [
        "def add2(a, b):\n",
        "  return a+b\n",
        "\n",
        "c = add2(3, 4)\n",
        "\n",
        "print(add2(1,3))\n",
        "print(c)\n"
      ],
      "metadata": {
        "colab": {
          "base_uri": "https://localhost:8080/"
        },
        "id": "-PbxpgjkwqTu",
        "outputId": "89e1b7c9-97c2-48ee-d6b4-72a27658fb32"
      },
      "execution_count": null,
      "outputs": [
        {
          "output_type": "stream",
          "name": "stdout",
          "text": [
            "4\n",
            "7\n"
          ]
        }
      ]
    },
    {
      "cell_type": "markdown",
      "source": [
        "# **Python Lecture 2**"
      ],
      "metadata": {
        "id": "CPsbhaSI4mX0"
      }
    },
    {
      "cell_type": "markdown",
      "source": [
        "###Lambda Functions\n",
        "- Lambda functions as disposable, nameless functions\n",
        "- Lambda functions are often used as arguments to other\n",
        "functions (such as sort and filter)\n",
        "- Example:"
      ],
      "metadata": {
        "id": "NV-U9_YDzmh0"
      }
    },
    {
      "cell_type": "code",
      "source": [
        "def f(a):\n",
        "  return a + 10\n",
        "# f() can be rewritten using a lambda function:\n",
        "# lambda arguments : expression\n",
        "x = lambda a : a + 10\n",
        "print(f(5))\n",
        "print(x(5))\n",
        "\n",
        "x = lambda c, d : c * d\n",
        "print(x(5, 6))"
      ],
      "metadata": {
        "colab": {
          "base_uri": "https://localhost:8080/"
        },
        "id": "mna67Q7BznIu",
        "outputId": "0c7bf7ac-ebb2-4c34-e7c5-e1634df23d9d"
      },
      "execution_count": null,
      "outputs": [
        {
          "output_type": "stream",
          "name": "stdout",
          "text": [
            "15\n",
            "15\n",
            "30\n"
          ]
        }
      ]
    },
    {
      "cell_type": "markdown",
      "source": [
        "**Why Use Lambda Functions?**\n",
        "The power of lambda is better shown when you use them as an anonymous function inside another function.\n",
        "\n",
        "Say you have a function definition that takes one argument, and that argument will be multiplied with an unknown number:"
      ],
      "metadata": {
        "id": "2w9zxP1B2i8e"
      }
    },
    {
      "cell_type": "code",
      "source": [
        "def myfunc(n):\n",
        "  return lambda a : a * n\n",
        "\n",
        "# Make a function that always doubles the number you send in:\n",
        "mydoubler = myfunc(2)\n",
        "print(mydoubler(11))\n",
        "\n",
        "# what does this do?\n",
        "myNewFunc = myfunc(3)\n",
        "\n",
        "def myfunc2(n, a):\n",
        "  return a*n"
      ],
      "metadata": {
        "id": "7vnkQDOd2yDk"
      },
      "execution_count": null,
      "outputs": []
    },
    {
      "cell_type": "markdown",
      "source": [
        "##Loops and Iteration"
      ],
      "metadata": {
        "id": "yjyqpiMczQqz"
      }
    },
    {
      "cell_type": "markdown",
      "source": [
        "In programming, loops are essential constructs that allow us to execute a block of code repeatedly. Python provides two main types of loops: for loop and while loop. These loops help us iterate over data, perform repetitive tasks, and simplify code execution."
      ],
      "metadata": {
        "id": "Vd7wKjit1twB"
      }
    },
    {
      "cell_type": "markdown",
      "source": [
        "###For Loop\n",
        "The for loop is used when we know the number of times we want to execute a block of code or when we want to iterate over a sequence (such as a list, tuple, string, etc.)."
      ],
      "metadata": {
        "id": "9tB6MV9m1wOM"
      }
    },
    {
      "cell_type": "code",
      "source": [
        "fruits = [\"apple\", \"banana\", \"cherry\"]\n",
        "for fruit in fruits:\n",
        "    print(fruit)\n",
        "for i in range(0, 3):\n",
        "  print(i)"
      ],
      "metadata": {
        "colab": {
          "base_uri": "https://localhost:8080/"
        },
        "id": "_14iiBavzSg9",
        "outputId": "d2f30678-e4ac-4c07-a53d-6ece6490d6cb"
      },
      "execution_count": null,
      "outputs": [
        {
          "output_type": "stream",
          "name": "stdout",
          "text": [
            "apple\n",
            "banana\n",
            "cherry\n",
            "0\n",
            "1\n",
            "2\n"
          ]
        }
      ]
    },
    {
      "cell_type": "markdown",
      "source": [
        "###While Loop\n",
        "The while loop is used when we don't know the number of times a block of code needs to be executed but have a condition that should be satisfied to continue the loop."
      ],
      "metadata": {
        "id": "SOEMu6X-2OgL"
      }
    },
    {
      "cell_type": "code",
      "source": [
        "count = 1\n",
        "while count <= 4:  # repeat while the condition is true\n",
        "    print(f\"Count is: {count}\")\n",
        "    count += 1"
      ],
      "metadata": {
        "colab": {
          "base_uri": "https://localhost:8080/"
        },
        "id": "rNA7Nu8n2Qn5",
        "outputId": "0d3cc26e-21f9-4cdd-ac10-74d5f1e00a7b"
      },
      "execution_count": null,
      "outputs": [
        {
          "output_type": "stream",
          "name": "stdout",
          "text": [
            "Count is: 1\n",
            "Count is: 2\n",
            "Count is: 3\n",
            "Count is: 4\n"
          ]
        }
      ]
    },
    {
      "cell_type": "markdown",
      "source": [
        "###Loop Control Statements\n",
        "Python provides control statements to alter the flow of loops:"
      ],
      "metadata": {
        "id": "Yr0q3jCO3y0s"
      }
    },
    {
      "cell_type": "code",
      "source": [
        "# 1. break: Terminates the loop prematurely.\n",
        "for i in range(1, 10000):\n",
        "    if i == 3:\n",
        "        break\n",
        "    print(i)"
      ],
      "metadata": {
        "colab": {
          "base_uri": "https://localhost:8080/"
        },
        "id": "d_KVekyG33W5",
        "outputId": "a7cd1e3e-06d7-412b-c77a-51a9d8d815e9"
      },
      "execution_count": null,
      "outputs": [
        {
          "output_type": "stream",
          "name": "stdout",
          "text": [
            "1\n",
            "2\n"
          ]
        }
      ]
    },
    {
      "cell_type": "code",
      "source": [
        "# 2. continue: Skips the rest of the code in the current iteration and moves to the next iteration.\n",
        "for i in range(1, 4):\n",
        "    if i == 2:\n",
        "        continue\n",
        "    print(i)"
      ],
      "metadata": {
        "colab": {
          "base_uri": "https://localhost:8080/"
        },
        "id": "0fIjFs1D4TEg",
        "outputId": "455dc995-6487-4dd5-963c-5557bcf21051"
      },
      "execution_count": null,
      "outputs": [
        {
          "output_type": "stream",
          "name": "stdout",
          "text": [
            "1\n",
            "3\n"
          ]
        }
      ]
    },
    {
      "cell_type": "markdown",
      "source": [
        "###Nested Loops\n",
        "Python allows nesting loops, which means you can have one loop inside another."
      ],
      "metadata": {
        "id": "UBqTHGF54ZMv"
      }
    },
    {
      "cell_type": "code",
      "source": [
        "rows = 2\n",
        "cols = 2\n",
        "for i in range(rows):\n",
        "    for j in range(cols):\n",
        "        print(i, j)"
      ],
      "metadata": {
        "colab": {
          "base_uri": "https://localhost:8080/"
        },
        "id": "XYZw0MZF4ejy",
        "outputId": "2a79f4f4-c286-4fb2-99dd-c934d2f1b438"
      },
      "execution_count": null,
      "outputs": [
        {
          "output_type": "stream",
          "name": "stdout",
          "text": [
            "0 0\n",
            "0 1\n",
            "1 0\n",
            "1 1\n"
          ]
        }
      ]
    },
    {
      "cell_type": "markdown",
      "source": [
        "## **In-class Activity**"
      ],
      "metadata": {
        "id": "-AfjnKSs5GWT"
      }
    },
    {
      "cell_type": "markdown",
      "source": [
        "- The code below is a simple number guessing game in Python.\n",
        "- The program will randomly generate a secret number between a given range (1 to 100), and the player will have to guess the number within 5 attempts.\n",
        "- The program will provide feedback to the player after each guess, indicating whether the guessed number is too high, too low, or correct."
      ],
      "metadata": {
        "id": "xnWh6DC15Eap"
      }
    },
    {
      "cell_type": "code",
      "source": [
        "import random\n",
        "\n",
        "def number_guessing_game():\n",
        "    print(\"Welcome to the Number Guessing Game!\")\n",
        "    print(\"I have picked a number between 1 and 100.\")\n",
        "    print(\"You have to guess the number in a limited number of attempts.\")\n",
        "\n",
        "    secret_number = random.randint(1, 100)\n",
        "    max_attempts = 5\n",
        "    attempts = 0\n",
        "\n",
        "    while attempts < max_attempts:\n",
        "        try:\n",
        "            guess = int(input(\"Enter your guess (1-100): \"))\n",
        "            # What happens if i put attempts += 1 here? Will it cause any bugs in the program?\n",
        "            # attempts += 1\n",
        "            if guess == secret_number:  # Replace the blank with the correct condition\n",
        "                print(\"Congratulations! You guessed the correct number in\", attempts + 1, \"attempts!\")\n",
        "                break\n",
        "            elif guess < secret_number:  # Replace the blanks with the correct condition\n",
        "                print(\"Too low! Try again.\")\n",
        "            else:\n",
        "                print(\"Too high! Try again.\")\n",
        "            attempts += 1\n",
        "        except ValueError:\n",
        "            print(\"Invalid input. Please enter a number.\")\n",
        "\n",
        "    if attempts == max_attempts:\n",
        "        print(\"Sorry, you have used all your attempts.\")\n",
        "        print(\"The secret number was:\", secret_number)\n",
        "\n",
        "if __name__ == \"__main__\":\n",
        "    number_guessing_game()"
      ],
      "metadata": {
        "id": "qkLqg0Tg5LJF",
        "colab": {
          "base_uri": "https://localhost:8080/"
        },
        "outputId": "0aad8f34-a0e9-4d05-988b-09a72a338fcb"
      },
      "execution_count": null,
      "outputs": [
        {
          "output_type": "stream",
          "name": "stdout",
          "text": [
            "Welcome to the Number Guessing Game!\n",
            "I have picked a number between 1 and 100.\n",
            "You have to guess the number in a limited number of attempts.\n",
            "Enter your guess (1-100): 50\n",
            "Too high! Try again.\n",
            "Enter your guess (1-100): 40\n",
            "Too high! Try again.\n",
            "Enter your guess (1-100): 30\n",
            "Too high! Try again.\n",
            "Enter your guess (1-100): 10\n",
            "Too low! Try again.\n",
            "Enter your guess (1-100): 21\n",
            "Congratulations! You guessed the correct number in 5 attempts!\n"
          ]
        }
      ]
    },
    {
      "cell_type": "markdown",
      "source": [
        "##Recursions\n",
        "\n",
        "\n",
        "---\n",
        "\n"
      ],
      "metadata": {
        "id": "-GoKJW4L7NNi"
      }
    },
    {
      "cell_type": "markdown",
      "source": [
        "Recursion is a powerful programming technique where a function calls itself to solve a problem. It allows us to break down complex problems into smaller, more manageable subproblems and solve them in a recursive manner. In Python, functions can be defined to be recursive by calling themselves within the function body.\n",
        "\n",
        "**Recursive Function Structure**\n",
        "- A recursive function typically consists of two parts:\n",
        "\n",
        " - Base Case: This is the stopping condition that prevents the function from calling itself infinitely. It defines the simplest version of the problem that can be directly solved without further recursion.\n",
        " - Recursive Case: This is the part where the function calls itself with a modified input, making the problem simpler to solve. The function will continue to call itself until the base case is reached.\n",
        "\n",
        "Example: Factorial Function\n",
        "- Formula: `factorial(n) = n * factorial(n-1)`\n",
        "- Base Case: `factorial(0) = 1`\n",
        "\n",
        "\n",
        "\n"
      ],
      "metadata": {
        "id": "mYtr9Z_M7gqW"
      }
    },
    {
      "cell_type": "code",
      "source": [
        "def factorial(n):\n",
        "    if n == 0:          # Base case: when n is 0\n",
        "        return 1\n",
        "    else:               # Recursive case: when n is greater than 0\n",
        "        return n * factorial(n - 1)\n",
        "\n",
        "print(factorial(5))"
      ],
      "metadata": {
        "colab": {
          "base_uri": "https://localhost:8080/"
        },
        "id": "T3H5xb3m8Yy_",
        "outputId": "c18e75bf-e990-455d-d58e-380750777a82"
      },
      "execution_count": null,
      "outputs": [
        {
          "output_type": "stream",
          "name": "stdout",
          "text": [
            "120\n"
          ]
        }
      ]
    },
    {
      "cell_type": "markdown",
      "source": [
        "Example: Fibonacci Sequence (0, 1, 1, 2, 3, 5, 8, 13, 21, 34, 55, 89,144, ...)\n",
        "\n",
        "- Formula: `fibonacci(n) = fibonacci(n-1) + fibonacci(n-2)`\n",
        "- Base Cases: `fibonacci(0) = 0` and `fibonacci(1) = 1`\n"
      ],
      "metadata": {
        "id": "-mVmDEeg8hCQ"
      }
    },
    {
      "cell_type": "code",
      "source": [
        "def fibonacci(n):\n",
        "  # returns the n-th number in the fibonacci sequence\n",
        "    if n == 1:\n",
        "        return 0\n",
        "    elif n == 2:\n",
        "        return 1\n",
        "    else:\n",
        "        return fibonacci(n - 1) + fibonacci(n - 2)\n",
        "print(fibonacci(7))"
      ],
      "metadata": {
        "colab": {
          "base_uri": "https://localhost:8080/"
        },
        "id": "O3SeXEzh83wB",
        "outputId": "766825dd-d506-49a3-abcb-db7af9249225"
      },
      "execution_count": null,
      "outputs": [
        {
          "output_type": "stream",
          "name": "stdout",
          "text": [
            "8\n"
          ]
        }
      ]
    },
    {
      "cell_type": "markdown",
      "source": [
        "## Pros and Cons of Recursion\n",
        "Pros:\n",
        "- It simplifies code by breaking complex problems into smaller parts.\n",
        "- Some problems are more natural and intuitive to solve using recursion.\n",
        "\n",
        "Cons:\n",
        "\n",
        "- Recursion can be less efficient in terms of memory and time compared to iterative solutions.\n",
        "- Deep recursion may lead to stack overflow errors if not optimized properly."
      ],
      "metadata": {
        "id": "La1HAOGK9gAK"
      }
    },
    {
      "cell_type": "markdown",
      "source": [
        "## Try this now"
      ],
      "metadata": {
        "id": "bndvXBtjVJOL"
      }
    },
    {
      "cell_type": "markdown",
      "source": [
        "**Power of Two**\n",
        "\n",
        "Given an integer $n$, return true if it is a power of two. Otherwise, return false.\n",
        "\n",
        "An integer $n$ is a power of two, if there exists an integer $x$ such that $n==2^x$.\n",
        "\n",
        "Note that this is a LeetCode Problem: [Power of Two](https://leetcode.com/problems/power-of-two/).\n",
        "\n",
        "---\n",
        "\n",
        "\n",
        "Example 1:\n",
        "\n",
        "**Input:** $\\mathrm{n}=1$\n",
        "\n",
        "**Output:** true\n",
        "\n",
        "Explanation: $2^0=1$\n",
        "\n",
        "\n",
        "---\n",
        "\n",
        "\n",
        "Example 2:\n",
        "\n",
        "**Input:** $\\mathrm{n}=16$\n",
        "\n",
        "**Output:** true\n",
        "\n",
        "Explanation: $2^4=16$\n",
        "\n",
        "\n",
        "---\n",
        "\n",
        "\n",
        "Example 3:\n",
        "\n",
        "**Input:** $\\mathrm{n}=3$\n",
        "\n",
        "**Output:** false\n",
        "\n",
        "\n",
        "---\n",
        "\n",
        "\n",
        "Constraints:\n",
        "- $-2^{31}<=n<=2^{31}-1$"
      ],
      "metadata": {
        "id": "nKWY8mstVVwy"
      }
    },
    {
      "cell_type": "code",
      "source": [
        "def isPowerOfTwo(n):\n",
        "      if n == 1:\n",
        "          return True\n",
        "      elif n<=0:\n",
        "          return False\n",
        "      elif n % 2 != 0:\n",
        "          return False\n",
        "      else:\n",
        "          return isPowerOfTwo(n/2)\n",
        "\n",
        "isPowerOfTwo(800)"
      ],
      "metadata": {
        "id": "Gykem-_9Vmsa",
        "colab": {
          "base_uri": "https://localhost:8080/"
        },
        "outputId": "711f4ff3-1e87-46b2-b308-f70cd9afba5e"
      },
      "execution_count": null,
      "outputs": [
        {
          "output_type": "execute_result",
          "data": {
            "text/plain": [
              "False"
            ]
          },
          "metadata": {},
          "execution_count": 17
        }
      ]
    },
    {
      "cell_type": "markdown",
      "source": [
        "##Fix the bug"
      ],
      "metadata": {
        "id": "rrKguy7qYJCH"
      }
    },
    {
      "cell_type": "markdown",
      "source": [
        "**Two Sum**\n",
        "\n",
        "Given an array of integers `nums` and an integer `target`, return indices of the two numbers such that they add up to `target`.\n",
        "\n",
        "You may assume that each input would have exactly one solution, and you may not use the same element twice.\n",
        "\n",
        "You can return the answer in any order.\n",
        "\n",
        "Note that this is a LeetCode Probelm: [Two Sum](https://https://leetcode.com/problems/two-sum/submissions/).\n",
        "\n",
        "---\n",
        "\n",
        "Example 1:\n",
        "\n",
        "**Input:** nums $=[2,7,11,15]$, target $=9$\n",
        "\n",
        "**Output:** $[0,1]$\n",
        "\n",
        "Explanation: Because nums $[0]+$ nums $[1]==9$, we return $[0,1]$.\n",
        "\n",
        "\n",
        "---\n",
        "Example 2:\n",
        "\n",
        "**Input:** nums $=[3,2,4]$, target $=6$\n",
        "\n",
        "**Output:** $[1,2]$\n",
        "\n",
        "\n",
        "---\n",
        "Example 3:\n",
        "\n",
        "**Input:** nums $=[3,3]$, target $=6$\n",
        "\n",
        "**Output:** $[0,1]$"
      ],
      "metadata": {
        "id": "2taE62-xYN-k"
      }
    },
    {
      "cell_type": "code",
      "source": [
        "# this has a bug\n",
        "def twoSum(nums, target):\n",
        "  for n in nums:\n",
        "      if (target - n) in nums:\n",
        "          return [nums.index(n), nums.index(target - n)]"
      ],
      "metadata": {
        "id": "7tGVBKcjZHNB"
      },
      "execution_count": null,
      "outputs": []
    },
    {
      "cell_type": "code",
      "source": [
        "# hint: loop through the numbers, each time, we store the difference (target - num) in a dictionary.\n",
        "# If the current number is in the dictionary, it means that the current number\n",
        "# and another number that we've seen previously adds up to target\n",
        "def twoSum(nums, target):\n",
        "  hashmap = {}\n",
        "  for i in range(len(nums)):\n",
        "      dif = target - nums[i]\n",
        "      if nums[i] in hashmap:\n",
        "          return [hashmap[nums[i]], i]\n",
        "      hashmap[dif] = i\n",
        "\n",
        "nums = [3, 3]\n",
        "target =6\n",
        "\n",
        "twoSum(nums, target)"
      ],
      "metadata": {
        "id": "B-WjLRoeZdRF",
        "colab": {
          "base_uri": "https://localhost:8080/"
        },
        "outputId": "a88a3bcf-4df0-4193-ec5e-0ff18bd62a04"
      },
      "execution_count": null,
      "outputs": [
        {
          "output_type": "execute_result",
          "data": {
            "text/plain": [
              "[0, 1]"
            ]
          },
          "metadata": {},
          "execution_count": 22
        }
      ]
    },
    {
      "cell_type": "markdown",
      "source": [
        "Now, can you rewrite using a list instead of a dictionary?"
      ],
      "metadata": {
        "id": "95Eu4ZqsasBV"
      }
    },
    {
      "cell_type": "code",
      "source": [
        "def twoSum(nums, target):\n",
        "  lst = []\n",
        "  for i in range(len(nums)):\n",
        "  # for num in nums\n",
        "      dif = target - nums[i]\n",
        "      if nums[i] in lst:\n",
        "          return [lst.index(nums[i]), i]\n",
        "      lst.append(dif)"
      ],
      "metadata": {
        "id": "u6v7APgEZZNB"
      },
      "execution_count": null,
      "outputs": []
    },
    {
      "cell_type": "markdown",
      "source": [
        "## Optional but nice to know"
      ],
      "metadata": {
        "id": "bxXyA3Elbo-C"
      }
    },
    {
      "cell_type": "markdown",
      "source": [
        "It is faster to use a dictionary than a list.\n",
        "\n",
        "Why?\n",
        "\n",
        "*   The average complexity to search, insert, and delete data in a hash table is $O(1)$\n",
        "*   The list. index() method has a time complexity of $O(n)$ in the worst case because it needs to iterate through the list to find the index of the given value.\n",
        "\n"
      ],
      "metadata": {
        "id": "InT0XzrCbB7R"
      }
    },
    {
      "cell_type": "markdown",
      "source": [
        "Time complexity measures how the runtime of an algorithm increases with the size of the input data. It is typically expressed using big O notation (e.g., $O(n), O(n^2), O(log n)$), which provides an upper bound on the growth rate of the algorithm's runtime. Similarly, we have space complexity."
      ],
      "metadata": {
        "id": "cNygR3sVbsTw"
      }
    },
    {
      "cell_type": "markdown",
      "source": [
        "| Complexity   | Name               | Description                                      |\n",
        "|--------------|--------------------|--------------------------------------------------|\n",
        "| O(1)         | Constant Time      | Algorithm's performance is constant.             |\n",
        "| O(log n)     | Logarithmic Time   | Performance grows slowly with input size.        |\n",
        "| O(n)         | Linear Time        | Performance is directly proportional to n.       |\n",
        "| O(n log n)   | Linearithmic Time  | Faster than quadratic, slower than linear.       |\n",
        "| O(n^2)       | Quadratic Time     | Performance grows with the square of n.          |\n",
        "| O(n^3)       | Cubic Time         | Performance grows with the cube of n.            |\n",
        "| O(2^n)       | Exponential Time   | Performance grows exponentially with n.           |\n",
        "| O(n!)        | Factorial Time     | Performance grows with the factorial of n.       |\n",
        "| O(n^n)       | Super-Exponential  | Performance grows super-exponentially with n.    |\n",
        "| O(2^(2^n))   | Double Exponential | Performance grows double-exponentially with n.   |"
      ],
      "metadata": {
        "id": "2U59UlCOcDwb"
      }
    }
  ]
}