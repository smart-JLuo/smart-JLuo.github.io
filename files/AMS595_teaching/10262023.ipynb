{
  "nbformat": 4,
  "nbformat_minor": 0,
  "metadata": {
    "colab": {
      "provenance": [],
      "gpuType": "T4",
      "collapsed_sections": [
        "5Bv7bGwR-hpB",
        "tHIxksQP-ttH",
        "7H15_zAbDIjO",
        "pgwaHoBkwX0X"
      ]
    },
    "kernelspec": {
      "name": "python3",
      "display_name": "Python 3"
    },
    "language_info": {
      "name": "python"
    }
  },
  "cells": [
    {
      "cell_type": "code",
      "source": [
        "%cd -"
      ],
      "metadata": {
        "colab": {
          "base_uri": "https://localhost:8080/"
        },
        "id": "v3RVpjv3rekB",
        "outputId": "8cd967e1-4cdb-4366-969b-8803d1388cf8"
      },
      "execution_count": null,
      "outputs": [
        {
          "output_type": "stream",
          "name": "stderr",
          "text": [
            "UsageError: %cd -: No previous directory to change to.\n"
          ]
        }
      ]
    },
    {
      "cell_type": "code",
      "source": [
        "!pwd"
      ],
      "metadata": {
        "colab": {
          "base_uri": "https://localhost:8080/"
        },
        "id": "V2fBHdThrsSa",
        "outputId": "2f1ca833-8d80-4331-e4ae-0ce8a2e18645"
      },
      "execution_count": null,
      "outputs": [
        {
          "output_type": "stream",
          "name": "stdout",
          "text": [
            "/content\n"
          ]
        }
      ]
    },
    {
      "cell_type": "code",
      "source": [
        "%cd drive/MyDrive/ams_595_python_teaching"
      ],
      "metadata": {
        "colab": {
          "base_uri": "https://localhost:8080/"
        },
        "id": "gGKmId6xWUrX",
        "outputId": "3881b57f-fbab-4a62-d657-f4f0f18f47fa"
      },
      "execution_count": null,
      "outputs": [
        {
          "output_type": "stream",
          "name": "stdout",
          "text": [
            "[Errno 2] No such file or directory: 'drive/MyDrive/ams_595_python_teaching'\n",
            "/content\n"
          ]
        }
      ]
    },
    {
      "cell_type": "markdown",
      "source": [
        "# **Lecture 11 Introduction to Tkinter**"
      ],
      "metadata": {
        "id": "stLvQUOqx3IJ"
      }
    },
    {
      "cell_type": "markdown",
      "source": [
        "## Tkinter"
      ],
      "metadata": {
        "id": "5Bv7bGwR-hpB"
      }
    },
    {
      "cell_type": "markdown",
      "source": [
        "Tkinter is the standard GUI library for Python. It provides a fast and easy way to create GUI applications. Here are the basics of using Tkinter:"
      ],
      "metadata": {
        "id": "tcRj6Wb2-bmw"
      }
    },
    {
      "cell_type": "markdown",
      "source": [
        "1. Creating the main window: The main window is the basis for all other widgets. You can create it using the Tk() function:"
      ],
      "metadata": {
        "id": "JzpiY9sW-k-5"
      }
    },
    {
      "cell_type": "code",
      "source": [
        "root = tk.Tk()"
      ],
      "metadata": {
        "id": "R4rxQHNg-nXX"
      },
      "execution_count": null,
      "outputs": []
    },
    {
      "cell_type": "markdown",
      "source": [
        "2. Main loop: To display the GUI, you need to start the main event loop:"
      ],
      "metadata": {
        "id": "VhIh3noe-q3H"
      }
    },
    {
      "cell_type": "code",
      "source": [
        "root.mainloop()"
      ],
      "metadata": {
        "id": "0yfwczNi-sLv"
      },
      "execution_count": null,
      "outputs": []
    },
    {
      "cell_type": "markdown",
      "source": [
        "## Widgets in Tkinter"
      ],
      "metadata": {
        "id": "tHIxksQP-ttH"
      }
    },
    {
      "cell_type": "markdown",
      "source": [
        "Tkinter provides various types of widgets to build a user interface. Here are some commonly used widgets:"
      ],
      "metadata": {
        "id": "4oYWFxvX-w13"
      }
    },
    {
      "cell_type": "markdown",
      "source": [
        "1. Label widget:"
      ],
      "metadata": {
        "id": "SrEZ2ANK-2jH"
      }
    },
    {
      "cell_type": "code",
      "source": [
        "label = tk.Label(root, text=\"Hello, Tkinter!\")\n",
        "label.pack()"
      ],
      "metadata": {
        "id": "BHbJAfFF-1YQ"
      },
      "execution_count": null,
      "outputs": []
    },
    {
      "cell_type": "markdown",
      "source": [
        "2. Button widget:"
      ],
      "metadata": {
        "id": "aO2okP_K-4pq"
      }
    },
    {
      "cell_type": "code",
      "source": [
        "def on_button_click():\n",
        "    print(\"Button clicked!\")\n",
        "\n",
        "button = tk.Button(root, text=\"Click me\", command=on_button_click)\n",
        "button.pack()"
      ],
      "metadata": {
        "id": "1DQhXSka-7KR"
      },
      "execution_count": null,
      "outputs": []
    },
    {
      "cell_type": "markdown",
      "source": [
        "3. Entry widget:"
      ],
      "metadata": {
        "id": "gBVXXE6kCgPg"
      }
    },
    {
      "cell_type": "code",
      "source": [
        "entry = tk.Entry(root)\n",
        "entry.pack()"
      ],
      "metadata": {
        "id": "XrESISKKCiU_"
      },
      "execution_count": null,
      "outputs": []
    },
    {
      "cell_type": "markdown",
      "source": [
        "4. Checkbutton widget:\n"
      ],
      "metadata": {
        "id": "jp8stPelCj8o"
      }
    },
    {
      "cell_type": "code",
      "source": [
        "checkbutton = tk.Checkbutton(root, text=\"Check me\")\n",
        "checkbutton.pack()"
      ],
      "metadata": {
        "id": "ljlReo0WCnTQ"
      },
      "execution_count": null,
      "outputs": []
    },
    {
      "cell_type": "markdown",
      "source": [
        "5. Canvas widget:"
      ],
      "metadata": {
        "id": "9Hln9VG6CpsI"
      }
    },
    {
      "cell_type": "code",
      "source": [
        "canvas = tk.Canvas(root, width=200, height=100)\n",
        "canvas.pack()\n",
        "canvas.create_line(0, 0, 200, 100, fill=\"blue\")"
      ],
      "metadata": {
        "id": "q8oc6ytbCphv"
      },
      "execution_count": null,
      "outputs": []
    },
    {
      "cell_type": "markdown",
      "source": [
        "6. More widgets: [https://www.studytonight.com/tkinter/python-tkinter-widgets](https://www.studytonight.com/tkinter/python-tkinter-widgets)"
      ],
      "metadata": {
        "id": "pzeXkfi8DCen"
      }
    },
    {
      "cell_type": "markdown",
      "source": [
        "## Layout Management"
      ],
      "metadata": {
        "id": "7H15_zAbDIjO"
      }
    },
    {
      "cell_type": "markdown",
      "source": [
        "Tkinter provides different layout managers to arrange widgets in the application. Here are some common layout managers:"
      ],
      "metadata": {
        "id": "f35w3uYyFD62"
      }
    },
    {
      "cell_type": "markdown",
      "source": [
        "1. Pack layout manager:"
      ],
      "metadata": {
        "id": "hDDUW38kFHwH"
      }
    },
    {
      "cell_type": "code",
      "source": [
        "label1 = tk.Label(root, text=\"Label 1\", bg=\"red\")\n",
        "label2 = tk.Label(root, text=\"Label 2\", bg=\"green\")\n",
        "\n",
        "label1.pack(side=tk.LEFT)\n",
        "label2.pack(side=tk.RIGHT)"
      ],
      "metadata": {
        "id": "43etnzkmEbmR"
      },
      "execution_count": null,
      "outputs": []
    },
    {
      "cell_type": "markdown",
      "source": [
        "2. Grid layout manager:"
      ],
      "metadata": {
        "id": "gHNSPoqcFLuV"
      }
    },
    {
      "cell_type": "code",
      "source": [
        "label1 = tk.Label(root, text=\"Label 1\")\n",
        "label2 = tk.Label(root, text=\"Label 2\")\n",
        "\n",
        "label1.grid(row=0, column=0)\n",
        "label2.grid(row=1, column=1)"
      ],
      "metadata": {
        "id": "p3NvAKKtFOax"
      },
      "execution_count": null,
      "outputs": []
    },
    {
      "cell_type": "markdown",
      "source": [
        "3. Place layout manager:"
      ],
      "metadata": {
        "id": "b91Ammx6FNxR"
      }
    },
    {
      "cell_type": "code",
      "source": [
        "label = tk.Label(root, text=\"Label\", bg=\"yellow\")\n",
        "label.place(x=50, y=50)"
      ],
      "metadata": {
        "id": "2uz1c4aZFSMh"
      },
      "execution_count": null,
      "outputs": []
    },
    {
      "cell_type": "markdown",
      "source": [
        "## Calculator"
      ],
      "metadata": {
        "id": "pgwaHoBkwX0X"
      }
    },
    {
      "cell_type": "markdown",
      "source": [
        "Below is the example of a calculator that we went over in class. It takes only two numbers and one operation. As an exercise, you may try to make this a more general purpose calculator by taking track of all the user input numbers and operators, also, remember to include all the necessary error trapping."
      ],
      "metadata": {
        "id": "ua7E5G7TxLQ_"
      }
    },
    {
      "cell_type": "code",
      "source": [
        "import tkinter as tk\n",
        "\n",
        "# Function to handle the click event on number buttons\n",
        "def button_click(number):\n",
        "    current = entry.get()\n",
        "    entry.delete(0, tk.END)  # Clear the current content in the entry widget;\n",
        "    # tk.END is a constant that represents the end index of a text widget or an entry widget\n",
        "    entry.insert(tk.END, current + str(number))  # Append the clicked number to the entry widget\n",
        "\n",
        "# Function to clear the content in the entry widget\n",
        "def button_clear():\n",
        "    entry.delete(0, tk.END)  # Clear the entry widget\n",
        "\n",
        "# Functions to handle different arithmetic operations\n",
        "def button_add():\n",
        "    first_number = entry.get()\n",
        "    global f_num\n",
        "    global math_operation\n",
        "    math_operation = \"addition\"  # Set the operation to addition\n",
        "    f_num = float(first_number)  # Convert the current entry to a float and store it\n",
        "    entry.delete(0, tk.END)  # Clear the entry widget\n",
        "\n",
        "def button_subtract():\n",
        "    first_number = entry.get()\n",
        "    global f_num\n",
        "    global math_operation\n",
        "    math_operation = \"subtraction\"  # Set the operation to subtraction\n",
        "    f_num = float(first_number)  # Convert the current entry to a float and store it\n",
        "    entry.delete(0, tk.END)  # Clear the entry widget\n",
        "\n",
        "def button_multiply():\n",
        "    first_number = entry.get()\n",
        "    global f_num\n",
        "    global math_operation\n",
        "    math_operation = \"multiplication\"  # Set the operation to multiplication\n",
        "    f_num = float(first_number)  # Convert the current entry to a float and store it\n",
        "    entry.delete(0, tk.END)  # Clear the entry widget\n",
        "\n",
        "def button_divide():\n",
        "    first_number = entry.get()\n",
        "    global f_num\n",
        "    global math_operation\n",
        "    math_operation = \"division\"  # Set the operation to division\n",
        "    f_num = float(first_number)  # Convert the current entry to a float and store it\n",
        "    entry.delete(0, tk.END)  # Clear the entry widget\n",
        "\n",
        "# Function to perform the calculation when the equal button is pressed\n",
        "def button_equal():\n",
        "    second_number = entry.get()\n",
        "    entry.delete(0, tk.END)  # Clear the entry widget\n",
        "    if math_operation == \"addition\":\n",
        "        entry.insert(tk.END, f_num + float(second_number))  # Perform addition and display the result\n",
        "    elif math_operation == \"subtraction\":\n",
        "        entry.insert(tk.END, f_num - float(second_number))  # Perform subtraction and display the result\n",
        "    elif math_operation == \"multiplication\":\n",
        "        entry.insert(tk.END, f_num * float(second_number))  # Perform multiplication and display the result\n",
        "    elif math_operation == \"division\":\n",
        "        if second_number == \"0\":\n",
        "            entry.insert(tk.END, \"Division by Zero Error\")  # Display an error if dividing by zero\n",
        "        else:\n",
        "            entry.insert(tk.END, f_num / float(second_number))  # Perform division and display the result\n",
        "\n",
        "# Creating the main window\n",
        "root = tk.Tk()  # Initialize the main window\n",
        "root.title(\"Calculator\")  # Set the title of the main window\n",
        "\n",
        "\n",
        "# Creating the entry widget for displaying the numbers and results\n",
        "entry = tk.Entry(root, width=35, borderwidth=5)\n",
        "entry.grid(row=0, column=0, columnspan=4, padx=10, pady=10)  # Place the entry widget in the main window\n",
        "\n",
        "# Creating number buttons\n",
        "button_1 = tk.Button(root, text=\"1\", padx=40, pady=20, command=lambda: button_click(1))\n",
        "button_2 = tk.Button(root, text=\"2\", padx=40, pady=20, command=lambda: button_click(2))\n",
        "button_3 = tk.Button(root, text=\"3\", padx=40, pady=20, command=lambda: button_click(3))\n",
        "button_4 = tk.Button(root, text=\"4\", padx=40, pady=20, command=lambda: button_click(4))\n",
        "button_5 = tk.Button(root, text=\"5\", padx=40, pady=20, command=lambda: button_click(5))\n",
        "button_6 = tk.Button(root, text=\"6\", padx=40, pady=20, command=lambda: button_click(6))\n",
        "button_7 = tk.Button(root, text=\"7\", padx=40, pady=20, command=lambda: button_click(7))\n",
        "button_8 = tk.Button(root, text=\"8\", padx=40, pady=20, command=lambda: button_click(8))\n",
        "button_9 = tk.Button(root, text=\"9\", padx=40, pady=20, command=lambda: button_click(9))\n",
        "button_0 = tk.Button(root, text=\"0\", padx=40, pady=20, command=lambda: button_click(0))\n",
        "\n",
        "# Creating operation buttons\n",
        "button_add = tk.Button(root, text=\"+\", padx=39, pady=20, command=button_add)\n",
        "button_subtract = tk.Button(root, text=\"-\", padx=40, pady=20, command=button_subtract)\n",
        "button_multiply = tk.Button(root, text=\"*\", padx=40, pady=20, command=button_multiply)\n",
        "button_divide = tk.Button(root, text=\"/\", padx=40, pady=20, command=button_divide)\n",
        "\n",
        "# Creating equal and clear buttons\n",
        "button_equal = tk.Button(root, text=\"=\", padx=86, pady=20, command=button_equal)\n",
        "button_clear = tk.Button(root, text=\"Clear\", padx=76, pady=20, command=button_clear)\n",
        "\n",
        "# Placing the buttons on the grid\n",
        "button_1.grid(row=3, column=0)\n",
        "button_2.grid(row=3, column=1)\n",
        "button_3.grid(row=3, column=2)\n",
        "\n",
        "button_4.grid(row=2, column=0)\n",
        "button_5.grid(row=2, column=1)\n",
        "button_6.grid(row=2, column=2)\n",
        "\n",
        "button_7.grid(row=1, column=0)\n",
        "button_8.grid(row=1, column=1)\n",
        "button_9.grid(row=1, column=2)\n",
        "\n",
        "button_0.grid(row=4, column=0)\n",
        "button_clear.grid(row=4, column=1, columnspan=2)\n",
        "\n",
        "button_add.grid(row=5, column=0)\n",
        "button_equal.grid(row=5, column=1, columnspan=2)\n",
        "\n",
        "button_subtract.grid(row=6, column=0)\n",
        "button_multiply.grid(row=6, column=1)\n",
        "button_divide.grid(row=6, column=2)\n",
        "\n",
        "# Running the main loop\n",
        "root.mainloop()"
      ],
      "metadata": {
        "id": "sWsXLfxcwaUB"
      },
      "execution_count": null,
      "outputs": []
    }
  ]
}