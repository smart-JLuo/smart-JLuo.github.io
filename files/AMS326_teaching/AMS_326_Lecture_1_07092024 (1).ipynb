{
  "nbformat": 4,
  "nbformat_minor": 0,
  "metadata": {
    "colab": {
      "provenance": [],
      "collapsed_sections": [
        "RO3kNJNZPIv-",
        "UBOeTCTtRZre",
        "5o6OJjdhS2fB",
        "rmHtbrPyS9GY",
        "Mcgk14SPTC5D",
        "xu5EdYBSTdoY",
        "5RFZUCSxW3YB",
        "P6mWB6XBYElK",
        "15koohCmZc7A",
        "YtuXwIxl0eg6"
      ]
    },
    "kernelspec": {
      "name": "python3",
      "display_name": "Python 3"
    },
    "language_info": {
      "name": "python"
    }
  },
  "cells": [
    {
      "cell_type": "markdown",
      "source": [
        "# Introduction to Numerical Methods and Numerical Analysis"
      ],
      "metadata": {
        "id": "RO3kNJNZPIv-"
      }
    },
    {
      "cell_type": "markdown",
      "source": [
        "\n",
        "## What are Numerical Methods?\n",
        "\n"
      ],
      "metadata": {
        "id": "UBOeTCTtRZre"
      }
    },
    {
      "cell_type": "markdown",
      "source": [
        "Numerical methods are a set of algorithms used to find approximate solutions to mathematical problems. These problems can range from finding the roots of equations to solving systems of linear equations, integrating functions, and more. These algorithms can be implemented on a computer.\n",
        "\n",
        "\n"
      ],
      "metadata": {
        "id": "5yd7eRD2SaKU"
      }
    },
    {
      "cell_type": "markdown",
      "source": [
        "## Why do we need numerical methods?\n",
        "\n",
        "\n"
      ],
      "metadata": {
        "id": "5o6OJjdhS2fB"
      }
    },
    {
      "cell_type": "markdown",
      "source": [
        "1. **Complex Problems**: Many real-world problems are too complex for analytical solutions.\n",
        "2. **Computational Power**: With modern computers, we can solve large and complex problems efficiently.\n",
        "3. **Accuracy and Precision**: Numerical methods can provide highly accurate and precise solutions when implemented correctly.\n",
        "\n",
        "### Examples:\n",
        "\n",
        "- **Engineering**: Solving differential equations in structural analysis.\n",
        "- **Physics**: Simulating physical systems and phenomena.\n",
        "- **Finance**: Pricing complex financial derivatives.\n",
        "\n"
      ],
      "metadata": {
        "id": "LVSvtgGjS4_l"
      }
    },
    {
      "cell_type": "markdown",
      "source": [
        "## Common Examples of Numerical Methods\n"
      ],
      "metadata": {
        "id": "rmHtbrPyS9GY"
      }
    },
    {
      "cell_type": "markdown",
      "source": [
        "\n",
        "### Root-Finding Algorithms\n",
        "\n",
        "- **Bisection Method**: A simple iterative method to find roots of a function.\n",
        "- **Newton-Raphson Method**: A faster, more efficient root-finding method using derivatives.\n",
        "\n",
        "### Numerical Integration\n",
        "\n",
        "- **Trapezoidal Rule**: Approximates the integral of a function by dividing the area under the curve into trapezoids.\n",
        "- **Simpson's Rule**: Uses parabolic segments to approximate the integral, providing more accuracy than the trapezoidal rule.\n",
        "\n",
        "### Solving Differential Equations\n",
        "\n",
        "- **Euler's Method**: A simple, first-order method for solving ordinary differential equations (ODEs).\n",
        "- **Runge-Kutta Methods**: More advanced methods for solving ODEs, offering higher accuracy.\n",
        "\n",
        "### Solving Linear Systems\n",
        "\n",
        "- **Gaussian Elimination**: A method for solving systems of linear equations by transforming the system into an upper triangular matrix.\n",
        "- **LU Decomposition**: Decomposes a matrix into lower and upper triangular matrices, simplifying the solution of linear systems.\n",
        "\n"
      ],
      "metadata": {
        "id": "lb6P8nVmTAFT"
      }
    },
    {
      "cell_type": "markdown",
      "source": [
        "## Some Applications of Numerical Methods\n"
      ],
      "metadata": {
        "id": "Mcgk14SPTC5D"
      }
    },
    {
      "cell_type": "markdown",
      "source": [
        "Numerical methods are used in various fields to solve complex problems that are otherwise intractable. Some examples include:\n",
        "\n",
        "### Engineering\n",
        "\n",
        "- **Finite Element Analysis (FEA)**: Used in structural engineering to analyze stress, strain, and deformation.\n",
        "- **Computational Fluid Dynamics (CFD)**: Simulates fluid flow and heat transfer in engineering systems.\n",
        "\n",
        "### Physics\n",
        "\n",
        "- **Quantum Mechanics**: Solving the Schrödinger equation for complex systems.\n",
        "- **Astrophysics**: Simulating the dynamics of galaxies and the evolution of the universe.\n",
        "\n",
        "### Finance\n",
        "\n",
        "- **Option Pricing**: Numerical methods are used to price financial derivatives, such as options.\n",
        "- **Risk Management**: Simulating financial markets to assess risk and develop strategies.\n",
        "\n",
        "### Medicine\n",
        "\n",
        "- **Medical Imaging**: Reconstruction of images from MRI and CT scans using numerical algorithms.\n",
        "- **Modeling Biological Systems**: Simulating the behavior of biological systems and processes."
      ],
      "metadata": {
        "id": "bTStoKygTFru"
      }
    },
    {
      "cell_type": "markdown",
      "source": [
        "## Conclusion"
      ],
      "metadata": {
        "id": "xu5EdYBSTdoY"
      }
    },
    {
      "cell_type": "markdown",
      "source": [
        "\n",
        "Remember that numerical methods are not merely about numbers; they are about mathematical ideas and insights.\n",
        "\n",
        "We will explore:\n",
        "\n",
        "- algorithm development;\n",
        "- implementation;\n",
        "- some analysis, including error estimates, convergence, stability, etc..\n"
      ],
      "metadata": {
        "id": "JVkxnrzoTa_z"
      }
    },
    {
      "cell_type": "markdown",
      "source": [
        "# Basics on Computer Programming"
      ],
      "metadata": {
        "id": "rK1FgA6EWzNa"
      }
    },
    {
      "cell_type": "markdown",
      "source": [
        "## What is a Computer Program?"
      ],
      "metadata": {
        "id": "5RFZUCSxW3YB"
      }
    },
    {
      "cell_type": "markdown",
      "source": [
        "- Set of instructions in the form of text to be carried out by a computer\n",
        "- CPU reads instructions in the form of machine code\n",
        "- Code is plain text, can be written in a text editor\n",
        "- Often an Integrated Development Environment (IDE) is used to make coding easier\n",
        "  - e.g. Visual Studio Code\n",
        "\n",
        "- High level vs low level:\n",
        "  - High level languages are user oriented: easier to program in but less memory efficient\n",
        "  - Low level languages are machine oriented: in some sense the opposite of high level languages, can be machine dependent\n",
        "- Compiled vs interpreted languages:\n",
        "  - Compiled languages convert source code (what you write) into machine code (executed by the processor)\n",
        "  - Interpreted languages reads and translate source code into machine code line by line\n",
        "  - Compiled languages are often faster but can have a steeper learning curve\n"
      ],
      "metadata": {
        "id": "0uTzDM15YDh1"
      }
    },
    {
      "cell_type": "markdown",
      "source": [
        "### Example of Low Level Code (Assembly Code)"
      ],
      "metadata": {
        "id": "P6mWB6XBYElK"
      }
    },
    {
      "cell_type": "markdown",
      "source": [
        "prints \"Hello, World!\""
      ],
      "metadata": {
        "id": "OgONx1GQZQUw"
      }
    },
    {
      "cell_type": "markdown",
      "source": [
        "```\n",
        "o r g 0 x100\n",
        "mov dx , msg\n",
        "mov ah , 9\n",
        "i n t 0 x21\n",
        "mov ah , 0 x4c\n",
        "i n t 0 x21\n",
        "msg db ’ H e l l o , World ! ’ , 0x0d , 0 x0a , ’ $ ’\n",
        "```\n",
        "\n",
        "\n",
        "\n"
      ],
      "metadata": {
        "id": "pFo71J-BYMaq"
      }
    },
    {
      "cell_type": "markdown",
      "source": [
        "### Example of High Level Code"
      ],
      "metadata": {
        "id": "15koohCmZc7A"
      }
    },
    {
      "cell_type": "markdown",
      "source": [
        "C:\n",
        "\n",
        "```\n",
        "#include <stdio.h>\n",
        "\n",
        "int main() {\n",
        "    printf(\"Hello, World!\\n\");\n",
        "    return 0;\n",
        "}\n",
        "```\n",
        "\n",
        "Python:\n",
        "\n",
        "```\n",
        "print(\"Hello, World!\")\n",
        "```\n",
        "Matlab:\n",
        "\n",
        "\n",
        "```\n",
        "disp('Hello, World!')\n",
        "```\n",
        "\n",
        "Java:\n",
        "```\n",
        "public class HelloWorld {\n",
        "    public static void main(String[] args) {\n",
        "        System.out.println(\"Hello, World!\");\n",
        "    }\n",
        "}\n",
        "```\n",
        "\n",
        "\n",
        "\n",
        "\n",
        "\n",
        "\n"
      ],
      "metadata": {
        "id": "mPIDzcBZZkSU"
      }
    },
    {
      "cell_type": "markdown",
      "source": [
        "## Representation of Numbers in Different Bases"
      ],
      "metadata": {
        "id": "i3azvxBpc2Mr"
      }
    },
    {
      "cell_type": "markdown",
      "source": [
        "Historically, there have been several bases for representing numbers:\n",
        "- 10: decimal, daily use;\n",
        "- 2: binary, computer use;\n",
        "- 8: octal;\n",
        "- 16: hexadecimal, ancient China;\n",
        "- 20: vigesimal, used in ancient France (numbers 70-79 are counted as $60+10$ to $60+19$ in French, and 80 is $4 \\times 20$ );\n",
        "- 60: sexagesimal, used by the Babylonians.\n",
        "- etc..."
      ],
      "metadata": {
        "id": "R8bEXlfbc7ZK"
      }
    },
    {
      "cell_type": "markdown",
      "source": [
        "In principle, one can use any number $\\beta$ as the base. Writing such a number with decimal point, we have\n",
        "$$\n",
        "\\begin{aligned}\n",
        "& \\quad　\\text{integer part} \\quad \\text{fractional part} \\\\\n",
        "& (\\overbrace{a_n a_{n-1} \\cdots a_1 a_0} \\cdot \\overbrace{b_1 b_2 b_3 \\cdots})_\\beta \\\\\n",
        "& =a_n \\beta^n+a_{n-1} \\beta^{n-1}+\\cdots+a_1 \\beta+a_0 \\quad \\text { (integer part) } \\\\\n",
        "& +b_1 \\beta^{-1}+b_2 \\beta^{-2}+b_3 \\beta^{-3}+\\cdots \\quad \\text { (fractonal part) } \\\\\n",
        "&\n",
        "\\end{aligned}\n",
        "$$\n",
        "\n",
        "The above formula allows us to convert a number in any base $\\beta$ into\n",
        "decimal base."
      ],
      "metadata": {
        "id": "oHdSoFeWdmDG"
      }
    },
    {
      "cell_type": "markdown",
      "source": [
        "### Example"
      ],
      "metadata": {
        "id": "CAt8FxNKg1W1"
      }
    },
    {
      "cell_type": "markdown",
      "source": [
        "Convert $42.45$ from decimal to binary.\n",
        "This example is of particular interests since the computer uses binary base.\n",
        "The conversion takes two steps:\n",
        "- We convert the integer part and convert $42_{10}$ into binary.\n",
        "  - Procedure: keep divided by $2$, and store the remainders of each step, until one can not divide anymore, and then reverse the remainders.\n",
        "  - The integer part is $101010_2$.\n",
        "\n",
        "| Division by 2 | Quotient | Remainder |\n",
        "| :--- | :--- | :---: |\n",
        "| 42 | 21 | 0 |\n",
        "| 21 | 10 | 1 |\n",
        "| 10 | 5 | 0 |\n",
        "| 5 | 2 | 1 |\n",
        "| 2 | 1 | 0 |\n",
        "| 1 | 0 | 1 |\n",
        "  \n",
        "\n",
        "- We now convert $(0.45)_{10}$ into binary.\n",
        "  - Procedure: multiply the fractional part by $2$, and store the integer part for the result.\n",
        "  - The fractional part is $(0.01110011001100 \\cdots)_2$, which does not end.\n",
        "  - The final result is $101010.01110011001100\\cdots_2$.\n",
        "\n",
        "| Multiplication by 2 | Integer Part |\n",
        "| :--- | :---: |\n",
        "| 0.45 \\times 2 = 0.9 | 0 |\n",
        "| 0.9 \\times 2 = 1.8 | 1 |\n",
        "| 0.8 \\times 2 = 1.6 | 1 |\n",
        "| 0.6 \\times 2 = 1.2 | 1 |\n",
        "| 0.2 \\times 2 = 0.4 | 0 |\n",
        "| 0.4 \\times 2 = 0.8 | 0 |\n",
        "\n",
        "Observation: A simple finite length decimal number could have infinite length of fractional numbers in binary form."
      ],
      "metadata": {
        "id": "PqRFcys1hbpF"
      }
    },
    {
      "cell_type": "markdown",
      "source": [
        "## Basic Data Types"
      ],
      "metadata": {
        "id": "RYv1-dJLZ4MU"
      }
    },
    {
      "cell_type": "markdown",
      "source": [
        "- Bit is the smallest unit of storage, either 0 or 1\n",
        "- 1 byte $=8$ bits\n",
        "- A few common data types include:\n",
        "  - Integers (int)\n",
        "  - Floating (float)\n",
        "  - Double (double)\n",
        "  - Characters (char)\n",
        "  - String (str)\n",
        "  - Boolean (bool)\n",
        "  - Arrays\n",
        "  - Arrays of arrays (i.e. matrices)\n",
        "  - ...and many more"
      ],
      "metadata": {
        "id": "QXxp_fKzZ6Xq"
      }
    },
    {
      "cell_type": "markdown",
      "source": [
        "### Integers:\n",
        "\n",
        "Naive approach: use the first bit to represent the sign\n",
        "\n",
        "- $0001=1$\n",
        "\n",
        "- $1001=-1$\n",
        "\n",
        "- But this idea fails, why?\n",
        "- Solution: Two's complement\n",
        "  - First bit represents largest negative number and we \"count down\"\n",
        "  - With 4 bytes we have the range $[-2147483648,2147483647]$.\n",
        "\n",
        "### Floats and Doubles:\n",
        "- How do we represent non-integers?\n",
        "- Use scientific notation in base-2\n",
        "  - Ex. $1.01101 \\times 2^{-5}$\n",
        "- The mantissa is the number being multiplied by the base raised to some exponent\n",
        "- 32-bit layout (IEEE Standard 754):\n",
        "  - Sign: 1 bit\n",
        "  - Bias Exponent: 8 bits\n",
        "  - Mantissa: 23 bits\n",
        "- 64-bit layout (IEEE Standard 754):\n",
        "  - Sign: 1 bit\n",
        "  - Bias Exponent: 11 bits\n",
        "  - Mantissa: 52 bits"
      ],
      "metadata": {
        "id": "YtuXwIxl0eg6"
      }
    },
    {
      "cell_type": "markdown",
      "source": [
        "![](https://drive.google.com/uc?export=view&id=1G1U4lbQwTGh1tt6iOf7mc3ARZjfaxkRi)"
      ],
      "metadata": {
        "id": "40fmwQSn3Ofn"
      }
    },
    {
      "cell_type": "markdown",
      "source": [
        "- Floats:\n",
        "  - Range: $\\left[1.18 \\times 10^{-38}, 3.4 \\times 10^{38}\\right]$\n",
        "  - Precision of about $6 / 7$ decimals places\n",
        "- Doubles:\n",
        "  - Range: $\\left[2.23 \\times 10^{-308}, 1.80 \\times 10^{308}\\right]$\n",
        "  - Precision of about $15 / 16$ decimal places\n"
      ],
      "metadata": {
        "id": "VzXsPkpr3kgy"
      }
    },
    {
      "cell_type": "markdown",
      "source": [
        "### Answer"
      ],
      "metadata": {
        "id": "sAyGuF8_1B0L"
      }
    },
    {
      "cell_type": "markdown",
      "source": [
        "Answer: Two's complement allows addition and subtraction to be done in the normal way (like you wound for unsigned numbers). It also prevents -0 (a separate way to represent 0 that would not be equal to 0 with the normal bit-by-bit method of comparing numbers)."
      ],
      "metadata": {
        "id": "JuQhIm0p02PW"
      }
    },
    {
      "cell_type": "markdown",
      "source": [
        "## Stability of Floating Point Arithmetic\n"
      ],
      "metadata": {
        "id": "kXSJsLpv30sg"
      }
    },
    {
      "cell_type": "markdown",
      "source": [
        "  - Floating point arithmetic does not always work as you would expect\n",
        "  - Loss of precision can sometimes be catastrophic with cancellations\n",
        "  - Highly nontrivial\n",
        "  - One of the purposes of numerical analysis"
      ],
      "metadata": {
        "id": "Q-5fAmS2321E"
      }
    },
    {
      "cell_type": "markdown",
      "source": [
        "Stability of Floating Point Arithmetic - Example\n",
        "- Consider the quadratic equation $y=.0005 x^2+100 x+.005$\n",
        "  - Suppose we wish to find its roots using the quadratic equation written as:\n",
        "$$\n",
        "x_{ \\pm}=\\frac{-b \\pm \\sqrt{b^2-4 a c}}{2 a}\n",
        "$$\n",
        "  - Using single precision, it yields"
      ],
      "metadata": {
        "id": "e_A54J5U4NBd"
      }
    },
    {
      "cell_type": "code",
      "source": [
        "import math\n",
        "import numpy as np\n",
        "def array(*args, **kwargs):\n",
        "    kwargs.setdefault(\"dtype\", np.float32)\n",
        "    return np.array(*args, **kwargs)\n",
        "\n",
        "def standard_quadratic_root(a, b, c):\n",
        "    discriminant = array(b * b - 4 * a * c)\n",
        "    sqrt_discriminant = array(np.sqrt(discriminant))\n",
        "    if discriminant >= 0:\n",
        "        x_plus = array((-b + sqrt_discriminant) / (2 * a))\n",
        "        x_minus = array((-b - sqrt_discriminant) / (2 * a))\n",
        "        return x_plus, x_minus\n",
        "    else:\n",
        "        raise ValueError(\"Discriminant is negative, no real roots exist.\")\n",
        "\n",
        "a = array(0.0005)\n",
        "b = array(100)\n",
        "c = array(0.005)\n",
        "\n",
        "\n",
        "x_plus, x_minus = standard_quadratic_root(a, b, c)\n",
        "print(f\"Non-stable roots x_plus = {x_plus}, x_minus = {x_minus}\")"
      ],
      "metadata": {
        "colab": {
          "base_uri": "https://localhost:8080/"
        },
        "id": "4nK7C1kz5D-E",
        "outputId": "cdd5df2e-1211-4a04-ddda-e677112e3060"
      },
      "execution_count": null,
      "outputs": [
        {
          "output_type": "stream",
          "name": "stdout",
          "text": [
            "Non-stable roots x_plus = 0.0, x_minus = -199999.984375\n"
          ]
        }
      ]
    },
    {
      "cell_type": "markdown",
      "source": [
        "Change to double precision simply by changing the array() function:"
      ],
      "metadata": {
        "id": "w8DqO3lo_8hA"
      }
    },
    {
      "cell_type": "code",
      "source": [
        "import math\n",
        "import numpy as np\n",
        "def array(*args, **kwargs):\n",
        "    kwargs.setdefault(\"dtype\", np.float64)\n",
        "    return np.array(*args, **kwargs)\n",
        "\n",
        "def standard_quadratic_root(a, b, c):\n",
        "    discriminant = array(b * b - 4 * a * c)\n",
        "    sqrt_discriminant = array(np.sqrt(discriminant))\n",
        "    if discriminant >= 0:\n",
        "        x_plus = array((-b + sqrt_discriminant) / (2 * a))\n",
        "        x_minus = array((-b - sqrt_discriminant) / (2 * a))\n",
        "        return x_plus, x_minus\n",
        "    else:\n",
        "        raise ValueError(\"Discriminant is negative, no real roots exist.\")\n",
        "\n",
        "a = array(0.0005)\n",
        "b = array(100)\n",
        "c = array(0.005)\n",
        "\n",
        "\n",
        "x_plus, x_minus = standard_quadratic_root(a, b, c)\n",
        "print(f\"Non-stable roots x_plus = {x_plus}, x_minus = {x_minus}\")"
      ],
      "metadata": {
        "colab": {
          "base_uri": "https://localhost:8080/"
        },
        "id": "HRac_XaLtwjN",
        "outputId": "cd3fb2a8-5b99-4394-d297-81755884009a"
      },
      "execution_count": null,
      "outputs": [
        {
          "output_type": "stream",
          "name": "stdout",
          "text": [
            "Non-stable roots x_plus = -4.999999703159119e-05, x_minus = -199999.99995000003\n"
          ]
        }
      ]
    },
    {
      "cell_type": "markdown",
      "source": [
        "Standard Quadratic Formula:\n",
        "$$\n",
        "x_{ \\pm}=\\frac{-b \\pm \\sqrt{b^2-4 a c}}{2 a}\n",
        "$$\n",
        "where $a=0.0005, b=100$, and $c=0.005$.\n",
        "\n",
        "Calculation:\n",
        "$$\n",
        "\\begin{aligned}\n",
        "b^2-4 a c & =100^2-4 \\cdot 0.0005 \\cdot 0.005 \\\\\n",
        "b^2-4 a c & =10000-0.01 \\\\\n",
        "b^2-4 a c & =9999.99\n",
        "\\end{aligned}\n",
        "$$\n",
        "\n",
        "Using single-precision floating-point arithmetic, the computation of $\\sqrt{9999.99}$ yields a result that rounds to 100 .\n",
        "$$\n",
        "\\begin{aligned}\n",
        "& x_{ \\pm}=\\frac{-100 \\pm 100}{0.001} \\\\\n",
        "& x_{ \\pm}=\\frac{-100 \\pm 100}{0.001} \\\\\n",
        "& x_{ +}=\\frac{0}{0.001}=0\n",
        "\\end{aligned}\n",
        "$$"
      ],
      "metadata": {
        "id": "Qwmbg24i74ND"
      }
    },
    {
      "cell_type": "markdown",
      "source": [
        "$\\checkmark$ Remedy:\n",
        "$$\n",
        "x_{+}=\\frac{2 c}{-b-\\sqrt{b^2-4 a c}}\n",
        "$$\n",
        "\n",
        "It yields"
      ],
      "metadata": {
        "id": "Zq675sTG4nQW"
      }
    },
    {
      "cell_type": "code",
      "source": [
        "def stable_quadratic_root(a, b, c):\n",
        "    discriminant = array(b * b - 4 * a * c)\n",
        "    sqrt_discriminant = array(math.sqrt(abs(discriminant)))\n",
        "    if discriminant >= 0:\n",
        "        if b >= 0:\n",
        "            x_r = array((-2 * c) / (b + sqrt_discriminant))\n",
        "        else:\n",
        "            x_r = array((-2 * c) / (b - sqrt_discriminant))\n",
        "        return x_r\n",
        "    else:\n",
        "        raise ValueError(\"Discriminant is negative, no real roots exist.\")\n",
        "a = array(0.0005)\n",
        "b = array(100)\n",
        "c = array(0.005)\n",
        "\n",
        "x_r = stable_quadratic_root(a, b, c)\n",
        "print(f\"Stable root x_r = {x_r}\")"
      ],
      "metadata": {
        "colab": {
          "base_uri": "https://localhost:8080/"
        },
        "id": "hrv_8qAy5Gi_",
        "outputId": "79c0f363-7abe-4c5f-a133-a900ebed6497"
      },
      "execution_count": null,
      "outputs": [
        {
          "output_type": "stream",
          "name": "stdout",
          "text": [
            "Stable root x_r = -4.999999873689376e-05\n"
          ]
        }
      ]
    },
    {
      "cell_type": "markdown",
      "source": [
        "Let $\\mathrm{fl}(x)$ denote the floating point representation of the number $x$. In general it contains error (roundoff or chopping).\n",
        "\n",
        "$$\n",
        "f l(x)=x \\cdot(1+\\delta)\n",
        "$$\n",
        "\n",
        "- relative error: $\\frac{\\mathrm{fl}(x)-x}{x}$\n",
        "- absolute error: $|f(x)-x|=|\\delta \\cdot x|$\n",
        "\n"
      ],
      "metadata": {
        "id": "xPD1e8278ZLA"
      }
    },
    {
      "cell_type": "markdown",
      "source": [
        "### Example"
      ],
      "metadata": {
        "id": "7oiBFYC-9O1W"
      }
    },
    {
      "cell_type": "markdown",
      "source": [
        "Consider an addition, say $z=x+y$, done in a computer.\n",
        "\n",
        "How would the errors be propagated?\n",
        "\n",
        "Let $x>0, y>0$, and let $\\mathrm{fl}(x), \\mathrm{fl}(y)$ be their floating point representation.\n",
        "\n",
        "$$\n",
        "\\mathrm{fl}(x)=x\\left(1+\\delta_x\\right), \\quad \\mathrm{fl}(y)=y\\left(1+\\delta_y\\right)\n",
        "$$\n",
        "where $\\delta_x, \\delta_y$ are the relative errors in $x, y$.\n",
        "\n",
        "Then\n",
        "$$\n",
        "\\begin{aligned}\n",
        "\\mathrm{fl}(z) & =\\mathrm{fl}(\\mathrm{fl}(x)+\\mathrm{fl}(y)) \\\\\n",
        "& =\\left(x\\left(1+\\delta_x\\right)+y\\left(1+\\delta_y\\right)\\right)\\left(1+\\delta_z\\right) \\\\\n",
        "& =(x+y)+x \\cdot\\left(\\delta_x+\\delta_z\\right)+y \\cdot\\left(\\delta_y+\\delta_z\\right)+\\left(x \\delta_x \\delta_z+y \\delta_y \\delta_z\\right) \\\\\n",
        "& \\approx(x+y)+x \\cdot\\left(\\delta_x+\\delta_z\\right)+y \\cdot\\left(\\delta_y+\\delta_z\\right)\n",
        "\\end{aligned}\n",
        "$$\n",
        "\n",
        "Here, $\\delta_z$ is the round-off error for $z$."
      ],
      "metadata": {
        "id": "Rg0bdO-o9RQr"
      }
    },
    {
      "cell_type": "markdown",
      "source": [
        "Then, we have\n",
        "$$\n",
        "\\begin{aligned}\n",
        " \\text { absolute error }&=\\mathrm{fl}(z)-(x+y)=x \\cdot\\left(\\delta_x+\\delta_z\\right)+y \\cdot\\left(\\delta_y+\\delta_z\\right) \\\\\n",
        "& =\\underbrace{\\underbrace{x \\cdot \\delta_x}_{\\text {abs. err. for $x$ }}+\\underbrace{y \\cdot \\delta_y}_{\\text {abs. err. for $y$ }}}_{\\text { propagated error }}+\\underbrace{(x+y) \\cdot \\delta_z}_{\\text {round off err. }} \\\\\n",
        "\\text { relative error }& =\\frac{fl(z)-(x+y)}{x+y}=\\underbrace{\\frac{x \\delta_x+y \\delta_y}{x+y}}_{\\text {propagated error }}+\\underbrace{\\delta_z}_{\\text {round off err }} \\\\\n",
        "&\n",
        "\\end{aligned}\n",
        "$$"
      ],
      "metadata": {
        "id": "ROZwD9Wy-Phr"
      }
    },
    {
      "cell_type": "markdown",
      "source": [
        "## Loss of Significance"
      ],
      "metadata": {
        "id": "tY_5d3n3v46A"
      }
    },
    {
      "cell_type": "markdown",
      "source": [
        "Loss of significance, also known as catastrophic cancellation, occurs in numerical computation when subtracting two nearly equal numbers."
      ],
      "metadata": {
        "id": "GRJbJepPwM0e"
      }
    },
    {
      "cell_type": "markdown",
      "source": [
        "Let's illustrate this. We'll calculate the value of $ f(x) = \\sqrt{x+1} - \\sqrt{x} $ for large values of $ x $ using direct subtraction and using an algebraically equivalent form that avoids loss of significance.\n",
        "\n",
        "1. **Direct Subtraction:**\n",
        "   - We compute $ \\sqrt{x+1} - \\sqrt{x} $ directly.\n",
        "2. **Alternative Method:**\n",
        "   - We use the algebraic identity:\n",
        "   $$\n",
        "   \\sqrt{x+1} - \\sqrt{x} = \\frac{(\\sqrt{x+1} - \\sqrt{x})(\\sqrt{x+1} + \\sqrt{x})}{\\sqrt{x+1} + \\sqrt{x}} = \\frac{1}{\\sqrt{x+1} + \\sqrt{x}}\n",
        "   $$\n"
      ],
      "metadata": {
        "id": "K0taoOjBwfdg"
      }
    },
    {
      "cell_type": "code",
      "source": [
        "import numpy as np\n",
        "\n",
        "def direct_subtraction(x):\n",
        "    return np.sqrt(x + 1) - np.sqrt(x)\n",
        "\n",
        "def alternative_method(x):\n",
        "    return 1 / (np.sqrt(x + 1) + np.sqrt(x))\n",
        "\n",
        "# Values of x to test\n",
        "x_values = [10**i for i in range(13, 20)]\n",
        "\n",
        "# Calculating the values of f(x) using both methods\n",
        "results_direct = [direct_subtraction(x) for x in x_values]\n",
        "results_alternative = [alternative_method(x) for x in x_values]\n",
        "\n",
        "for x, direct, alternative in zip(x_values, results_direct, results_alternative):\n",
        "    print(f\"x = {x}: direct_subtraction = {direct:.15f}, alternative_method = {alternative:.15f}\")\n"
      ],
      "metadata": {
        "colab": {
          "base_uri": "https://localhost:8080/"
        },
        "id": "BrrfL4ACxCA2",
        "outputId": "80a1baa6-3a0e-4ae4-bab1-5b002f18d18b"
      },
      "execution_count": null,
      "outputs": [
        {
          "output_type": "stream",
          "name": "stdout",
          "text": [
            "x = 10000000000000: direct_subtraction = 0.000000157859176, alternative_method = 0.000000158113883\n",
            "x = 100000000000000: direct_subtraction = 0.000000050291419, alternative_method = 0.000000050000000\n",
            "x = 1000000000000000: direct_subtraction = 0.000000018626451, alternative_method = 0.000000015811388\n",
            "x = 10000000000000000: direct_subtraction = 0.000000000000000, alternative_method = 0.000000005000000\n",
            "x = 100000000000000000: direct_subtraction = 0.000000000000000, alternative_method = 0.000000001581139\n",
            "x = 1000000000000000000: direct_subtraction = 0.000000000000000, alternative_method = 0.000000000500000\n",
            "x = 10000000000000000000: direct_subtraction = 0.000000000000000, alternative_method = 0.000000000158114\n"
          ]
        }
      ]
    },
    {
      "cell_type": "markdown",
      "source": [
        "# Review of Taylor Series and Error Analysis"
      ],
      "metadata": {
        "id": "f4NPFNBFyHC0"
      }
    },
    {
      "cell_type": "markdown",
      "source": [
        "Given that $f(x) \\in C^{\\infty}$ is a smooth function. Its Taylor expansion about the point $x=c$ is:\n",
        "$$\n",
        "\\begin{aligned}\n",
        "f(x) & =f(c)+f^{\\prime}(c)(x-c)+\\frac{1}{2!} f^{\\prime \\prime}(c)(x-c)^2+\\frac{1}{3!} f^{\\prime \\prime \\prime}(c)(x-c)^3+\\cdots \\\\\n",
        "& =\\sum_{k=0}^{\\infty} \\frac{1}{k!} f^{(k)}(c)(x-c)^k\n",
        "\\end{aligned}\n",
        "$$\n",
        "\n",
        "This is called Taylor series of $f$ at the point $c$.\n",
        "If $c=0$, this is the MacLaurin series:\n",
        "$$\n",
        "f(x)=f(0)+f^{\\prime}(0) x+\\frac{1}{2!} f^{\\prime \\prime}(0) x^2+\\frac{1}{3!} f^{\\prime \\prime \\prime}(0) x^3+\\cdots=\\sum_{k=0}^{\\infty} \\frac{1}{k!} f^{(k)}(0) x^k .\n",
        "$$"
      ],
      "metadata": {
        "id": "TTrKF1ty0dly"
      }
    },
    {
      "cell_type": "markdown",
      "source": [
        "Examples of MacLaurin Series:\n",
        "$$\n",
        "\\begin{aligned}\n",
        "e^x & =\\sum_{k=0}^{\\infty} \\frac{x^k}{k!}=1+x+\\frac{x^2}{2!}+\\frac{x^3}{3!}+\\cdots, \\quad|x|<\\infty \\\\\n",
        "\\sin x & =\\sum_{k=0}^{\\infty}(-1)^k \\frac{x^{2 k+1}}{(2 k+1)!}=x-\\frac{x^3}{3!}+\\frac{x^5}{5!}-\\frac{x^7}{7!}+\\cdots, \\quad|x|<\\infty \\\\\n",
        "\\cos x & =\\sum_{k=0}^{\\infty}(-1)^k \\frac{x^{2 k}}{(2 k)!}=1-\\frac{x^2}{2!}+\\frac{x^4}{4!}-\\frac{x^6}{6!}+\\cdots, \\quad|x|<\\infty \\\\\n",
        "\\frac{1}{1-x} & =\\sum_{k=0}^{\\infty} x^k=1+x+x^2+x^3+x^4+\\cdots, \\quad|x|<1\n",
        "\\end{aligned}\n",
        "$$"
      ],
      "metadata": {
        "id": "dJFZjhdjS0h7"
      }
    },
    {
      "cell_type": "markdown",
      "source": [
        "Since the computer performs only algebraic operation, these series are actually actually how a computer calculates many fancier functions.\n",
        "\n",
        "For example, the exponential function is calculated as\n",
        "$$\n",
        "e^x \\approx \\sum_{k=0}^N \\frac{x^k}{k!}\n",
        "$$\n",
        "for some large integer $N$ such that the error is sufficiently small."
      ],
      "metadata": {
        "id": "kFa7GMd6yEkV"
      }
    },
    {
      "cell_type": "markdown",
      "source": [
        "Example: Compute $e$ to 6 digit accuracy.\n",
        "We have\n",
        "$$\n",
        "e=e^1=1+1+\\frac{1}{2!}+\\frac{1}{3!}+\\frac{1}{4!}+\\frac{1}{5!}+\\cdots\n",
        "$$\n",
        "\n",
        "And\n",
        "$$\n",
        "\\begin{aligned}\n",
        "\\frac{1}{2!} & =0.5 \\\\\n",
        "\\frac{1}{3!} & =0.166667 \\\\\n",
        "\\frac{1}{4!} & =0.041667 \\\\\n",
        "\\cdots & \\\\\n",
        "\\frac{1}{9!} & =0.0000027 \\quad \\text { (can stop here) }\n",
        "\\end{aligned}\n",
        "$$\n",
        "so\n",
        "$$\n",
        "e \\approx 1+1+\\frac{1}{2!}+\\frac{1}{3!}+\\frac{1}{4!}+\\frac{1}{5!}+\\cdots \\frac{1}{9!}=2.71828\n",
        "$$"
      ],
      "metadata": {
        "id": "u83PK8NbyOlE"
      }
    },
    {
      "cell_type": "markdown",
      "source": [
        "Error Analysis"
      ],
      "metadata": {
        "id": "c9gij6y4yplP"
      }
    },
    {
      "cell_type": "markdown",
      "source": [
        "Assume $f^{(k)}(x)(0 \\leq k \\leq n)$ are continuous functions.\n",
        "partial sum: $f_n(x)=\\sum_{k=0}^n \\frac{1}{k!} f^{(k)}(c)(x-c)^k$\n",
        "\n",
        "Taylor Theorem:\n",
        "$$\n",
        "E_{n+1}=f(x)-f_n(x)=\\sum_{k=n+1}^{\\infty} \\frac{1}{k!} f^{(k)}(c)(x-c)^k=\\frac{1}{(n+1)!} f^{(n+1)}(\\xi)(x-c)^{n+1}\n",
        "$$\n",
        "where $\\xi$ is some value between $x$ and $c$.\n",
        "This says, for the infinite sum for the error, if it converges, then the sum is \"dominated\" by the first term in the series."
      ],
      "metadata": {
        "id": "E0spD5Swyqfw"
      }
    }
  ]
}